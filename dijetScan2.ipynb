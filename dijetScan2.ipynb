{
 "cells": [
  {
   "cell_type": "markdown",
   "metadata": {},
   "source": [
    "# Plot"
   ]
  },
  {
   "cell_type": "code",
   "execution_count": 1,
   "metadata": {},
   "outputs": [
    {
     "name": "stdout",
     "output_type": "stream",
     "text": [
      "Welcome to JupyROOT 6.24/06\n"
     ]
    }
   ],
   "source": [
    "import warnings\n",
    "warnings.filterwarnings(\"ignore\", message=\"numpy.dtype size changed\")\n",
    "import numpy as np\n",
    "import os,glob\n",
    "import itertools\n",
    "import pandas as pd\n",
    "import matplotlib.pyplot as plt\n",
    "import seaborn as sns\n",
    "from scipy.interpolate import interp1d,griddata\n",
    "from matplotlib.colors import LogNorm\n",
    "import pyslha\n",
    "from scipy.interpolate import interp1d,LinearNDInterpolator,NearestNDInterpolator\n",
    "\n",
    "\n",
    "delphesDir = os.path.abspath(\"./MG5/Delphes\")\n",
    "os.environ['ROOT_INCLUDE_PATH'] = os.path.join(delphesDir,\"external\")\n",
    "\n",
    "import ROOT\n",
    "import xml.etree.ElementTree as ET\n",
    "\n",
    "\n",
    "ROOT.gSystem.Load(os.path.join(delphesDir,\"libDelphes.so\"))\n",
    "\n",
    "ROOT.gInterpreter.Declare('#include \"classes/SortableObject.h\"')\n",
    "ROOT.gInterpreter.Declare('#include \"classes/DelphesClasses.h\"')\n",
    "ROOT.gInterpreter.Declare('#include \"external/ExRootAnalysis/ExRootTreeReader.h\"')\n",
    "\n",
    "\n",
    "pd.option_context('display.max_columns', -1)\n",
    "\n",
    "pd.options.mode.chained_assignment = None #Disable copy warnings\n",
    "# plt.style.use('fivethirtyeight') #Set style\n",
    "# mpl.rcParams.update({'figure.figsize' : (15,10)})  #Set general plotting options\n",
    "plt.rcParams.update({\n",
    "    \"text.usetex\": True,\n",
    "    \"font.family\": \"sans-serif\",\n",
    "    \"font.sans-serif\": [\"Helvetica\"]})\n",
    "\n",
    "plt.rcParams.update({\"savefig.dpi\" : 300}) #Figure resolution\n",
    "\n",
    "\n",
    "#Define plotting style:\n",
    "sns.set_style('ticks',{'font.family':'Times New Roman', 'font.serif':'Times New Roman'})\n",
    "sns.set_context('paper', font_scale=1.8)\n",
    "cm = plt.colormaps['RdYlBu']\n",
    "\n",
    "colors = sns.color_palette('Paired')"
   ]
  },
  {
   "cell_type": "code",
   "execution_count": 2,
   "metadata": {},
   "outputs": [],
   "source": [
    "def getModelDict(inputFile):\n",
    "\n",
    "    \n",
    "    modelInfoDict = {}\n",
    "    f = inputFile\n",
    "    if not os.path.isfile(f):\n",
    "        print('File %s not found' %f)\n",
    "        raise OSError()\n",
    "    parsDict = {}    \n",
    "    for banner in glob.glob(os.path.join(os.path.dirname(f),'*banner*txt')):\n",
    "        with open(banner,'r') as ff:\n",
    "            slhaData = ff.read().split('<slha>')[1].split('</slha>')[0]\n",
    "            slhaData = pyslha.readSLHA(slhaData)\n",
    "    parsDict = {}\n",
    "    parsDict['mMed'] = slhaData.blocks['MASS'][55]\n",
    "    parsDict['width'] = slhaData.decays[55].totalwidth\n",
    "    parsDict['gq'] = slhaData.blocks['DMINPUTS'][4]\n",
    "\n",
    "    modelInfoDict.update(parsDict)\n",
    "\n",
    "    return modelInfoDict"
   ]
  },
  {
   "cell_type": "code",
   "execution_count": 3,
   "metadata": {},
   "outputs": [],
   "source": [
    "def interpolateData(x,y,z,nx=200,ny=200,method='linear',fill_value=np.nan,xnew=None,ynew=None):\n",
    "\n",
    "    if x.min() == x.max() or y.min() == y.max(): # Can not interpolate\n",
    "        return None,None,None\n",
    "    elif xnew is None or ynew is None:\n",
    "        xnew = np.linspace(x.min(),x.max(),nx)\n",
    "        ynew = np.linspace(y.min(),y.max(),ny)\n",
    "\n",
    "    xi = np.array([list(v) for v in itertools.product(xnew,ynew)])\n",
    "    znew = griddata(list(zip(x,y)),z,xi=xi, \n",
    "                    method=method,fill_value=fill_value)\n",
    "    znew = np.reshape(znew,(len(xnew),len(ynew)))\n",
    "    xnew,ynew  = np.meshgrid(xnew,ynew,indexing='ij')\n",
    "\n",
    "    return xnew,ynew,znew\n",
    "\n"
   ]
  },
  {
   "cell_type": "markdown",
   "metadata": {},
   "source": [
    "### Load Recast Data"
   ]
  },
  {
   "cell_type": "code",
   "execution_count": 4,
   "metadata": {},
   "outputs": [],
   "source": [
    "inputFiles = glob.glob('./DMSimp_vector_dijet_scan2/Events/run*/*.root')\n",
    "inputDict = {}\n",
    "for f in inputFiles:\n",
    "    mDict = getModelDict(f)\n",
    "    mMed,wMed,gq = mDict['mMed'],mDict['width'],mDict['gq']\n",
    "    inputDict[(mMed,wMed,gq)] = f\n",
    "inputDict = dict(sorted(inputDict.items()))"
   ]
  },
  {
   "cell_type": "code",
   "execution_count": 5,
   "metadata": {},
   "outputs": [],
   "source": [
    "xsec = {}\n",
    "br = {}\n",
    "acc = {}\n",
    "\n",
    "for (mMed,wMed,gq),inputFile in inputDict.items():\n",
    "    f = ROOT.TFile(inputFile,'read')\n",
    "    tree = f.Get(\"Delphes\")\n",
    "    nevts = tree.GetEntries()\n",
    "    npass = 0\n",
    "    n_acc = 0\n",
    "    total_xsec = 0.0\n",
    "    for ievt in range(nevts):\n",
    "        tree.GetEntry(ievt)\n",
    "        weightPB = tree.Weight.At(1).Weight\n",
    "        total_xsec += weightPB\n",
    "        zpList = []\n",
    "        zpDaughters = {}\n",
    "        for iptc in range(tree.Particle.GetEntries()):\n",
    "#             if iptc > 100:\n",
    "#                 break\n",
    "            p = tree.Particle.At(iptc)\n",
    "#             print(iptc,':',p.PID,'->',p.D1,p.D2)\n",
    "            if abs(p.PID) == 55 and (p.D1 != p.D2):\n",
    "                zpList.append(p)\n",
    "                zpDaughters[len(zpList)-1] = []\n",
    "                for idaughter in range(p.D1,p.D2+1):\n",
    "                    zpDaughters[len(zpList)-1].append(tree.Particle.At(idaughter))\n",
    "                    \n",
    "                                                      \n",
    "        if len(zpList) != 1:\n",
    "            print('More than one mediator found in event',ievt)\n",
    "            break\n",
    "        zp = zpList[0]\n",
    "        mz = np.sqrt(zp.E**2 - zp.Px**2 - zp.Py**2 - zp.Pz**2)\n",
    "        beta = np.sqrt(zp.Px**2 + zp.Py**2 + zp.Pz**2)/zp.E\n",
    "        daughters = zpDaughters[0]\n",
    "        if len(daughters) != 2:\n",
    "            print('More than one mediator found in event',ievt)\n",
    "            break\n",
    "\n",
    "        if any(abs(d.PID) in [6,52] for d in daughters):\n",
    "            continue\n",
    "            \n",
    "        npass += 1\n",
    "        dEta = abs(daughters[0].Eta-daughters[1].Eta)\n",
    "        if dEta > 1.1:\n",
    "            continue\n",
    "        if any(abs(d.Eta) > 2.5 for d in daughters):\n",
    "            continue\n",
    "        n_acc += 1\n",
    "        \n",
    "\n",
    "    print('Mass = %1.0f' %mMed, 'Width = %1.2e' %wMed, 'Acceptance = %1.2f' %(float(n_acc)/npass))\n",
    "    print('BR = ',float(npass)/nevts)\n",
    "    print('Total xsec (pb) = %1.3e' %total_xsec)\n",
    "    print('sigma*BR*Acc = %1.3e' %(total_xsec*n_acc/nevts))\n",
    "    print()\n",
    "    xsec[(mMed,wMed,gq)] = total_xsec\n",
    "    br[(mMed,wMed,gq)] = float(npass)/nevts\n",
    "    acc[(mMed,wMed,gq)] = float(n_acc)/npass\n",
    "    f.Close()\n",
    "            "
   ]
  },
  {
   "cell_type": "markdown",
   "metadata": {},
   "source": [
    "### ATLAS values"
   ]
  },
  {
   "cell_type": "code",
   "execution_count": 6,
   "metadata": {},
   "outputs": [
    {
     "name": "stdout",
     "output_type": "stream",
     "text": [
      "{0.1, 0.55, 0.01, 0.3}\n"
     ]
    }
   ],
   "source": [
    "dataPts = []\n",
    "allw = set([])\n",
    "with open('./HEPData-ins1764471-v1-Cross-section_limits_for_a_qq,_spin_1_dijet_resonance.csv','r') as f:\n",
    "    data = f.read()\n",
    "    blocks = data.split('Resonance mass')[1:]\n",
    "    for b in blocks:\n",
    "        lines = b.split('\\n')\n",
    "        header = lines[0]\n",
    "        width = header.split(',')[-1]\n",
    "        width = width.strip()\n",
    "        width = width.split()[0]\n",
    "        width = eval(width.replace('%','*1e-2'))\n",
    "        allw.add(width)\n",
    "        for l in lines[1:]:\n",
    "            if not l.strip():\n",
    "                continue\n",
    "#             print(l)\n",
    "            try:\n",
    "                mass = eval(l.split(',')[0])\n",
    "                xsecUL = eval(l.split(',')[1])\n",
    "                w = mass*width\n",
    "                dataPts.append([mass,w,xsecUL])\n",
    "            except:\n",
    "                pass\n",
    "\n",
    "print(allw)            "
   ]
  },
  {
   "cell_type": "code",
   "execution_count": 7,
   "metadata": {},
   "outputs": [],
   "source": [
    "excCurve = np.genfromtxt('HEPData-ins1764471-v1-Coupling_limits_DM_mediator.csv',delimiter=',',skip_header=80)"
   ]
  },
  {
   "cell_type": "code",
   "execution_count": 8,
   "metadata": {},
   "outputs": [],
   "source": [
    "dataPts = np.array(dataPts)"
   ]
  },
  {
   "cell_type": "code",
   "execution_count": 9,
   "metadata": {},
   "outputs": [],
   "source": [
    "xsecUL_F = LinearNDInterpolator((dataPts[:,0],dataPts[:,1]),dataPts[:,2],fill_value=0.0)\n"
   ]
  },
  {
   "cell_type": "code",
   "execution_count": 10,
   "metadata": {},
   "outputs": [],
   "source": [
    "pts = []\n",
    "for (m,w,gq) in xsec:\n",
    "    s = xsec[(m,w,gq)]*br[(m,w,gq)]*acc[(m,w,gq)]\n",
    "    r = 1.2*s/xsecUL_F(m,w)\n",
    "    pts.append([m,gq,r])\n",
    "    print('m = %1.0f' %m,'gq = %1.2f' %gq,'(%1.2f %%)' %(1e2*w/m))\n",
    "    print(3*'%1.3f ' %(s,xsecUL_F(m,w),r))\n",
    "    print()"
   ]
  },
  {
   "cell_type": "code",
   "execution_count": 11,
   "metadata": {},
   "outputs": [],
   "source": [
    "pts = np.array(pts)"
   ]
  },
  {
   "cell_type": "code",
   "execution_count": 12,
   "metadata": {},
   "outputs": [
    {
     "ename": "IndexError",
     "evalue": "too many indices for array: array is 1-dimensional, but 2 were indexed",
     "output_type": "error",
     "traceback": [
      "\u001b[0;31m---------------------------------------------------------------------------\u001b[0m",
      "\u001b[0;31mIndexError\u001b[0m                                Traceback (most recent call last)",
      "\u001b[0;32m/tmp/ipykernel_44847/3245182338.py\u001b[0m in \u001b[0;36m<module>\u001b[0;34m\u001b[0m\n\u001b[1;32m      1\u001b[0m \u001b[0mcm\u001b[0m \u001b[0;34m=\u001b[0m \u001b[0mplt\u001b[0m\u001b[0;34m.\u001b[0m\u001b[0mcolormaps\u001b[0m\u001b[0;34m[\u001b[0m\u001b[0;34m'RdYlBu'\u001b[0m\u001b[0;34m]\u001b[0m\u001b[0;34m\u001b[0m\u001b[0;34m\u001b[0m\u001b[0m\n\u001b[0;32m----> 2\u001b[0;31m \u001b[0mplt\u001b[0m\u001b[0;34m.\u001b[0m\u001b[0mscatter\u001b[0m\u001b[0;34m(\u001b[0m\u001b[0mpts\u001b[0m\u001b[0;34m[\u001b[0m\u001b[0;34m:\u001b[0m\u001b[0;34m,\u001b[0m\u001b[0;36m0\u001b[0m\u001b[0;34m]\u001b[0m\u001b[0;34m/\u001b[0m\u001b[0;36m1e3\u001b[0m\u001b[0;34m,\u001b[0m\u001b[0mpts\u001b[0m\u001b[0;34m[\u001b[0m\u001b[0;34m:\u001b[0m\u001b[0;34m,\u001b[0m\u001b[0;36m1\u001b[0m\u001b[0;34m]\u001b[0m\u001b[0;34m,\u001b[0m\u001b[0mc\u001b[0m\u001b[0;34m=\u001b[0m\u001b[0mpts\u001b[0m\u001b[0;34m[\u001b[0m\u001b[0;34m:\u001b[0m\u001b[0;34m,\u001b[0m\u001b[0;36m2\u001b[0m\u001b[0;34m]\u001b[0m\u001b[0;34m,\u001b[0m\u001b[0mcmap\u001b[0m\u001b[0;34m=\u001b[0m\u001b[0mcm\u001b[0m\u001b[0;34m,\u001b[0m\u001b[0ms\u001b[0m\u001b[0;34m=\u001b[0m\u001b[0;36m60\u001b[0m\u001b[0;34m,\u001b[0m\u001b[0mvmin\u001b[0m\u001b[0;34m=\u001b[0m\u001b[0;36m0.\u001b[0m\u001b[0;34m,\u001b[0m\u001b[0mvmax\u001b[0m\u001b[0;34m=\u001b[0m\u001b[0;36m2.0\u001b[0m\u001b[0;34m)\u001b[0m\u001b[0;34m\u001b[0m\u001b[0;34m\u001b[0m\u001b[0m\n\u001b[0m\u001b[1;32m      3\u001b[0m \u001b[0mplt\u001b[0m\u001b[0;34m.\u001b[0m\u001b[0mplot\u001b[0m\u001b[0;34m(\u001b[0m\u001b[0mexcCurve\u001b[0m\u001b[0;34m[\u001b[0m\u001b[0;34m:\u001b[0m\u001b[0;34m,\u001b[0m\u001b[0;36m0\u001b[0m\u001b[0;34m]\u001b[0m\u001b[0;34m/\u001b[0m\u001b[0;36m1e3\u001b[0m\u001b[0;34m,\u001b[0m\u001b[0mexcCurve\u001b[0m\u001b[0;34m[\u001b[0m\u001b[0;34m:\u001b[0m\u001b[0;34m,\u001b[0m\u001b[0;36m1\u001b[0m\u001b[0;34m]\u001b[0m\u001b[0;34m,\u001b[0m\u001b[0mlabel\u001b[0m\u001b[0;34m=\u001b[0m\u001b[0;34m'ATLAS'\u001b[0m\u001b[0;34m,\u001b[0m\u001b[0mc\u001b[0m\u001b[0;34m=\u001b[0m\u001b[0;34m'black'\u001b[0m\u001b[0;34m)\u001b[0m\u001b[0;34m\u001b[0m\u001b[0;34m\u001b[0m\u001b[0m\n\u001b[1;32m      4\u001b[0m \u001b[0;34m\u001b[0m\u001b[0m\n\u001b[1;32m      5\u001b[0m \u001b[0mx\u001b[0m \u001b[0;34m=\u001b[0m \u001b[0mpts\u001b[0m\u001b[0;34m[\u001b[0m\u001b[0;34m:\u001b[0m\u001b[0;34m,\u001b[0m\u001b[0;36m0\u001b[0m\u001b[0;34m]\u001b[0m\u001b[0;34m/\u001b[0m\u001b[0;36m1e3\u001b[0m\u001b[0;34m\u001b[0m\u001b[0;34m\u001b[0m\u001b[0m\n",
      "\u001b[0;31mIndexError\u001b[0m: too many indices for array: array is 1-dimensional, but 2 were indexed"
     ]
    }
   ],
   "source": [
    "cm = plt.colormaps['RdYlBu']\n",
    "plt.scatter(pts[:,0]/1e3,pts[:,1],c=pts[:,2],cmap=cm,s=60,vmin=0.,vmax=2.0)\n",
    "plt.plot(excCurve[:,0]/1e3,excCurve[:,1],label='ATLAS',c='black')\n",
    "\n",
    "x = pts[:,0]/1e3\n",
    "y = pts[:,1]\n",
    "rValues = pts[:,2]\n",
    "xnew,ynew,znew = interpolateData(x,y,rValues,nx=300,ny=300)\n",
    "cValues = sorted([1.])\n",
    "# Get contours\n",
    "plt.colorbar(label=r'$r$-value')\n",
    "contours = plt.contour(xnew, ynew, znew, cValues, \n",
    "                       colors='red',linestyles=['dashed','solid'],linewidths=2.0)\n",
    "plt.xticks(np.arange(2.,5.5,0.5))\n",
    "plt.yticks(np.arange(0.1,0.9,0.1))\n",
    "plt.legend()\n",
    "plt.grid()\n",
    "plt.tight_layout()\n",
    "plt.show()"
   ]
  },
  {
   "cell_type": "code",
   "execution_count": null,
   "metadata": {},
   "outputs": [],
   "source": []
  }
 ],
 "metadata": {
  "kernelspec": {
   "display_name": "Python 3 (ipykernel)",
   "language": "python",
   "name": "python3"
  },
  "language_info": {
   "codemirror_mode": {
    "name": "ipython",
    "version": 3
   },
   "file_extension": ".py",
   "mimetype": "text/x-python",
   "name": "python",
   "nbconvert_exporter": "python",
   "pygments_lexer": "ipython3",
   "version": "3.9.7"
  }
 },
 "nbformat": 4,
 "nbformat_minor": 4
}
