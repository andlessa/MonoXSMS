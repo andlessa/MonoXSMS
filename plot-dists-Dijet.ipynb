{
 "cells": [
  {
   "cell_type": "markdown",
   "metadata": {},
   "source": [
    "# Plot"
   ]
  },
  {
   "cell_type": "code",
   "execution_count": 1,
   "metadata": {},
   "outputs": [
    {
     "name": "stdout",
     "output_type": "stream",
     "text": [
      "Welcome to JupyROOT 6.24/06\n"
     ]
    }
   ],
   "source": [
    "import warnings\n",
    "warnings.filterwarnings(\"ignore\", message=\"numpy.dtype size changed\")\n",
    "import numpy as np\n",
    "import os,glob\n",
    "import pandas as pd\n",
    "import matplotlib.pyplot as plt\n",
    "import seaborn as sns\n",
    "from matplotlib.colors import LogNorm\n",
    "\n",
    "delphesDir = os.path.abspath(\"./MG5/Delphes\")\n",
    "os.environ['ROOT_INCLUDE_PATH'] = os.path.join(delphesDir,\"external\")\n",
    "\n",
    "import ROOT\n",
    "import xml.etree.ElementTree as ET\n",
    "\n",
    "\n",
    "ROOT.gSystem.Load(os.path.join(delphesDir,\"libDelphes.so\"))\n",
    "\n",
    "ROOT.gInterpreter.Declare('#include \"classes/SortableObject.h\"')\n",
    "ROOT.gInterpreter.Declare('#include \"classes/DelphesClasses.h\"')\n",
    "ROOT.gInterpreter.Declare('#include \"external/ExRootAnalysis/ExRootTreeReader.h\"')\n",
    "\n",
    "\n",
    "pd.option_context('display.max_columns', -1)\n",
    "\n",
    "pd.options.mode.chained_assignment = None #Disable copy warnings\n",
    "# plt.style.use('fivethirtyeight') #Set style\n",
    "# mpl.rcParams.update({'figure.figsize' : (15,10)})  #Set general plotting options\n",
    "plt.rcParams.update({\n",
    "    \"text.usetex\": True,\n",
    "    \"font.family\": \"sans-serif\",\n",
    "    \"font.sans-serif\": [\"Helvetica\"]})\n",
    "\n",
    "plt.rcParams.update({\"savefig.dpi\" : 300}) #Figure resolution\n",
    "\n",
    "\n",
    "#Define plotting style:\n",
    "sns.set_style('ticks',{'font.family':'Times New Roman', 'font.serif':'Times New Roman'})\n",
    "sns.set_context('paper', font_scale=1.8)\n",
    "cm = plt.colormaps['RdYlBu']\n",
    "\n",
    "colors = sns.color_palette('Paired')"
   ]
  },
  {
   "cell_type": "markdown",
   "metadata": {},
   "source": [
    "### Load Recast Data"
   ]
  },
  {
   "cell_type": "code",
   "execution_count": 2,
   "metadata": {},
   "outputs": [],
   "source": [
    "inputFiles = glob.glob('./DMSimp_vector_dijet/Events/run*/*.root')\n",
    "inputDict = {}\n",
    "for f in inputFiles:\n",
    "    mMed,mDM = os.path.basename(f).split('_')[1:3]\n",
    "    inputDict[eval(mMed)] = f\n",
    "inputDict = dict(sorted(inputDict.items()))"
   ]
  },
  {
   "cell_type": "code",
   "execution_count": null,
   "metadata": {},
   "outputs": [
    {
     "name": "stdout",
     "output_type": "stream",
     "text": [
      "Mass = 2000 Acceptance = 0.41\n",
      "BR =  1.0\n",
      "Total xsec (pb) = 3.188e-01\n",
      "sigma*BR*Acc = 1.304e-01\n",
      "\n"
     ]
    }
   ],
   "source": [
    "deltaEta = {mMed : [] for mMed in inputDict}\n",
    "mList = {mMed : [] for mMed in inputDict}\n",
    "zboost = {mMed : [] for mMed in inputDict}\n",
    "xsec = {}\n",
    "br = {}\n",
    "acc = {}\n",
    "\n",
    "for mMed,inputFile in inputDict.items():\n",
    "    f = ROOT.TFile(inputFile,'read')\n",
    "    tree = f.Get(\"Delphes\")\n",
    "    nevts = tree.GetEntries()\n",
    "    npass = 0\n",
    "    n_acc = 0\n",
    "    total_xsec = 0.0\n",
    "    for ievt in range(nevts):\n",
    "        tree.GetEntry(ievt)\n",
    "        weightPB = tree.Weight.At(1).Weight\n",
    "        total_xsec += weightPB\n",
    "        zpList = []\n",
    "        zpDaughters = {}\n",
    "        for iptc in range(tree.Particle.GetEntries()):\n",
    "#             if iptc > 100:\n",
    "#                 break\n",
    "            p = tree.Particle.At(iptc)\n",
    "#             print(iptc,':',p.PID,'->',p.D1,p.D2)\n",
    "            if abs(p.PID) == 55 and (p.D1 != p.D2):\n",
    "                zpList.append(p)\n",
    "                zpDaughters[len(zpList)-1] = []\n",
    "                for idaughter in range(p.D1,p.D2+1):\n",
    "                    zpDaughters[len(zpList)-1].append(tree.Particle.At(idaughter))\n",
    "                    \n",
    "                                                      \n",
    "        if len(zpList) != 1:\n",
    "            print('More than one mediator found in event',ievt)\n",
    "            break\n",
    "        zp = zpList[0]\n",
    "        mz = np.sqrt(zp.E**2 - zp.Px**2 - zp.Py**2 - zp.Pz**2)\n",
    "        beta = np.sqrt(zp.Px**2 + zp.Py**2 + zp.Pz**2)/zp.E\n",
    "        daughters = zpDaughters[0]\n",
    "        if len(daughters) != 2:\n",
    "            print('More than one mediator found in event',ievt)\n",
    "            break\n",
    "\n",
    "        if any(abs(d.PID) in [6,52] for d in daughters):\n",
    "            continue\n",
    "            \n",
    "        npass += 1\n",
    "        mList[mMed].append(mz)\n",
    "        zboost[mMed].append(beta)\n",
    "        dEta = abs(daughters[0].Eta-daughters[1].Eta)\n",
    "        deltaEta[mMed].append(dEta)\n",
    "        \n",
    "        if dEta > 1.1:\n",
    "            continue\n",
    "        if any(abs(d.Eta) > 2.5 for d in daughters):\n",
    "            continue\n",
    "        n_acc += 1\n",
    "        \n",
    "\n",
    "    print('Mass = %1.0f' %mMed, 'Acceptance = %1.2f' %(float(n_acc)/npass))\n",
    "    print('BR = ',float(npass)/nevts)\n",
    "    print('Total xsec (pb) = %1.3e' %total_xsec)\n",
    "    print('sigma*BR*Acc = %1.3e' %(total_xsec*n_acc/nevts))\n",
    "    print()\n",
    "    xsec[mMed] = total_xsec\n",
    "    br[mMed] = float(npass)/nevts\n",
    "    acc[mMed] = float(n_acc)/npass\n",
    "    f.Close()\n",
    "            "
   ]
  },
  {
   "cell_type": "markdown",
   "metadata": {},
   "source": [
    "### ATLAS values"
   ]
  },
  {
   "cell_type": "code",
   "execution_count": null,
   "metadata": {},
   "outputs": [],
   "source": [
    "atlas_data = np.genfromtxt('./sigmaBRA_DMmed_CMS_Fig6.csv',delimiter=',',names=['mMed','sigmaBRAcc'])\n",
    "atlasF = interp1d(atlas_data['mMed'],atlas_data['sigmaBRAcc'],bounds_error=False,fill_value='extrapolate')"
   ]
  },
  {
   "cell_type": "code",
   "execution_count": null,
   "metadata": {},
   "outputs": [],
   "source": [
    "_, axarr = plt.subplots(2,sharex=True, gridspec_kw = {'height_ratios':[2, 1]},figsize=(7,7))\n",
    "plt.subplots_adjust(left=0.12, bottom=0.12, right=0.97, top=None, wspace=None, hspace=0.1)\n",
    "\n",
    "axarr[0].plot(atlas_data['mMed'],atlas_data['sigmaBRAcc'],linewidth=2,label='ATLAS')\n",
    "\n",
    "x = []\n",
    "y = []\n",
    "for mMed in acc:\n",
    "    x.append(mMed/1e3)\n",
    "    y.append(xsec[mMed]*br[mMed]*acc[mMed])\n",
    "    \n",
    "axarr[0].plot(x,y,label='NWA',linewidth=2,linestyle='dashed')    \n",
    "\n",
    "ratio = np.array(y)/atlasF(x)\n",
    "axarr[1].plot(x,ratio)\n",
    "\n",
    "axarr[1].set_yticks(np.arange(0.8,1.3,0.1))\n",
    "axarr[1].set_ylim(0.8,1.3)\n",
    "axarr[1].grid()\n",
    "\n",
    "axarr[0].set_yscale('log')\n",
    "axarr[1].set_xlabel(r'$m_{med}$ (TeV)')\n",
    "axarr[0].set_ylabel(r'$\\sigma \\times BR \\times A$')\n",
    "axarr[1].set_xticks(np.arange(2.,5.,0.5))\n",
    "axarr[1].set_xlim(2.0,5.0)\n",
    "\n",
    "axarr[0].legend()\n",
    "axarr[1].set_ylabel('Recast/ATLAS')\n",
    "\n",
    "plt.show()"
   ]
  },
  {
   "cell_type": "markdown",
   "metadata": {},
   "source": [
    "### Plot Jet Distributions"
   ]
  },
  {
   "cell_type": "code",
   "execution_count": null,
   "metadata": {},
   "outputs": [],
   "source": [
    "colors = sns.color_palette('deep',10)\n",
    "fig = plt.figure(figsize=(7,5))\n",
    "\n",
    "nplots = 0\n",
    "for mMed,mvals in mList.items():    \n",
    "    h,_,_ = plt.hist(mvals,label=r'$m_{med} = %1.0f$' %mMed,histtype='step',\n",
    "                  linewidth=2,bins=50,density=True,color=colors[nplots])\n",
    "    nplots += 1\n",
    "    \n",
    "\n",
    "plt.legend()\n",
    "plt.yscale('log')\n",
    "plt.grid()\n",
    "\n",
    "plt.xlabel(r'$M$ (GeV)')\n",
    "plt.ylabel('Normalized events')\n",
    "plt.tight_layout()\n",
    "plt.show()"
   ]
  },
  {
   "cell_type": "code",
   "execution_count": null,
   "metadata": {},
   "outputs": [],
   "source": [
    "colors = sns.color_palette('deep',10)\n",
    "fig = plt.figure(figsize=(7,5))\n",
    "\n",
    "nplots = 0\n",
    "for mMed,mvals in deltaEta.items():    \n",
    "    h,_,_ = plt.hist(mvals,label=r'$m_{med} = %1.0f$' %mMed,histtype='step',\n",
    "                  linewidth=2,bins=np.arange(0.,2.,0.2),density=True,color=colors[nplots])\n",
    "    nplots += 1\n",
    "    \n",
    "\n",
    "\n",
    "plt.xlim(0.,2.)\n",
    "# plt.yscale('log')\n",
    "plt.grid()\n",
    "plt.legend(loc='lower left')\n",
    "plt.xlabel(r'$\\Delta \\eta$')\n",
    "plt.ylabel('Normalized events')\n",
    "plt.tight_layout()\n",
    "plt.show()"
   ]
  },
  {
   "cell_type": "code",
   "execution_count": null,
   "metadata": {},
   "outputs": [],
   "source": [
    "colors = sns.color_palette('deep',10)\n",
    "fig = plt.figure(figsize=(7,5))\n",
    "\n",
    "nplots = 0\n",
    "for mMed,mvals in zboost.items():    \n",
    "    h,_,_ = plt.hist(mvals,label=r'$m_{med} = %1.0f$' %mMed,histtype='step',\n",
    "                  linewidth=2,bins=25,density=True,color=colors[nplots])\n",
    "    nplots += 1\n",
    "    \n",
    "\n",
    "plt.legend()\n",
    "# plt.yscale('log')\n",
    "plt.grid()\n",
    "\n",
    "plt.xlabel(r'$\\beta$')\n",
    "plt.ylabel('Normalized events')\n",
    "plt.tight_layout()\n",
    "plt.show()"
   ]
  },
  {
   "cell_type": "code",
   "execution_count": null,
   "metadata": {},
   "outputs": [],
   "source": []
  }
 ],
 "metadata": {
  "kernelspec": {
   "display_name": "Python 3 (ipykernel)",
   "language": "python",
   "name": "python3"
  },
  "language_info": {
   "codemirror_mode": {
    "name": "ipython",
    "version": 3
   },
   "file_extension": ".py",
   "mimetype": "text/x-python",
   "name": "python",
   "nbconvert_exporter": "python",
   "pygments_lexer": "ipython3",
   "version": "3.9.7"
  }
 },
 "nbformat": 4,
 "nbformat_minor": 4
}
