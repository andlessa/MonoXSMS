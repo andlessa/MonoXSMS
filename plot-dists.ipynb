{
 "cells": [
  {
   "cell_type": "markdown",
   "metadata": {},
   "source": [
    "# Plot"
   ]
  },
  {
   "cell_type": "code",
   "execution_count": 1,
   "metadata": {},
   "outputs": [
    {
     "name": "stdout",
     "output_type": "stream",
     "text": [
      "Welcome to JupyROOT 6.24/06\n"
     ]
    }
   ],
   "source": [
    "import warnings\n",
    "warnings.filterwarnings(\"ignore\", message=\"numpy.dtype size changed\")\n",
    "import numpy as np\n",
    "import os,glob\n",
    "import pandas as pd\n",
    "import matplotlib.pyplot as plt\n",
    "import seaborn as sns\n",
    "from matplotlib.colors import LogNorm\n",
    "\n",
    "delphesDir = os.path.abspath(\"./MG5/Delphes\")\n",
    "os.environ['ROOT_INCLUDE_PATH'] = os.path.join(delphesDir,\"external\")\n",
    "\n",
    "import ROOT\n",
    "import xml.etree.ElementTree as ET\n",
    "\n",
    "\n",
    "ROOT.gSystem.Load(os.path.join(delphesDir,\"libDelphes.so\"))\n",
    "\n",
    "ROOT.gInterpreter.Declare('#include \"classes/SortableObject.h\"')\n",
    "ROOT.gInterpreter.Declare('#include \"classes/DelphesClasses.h\"')\n",
    "ROOT.gInterpreter.Declare('#include \"external/ExRootAnalysis/ExRootTreeReader.h\"')\n",
    "\n",
    "\n",
    "pd.option_context('display.max_columns', -1)\n",
    "\n",
    "pd.options.mode.chained_assignment = None #Disable copy warnings\n",
    "# plt.style.use('fivethirtyeight') #Set style\n",
    "# mpl.rcParams.update({'figure.figsize' : (15,10)})  #Set general plotting options\n",
    "plt.rcParams.update({\n",
    "    \"text.usetex\": True,\n",
    "    \"font.family\": \"sans-serif\",\n",
    "    \"font.sans-serif\": [\"Helvetica\"]})\n",
    "\n",
    "plt.rcParams.update({\"savefig.dpi\" : 300}) #Figure resolution\n",
    "\n",
    "\n",
    "#Define plotting style:\n",
    "sns.set_style('ticks',{'font.family':'Times New Roman', 'font.serif':'Times New Roman'})\n",
    "sns.set_context('paper', font_scale=1.8)\n",
    "cm = plt.colormaps['RdYlBu']\n",
    "\n",
    "colors = sns.color_palette('Paired')"
   ]
  },
  {
   "cell_type": "markdown",
   "metadata": {},
   "source": [
    "### Load Recast Data"
   ]
  },
  {
   "cell_type": "code",
   "execution_count": 2,
   "metadata": {},
   "outputs": [],
   "source": [
    "inputFiles = glob.glob('./DMSimp_vector_0j/Events/run*/*.root')\n",
    "inputDict = {}\n",
    "for f in inputFiles:\n",
    "    mMed,mDM = os.path.basename(f).split('_')[1:3]\n",
    "    inputDict[eval(mMed)] = f\n",
    "inputDict = dict(sorted(inputDict.items()))"
   ]
  },
  {
   "cell_type": "code",
   "execution_count": 3,
   "metadata": {},
   "outputs": [],
   "source": [
    "deltaEta = {mMed : [] for mMed in inputDict}\n",
    "mList = {mMed : [] for mMed in inputDict}\n",
    "zboost = {mMed : [] for mMed in inputDict}\n",
    "\n",
    "for mMed,inputFile in inputDict.items():\n",
    "    f = ROOT.TFile(inputFile,'read')\n",
    "    tree = f.Get(\"Delphes\")\n",
    "    nevts = tree.GetEntries()\n",
    "\n",
    "    for ievt in range(nevts):\n",
    "        tree.GetEntry(ievt)\n",
    "        zpList = []\n",
    "        zpDaughters = {}\n",
    "        for iptc in range(tree.Particle.GetEntries()):\n",
    "#             if iptc > 100:\n",
    "#                 break\n",
    "            p = tree.Particle.At(iptc)\n",
    "#             print(iptc,':',p.PID,'->',p.D1,p.D2)\n",
    "            if abs(p.PID) == 55 and (p.D1 != p.D2):\n",
    "                zpList.append(p)\n",
    "                zpDaughters[len(zpList)-1] = []\n",
    "                for idaughter in range(p.D1,p.D2+1):\n",
    "                    zpDaughters[len(zpList)-1].append(tree.Particle.At(idaughter))\n",
    "                    \n",
    "                                                      \n",
    "        if len(zpList) != 1:\n",
    "            print('More than one mediator found in event',ievt)\n",
    "            break\n",
    "        zp = zpList[0]\n",
    "        mz = np.sqrt(zp.E**2 - zp.Px**2 - zp.Py**2 - zp.Pz**2)\n",
    "        beta = np.sqrt(zp.Px**2 + zp.Py**2 + zp.Pz**2)/zp.E\n",
    "        mList[mMed].append(mz)\n",
    "        zboost[mMed].append(beta)\n",
    "        daughters = zpDaughters[0]\n",
    "        if len(daughters) != 2:\n",
    "            print('More than one mediator found in event',ievt)\n",
    "            break\n",
    "        deltaEta[mMed].append(abs(daughters[0].Eta-daughters[1].Eta))\n",
    "        \n",
    "\n",
    "        \n",
    "    f.Close()\n",
    "            "
   ]
  },
  {
   "cell_type": "markdown",
   "metadata": {},
   "source": [
    "### Plot Jet Distributions"
   ]
  },
  {
   "cell_type": "code",
   "execution_count": 10,
   "metadata": {},
   "outputs": [
    {
     "data": {
      "image/png": "[encoded data removed]",
      "text/plain": [
       "<Figure size 504x360 with 1 Axes>"
      ]
     },
     "metadata": {},
     "output_type": "display_data"
    }
   ],
   "source": [
    "colors = sns.color_palette('deep',10)\n",
    "fig = plt.figure(figsize=(7,5))\n",
    "\n",
    "nplots = 0\n",
    "for mMed,mvals in mList.items():    \n",
    "    h,_,_ = plt.hist(mvals,label=r'$m_{med} = %1.0f$' %mMed,histtype='step',\n",
    "                  linewidth=2,bins=50,density=True,color=colors[nplots])\n",
    "    nplots += 1\n",
    "    \n",
    "\n",
    "plt.legend()\n",
    "plt.yscale('log')\n",
    "plt.grid()\n",
    "\n",
    "plt.xlabel(r'$M$ (GeV)')\n",
    "plt.ylabel('Normalized events')\n",
    "plt.tight_layout()\n",
    "plt.show()"
   ]
  },
  {
   "cell_type": "code",
   "execution_count": 5,
   "metadata": {},
   "outputs": [
    {
     "data": {
      "image/png": "[encoded data removed]",
      "text/plain": [
       "<Figure size 504x360 with 1 Axes>"
      ]
     },
     "metadata": {},
     "output_type": "display_data"
    }
   ],
   "source": [
    "colors = sns.color_palette('deep',10)\n",
    "fig = plt.figure(figsize=(7,5))\n",
    "\n",
    "nplots = 0\n",
    "for mMed,mvals in deltaEta.items():    \n",
    "    h,_,_ = plt.hist(mvals,label=r'$m_{med} = %1.0f$' %mMed,histtype='step',\n",
    "                  linewidth=2,bins=np.arange(0.,2.,0.25),density=True,color=colors[nplots])\n",
    "    nplots += 1\n",
    "    \n",
    "\n",
    "\n",
    "plt.xlim(0.,2.)\n",
    "# plt.yscale('log')\n",
    "plt.grid()\n",
    "plt.legend(loc='lower left')\n",
    "plt.xlabel(r'$\\Delta \\eta$')\n",
    "plt.ylabel('Normalized events')\n",
    "plt.tight_layout()\n",
    "plt.show()"
   ]
  },
  {
   "cell_type": "code",
   "execution_count": 6,
   "metadata": {},
   "outputs": [
    {
     "data": {
      "image/png": "[encoded data removed]",
      "text/plain": [
       "<Figure size 504x360 with 1 Axes>"
      ]
     },
     "metadata": {},
     "output_type": "display_data"
    }
   ],
   "source": [
    "colors = sns.color_palette('deep',10)\n",
    "fig = plt.figure(figsize=(7,5))\n",
    "\n",
    "nplots = 0\n",
    "for mMed,mvals in zboost.items():    \n",
    "    h,_,_ = plt.hist(mvals,label=r'$m_{med} = %1.0f$' %mMed,histtype='step',\n",
    "                  linewidth=2,bins=25,density=True,color=colors[nplots])\n",
    "    nplots += 1\n",
    "    \n",
    "\n",
    "plt.legend()\n",
    "# plt.yscale('log')\n",
    "plt.grid()\n",
    "\n",
    "plt.xlabel(r'$\\beta$')\n",
    "plt.ylabel('Normalized events')\n",
    "plt.tight_layout()\n",
    "plt.show()"
   ]
  },
  {
   "cell_type": "code",
   "execution_count": null,
   "metadata": {},
   "outputs": [],
   "source": []
  }
 ],
 "metadata": {
  "kernelspec": {
   "display_name": "Python 3 (ipykernel)",
   "language": "python",
   "name": "python3"
  },
  "language_info": {
   "codemirror_mode": {
    "name": "ipython",
    "version": 3
   },
   "file_extension": ".py",
   "mimetype": "text/x-python",
   "name": "python",
   "nbconvert_exporter": "python",
   "pygments_lexer": "ipython3",
   "version": "3.9.7"
  }
 },
 "nbformat": 4,
 "nbformat_minor": 4
}
