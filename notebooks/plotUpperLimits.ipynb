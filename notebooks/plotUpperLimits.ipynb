{
 "cells": [
  {
   "cell_type": "code",
   "execution_count": 1,
   "id": "ffa05a34",
   "metadata": {},
   "outputs": [],
   "source": [
    "import sys,os,glob,copy\n",
    "sys.path.append('../')\n",
    "import numpy as np\n",
    "from numpy.linalg import norm\n",
    "import pandas as pd\n",
    "from matplotlib import pyplot as plt\n",
    "import seaborn as sns\n",
    "from scipy.interpolate import LinearNDInterpolator,interp2d\n",
    "import matplotlib as mpl\n",
    "from matplotlib.colors import LogNorm\n",
    "from IPython.display import display, Markdown\n",
    "import glob\n",
    "plt.rcParams.update({\n",
    "    \"text.usetex\": True,\n",
    "    \"font.family\": \"sans-serif\",\n",
    "    \"font.sans-serif\": [\"Helvetica\"]})\n",
    "\n",
    "plt.rcParams.update({\"savefig.dpi\" : 300}) #Figure resolution\n",
    "\n",
    "\n",
    "#Define plotting style:\n",
    "sns.set() #Set style\n",
    "sns.set_style('ticks',{'font.family':'Times New Roman', 'font.serif':'Times New Roman'})\n",
    "sns.set_context('paper', font_scale=1.8)\n",
    "cm = plt.cm.get_cmap('RdYlBu')\n",
    "\n",
    "\n",
    "pd.set_option('display.max_rows', 200)"
   ]
  },
  {
   "cell_type": "markdown",
   "id": "e47e9308",
   "metadata": {},
   "source": [
    "### Load Recast Data"
   ]
  },
  {
   "cell_type": "code",
   "execution_count": 2,
   "id": "52e15d20",
   "metadata": {},
   "outputs": [],
   "source": [
    "recastData = pd.read_pickle('../scanResults.pcl')"
   ]
  },
  {
   "cell_type": "markdown",
   "id": "a77e60ac",
   "metadata": {},
   "source": [
    "### Get all model points"
   ]
  },
  {
   "cell_type": "code",
   "execution_count": 3,
   "id": "0b734947",
   "metadata": {},
   "outputs": [
    {
     "name": "stdout",
     "output_type": "stream",
     "text": [
      "3 models loaded\n"
     ]
    }
   ],
   "source": [
    "models = []\n",
    "mCols = ['Coupling','Mode','$m_{med}$','$m_{DM}$']\n",
    "for row in recastData[mCols].values:\n",
    "    m = dict(zip(mCols,row.tolist()))\n",
    "    if m not in models:\n",
    "        models.append(m)\n",
    "print('%i models loaded' %len(models))"
   ]
  },
  {
   "cell_type": "code",
   "execution_count": 4,
   "id": "505330d8",
   "metadata": {},
   "outputs": [],
   "source": [
    "# Remove duplicated data from other datasets\n",
    "modelData = recastData[recastData['Data-takingperiod'] == 2017]"
   ]
  },
  {
   "cell_type": "code",
   "execution_count": 16,
   "id": "6f7a1844",
   "metadata": {},
   "outputs": [
    {
     "data": {
      "image/png": "[encoded data removed]",
      "text/plain": [
       "<Figure size 504x360 with 2 Axes>"
      ]
     },
     "metadata": {},
     "output_type": "display_data"
    }
   ],
   "source": [
    "fig = plt.figure(figsize=(7,5))\n",
    "plt.scatter(x=modelData['$m_{med}$'],y=modelData['$m_{DM}$'],vmin=-1.0,vmax=1.0,\n",
    "            c=np.log10(modelData['$\\mu^{UL}_{obs}$']),cmap=plt.cm.get_cmap('Reds_r', 6))\n",
    "cbar = plt.colorbar(label=r'$\\log10(\\mu)$')\n",
    "cbar.set_ticks([-1.0,-0.6666,-0.3333,0.0,0.33333,0.66666,1.0])\n",
    "plt.xlabel(r'$m_{med}$ (GeV)')\n",
    "plt.ylabel(r'$m_{DM}$ (GeV)')\n",
    "plt.show()"
   ]
  }
 ],
 "metadata": {
  "kernelspec": {
   "display_name": "Python 3",
   "language": "python",
   "name": "python3"
  },
  "language_info": {
   "codemirror_mode": {
    "name": "ipython",
    "version": 3
   },
   "file_extension": ".py",
   "mimetype": "text/x-python",
   "name": "python",
   "nbconvert_exporter": "python",
   "pygments_lexer": "ipython3",
   "version": "3.9.7"
  }
 },
 "nbformat": 4,
 "nbformat_minor": 5
}
