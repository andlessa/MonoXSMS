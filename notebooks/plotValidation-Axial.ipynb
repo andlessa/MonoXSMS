{
 "cells": [
  {
   "cell_type": "code",
   "execution_count": 1,
   "id": "ffa05a34",
   "metadata": {},
   "outputs": [],
   "source": [
    "import sys,os,glob,copy\n",
    "sys.path.append('../')\n",
    "import numpy as np\n",
    "from numpy.linalg import norm\n",
    "import pandas as pd\n",
    "from matplotlib import pyplot as plt\n",
    "import seaborn as sns\n",
    "from scipy.interpolate import LinearNDInterpolator,interp2d, griddata\n",
    "from itertools import product\n",
    "import matplotlib as mpl\n",
    "from matplotlib.colors import LogNorm\n",
    "from IPython.display import display, Markdown\n",
    "import glob\n",
    "plt.rcParams.update({\n",
    "    \"text.usetex\": True,\n",
    "    \"font.family\": \"sans-serif\",\n",
    "    \"font.sans-serif\": [\"Helvetica\"]})\n",
    "\n",
    "plt.rcParams.update({\"savefig.dpi\" : 300}) #Figure resolution\n",
    "\n",
    "\n",
    "#Define plotting style:\n",
    "sns.set() #Set style\n",
    "sns.set_style('ticks',{'font.family':'Times New Roman', 'font.serif':'Times New Roman'})\n",
    "sns.set_context('paper', font_scale=1.8)\n",
    "cm = plt.cm.get_cmap('RdYlBu')\n",
    "\n",
    "\n",
    "pd.set_option('display.max_rows', 200)"
   ]
  },
  {
   "cell_type": "markdown",
   "id": "85a0e3a9",
   "metadata": {},
   "source": [
    "### Load CMS exclusion curve"
   ]
  },
  {
   "cell_type": "code",
   "execution_count": 2,
   "id": "63865e60",
   "metadata": {},
   "outputs": [
    {
     "name": "stdout",
     "output_type": "stream",
     "text": [
      "('m_med_GeV', 'm_chi_GeV')\n"
     ]
    }
   ],
   "source": [
    "cmsCurve = np.genfromtxt('../AuxInfo/CMS-EXO-20-004-data/HEPData-ins1894408-v2-csv/2Dexclusioncontour,axial,Observed.csv',\n",
    "                        skip_header=12,names=True,delimiter=',')\n",
    "cmsData = pd.read_pickle('../AuxInfo/CMS-EXO-20-004-data/DMsimp_spin-1_Monojet_DF.pcl')\n",
    "print(cmsCurve.dtype.names)"
   ]
  },
  {
   "cell_type": "markdown",
   "id": "e47e9308",
   "metadata": {},
   "source": [
    "### Load Recast Data"
   ]
  },
  {
   "cell_type": "code",
   "execution_count": 3,
   "id": "52e15d20",
   "metadata": {},
   "outputs": [
    {
     "ename": "FileNotFoundError",
     "evalue": "[Errno 2] No such file or directory: '../scanResults_axial.pcl'",
     "output_type": "error",
     "traceback": [
      "\u001b[0;31m---------------------------------------------------------------------------\u001b[0m",
      "\u001b[0;31mFileNotFoundError\u001b[0m                         Traceback (most recent call last)",
      "Input \u001b[0;32mIn [3]\u001b[0m, in \u001b[0;36m<cell line: 1>\u001b[0;34m()\u001b[0m\n\u001b[0;32m----> 1\u001b[0m recastData \u001b[38;5;241m=\u001b[39m \u001b[43mpd\u001b[49m\u001b[38;5;241;43m.\u001b[39;49m\u001b[43mread_pickle\u001b[49m\u001b[43m(\u001b[49m\u001b[38;5;124;43m'\u001b[39;49m\u001b[38;5;124;43m../scanResults_axial.pcl\u001b[39;49m\u001b[38;5;124;43m'\u001b[39;49m\u001b[43m)\u001b[49m\n",
      "File \u001b[0;32m~/.local/lib/python3.10/site-packages/pandas/io/pickle.py:187\u001b[0m, in \u001b[0;36mread_pickle\u001b[0;34m(filepath_or_buffer, compression, storage_options)\u001b[0m\n\u001b[1;32m    124\u001b[0m \u001b[38;5;250m\u001b[39m\u001b[38;5;124;03m\"\"\"\u001b[39;00m\n\u001b[1;32m    125\u001b[0m \u001b[38;5;124;03mLoad pickled pandas object (or any object) from file.\u001b[39;00m\n\u001b[1;32m    126\u001b[0m \n\u001b[0;32m   (...)\u001b[0m\n\u001b[1;32m    184\u001b[0m \u001b[38;5;124;03m4    4    9\u001b[39;00m\n\u001b[1;32m    185\u001b[0m \u001b[38;5;124;03m\"\"\"\u001b[39;00m  \u001b[38;5;66;03m# noqa: E501\u001b[39;00m\n\u001b[1;32m    186\u001b[0m excs_to_catch \u001b[38;5;241m=\u001b[39m (\u001b[38;5;167;01mAttributeError\u001b[39;00m, \u001b[38;5;167;01mImportError\u001b[39;00m, \u001b[38;5;167;01mModuleNotFoundError\u001b[39;00m, \u001b[38;5;167;01mTypeError\u001b[39;00m)\n\u001b[0;32m--> 187\u001b[0m \u001b[38;5;28;01mwith\u001b[39;00m \u001b[43mget_handle\u001b[49m\u001b[43m(\u001b[49m\n\u001b[1;32m    188\u001b[0m \u001b[43m    \u001b[49m\u001b[43mfilepath_or_buffer\u001b[49m\u001b[43m,\u001b[49m\n\u001b[1;32m    189\u001b[0m \u001b[43m    \u001b[49m\u001b[38;5;124;43m\"\u001b[39;49m\u001b[38;5;124;43mrb\u001b[39;49m\u001b[38;5;124;43m\"\u001b[39;49m\u001b[43m,\u001b[49m\n\u001b[1;32m    190\u001b[0m \u001b[43m    \u001b[49m\u001b[43mcompression\u001b[49m\u001b[38;5;241;43m=\u001b[39;49m\u001b[43mcompression\u001b[49m\u001b[43m,\u001b[49m\n\u001b[1;32m    191\u001b[0m \u001b[43m    \u001b[49m\u001b[43mis_text\u001b[49m\u001b[38;5;241;43m=\u001b[39;49m\u001b[38;5;28;43;01mFalse\u001b[39;49;00m\u001b[43m,\u001b[49m\n\u001b[1;32m    192\u001b[0m \u001b[43m    \u001b[49m\u001b[43mstorage_options\u001b[49m\u001b[38;5;241;43m=\u001b[39;49m\u001b[43mstorage_options\u001b[49m\u001b[43m,\u001b[49m\n\u001b[1;32m    193\u001b[0m \u001b[43m\u001b[49m\u001b[43m)\u001b[49m \u001b[38;5;28;01mas\u001b[39;00m handles:\n\u001b[1;32m    194\u001b[0m \n\u001b[1;32m    195\u001b[0m     \u001b[38;5;66;03m# 1) try standard library Pickle\u001b[39;00m\n\u001b[1;32m    196\u001b[0m     \u001b[38;5;66;03m# 2) try pickle_compat (older pandas version) to handle subclass changes\u001b[39;00m\n\u001b[1;32m    197\u001b[0m     \u001b[38;5;66;03m# 3) try pickle_compat with latin-1 encoding upon a UnicodeDecodeError\u001b[39;00m\n\u001b[1;32m    199\u001b[0m     \u001b[38;5;28;01mtry\u001b[39;00m:\n\u001b[1;32m    200\u001b[0m         \u001b[38;5;66;03m# TypeError for Cython complaints about object.__new__ vs Tick.__new__\u001b[39;00m\n\u001b[1;32m    201\u001b[0m         \u001b[38;5;28;01mtry\u001b[39;00m:\n",
      "File \u001b[0;32m~/.local/lib/python3.10/site-packages/pandas/io/common.py:798\u001b[0m, in \u001b[0;36mget_handle\u001b[0;34m(path_or_buf, mode, encoding, compression, memory_map, is_text, errors, storage_options)\u001b[0m\n\u001b[1;32m    789\u001b[0m         handle \u001b[38;5;241m=\u001b[39m \u001b[38;5;28mopen\u001b[39m(\n\u001b[1;32m    790\u001b[0m             handle,\n\u001b[1;32m    791\u001b[0m             ioargs\u001b[38;5;241m.\u001b[39mmode,\n\u001b[0;32m   (...)\u001b[0m\n\u001b[1;32m    794\u001b[0m             newline\u001b[38;5;241m=\u001b[39m\u001b[38;5;124m\"\u001b[39m\u001b[38;5;124m\"\u001b[39m,\n\u001b[1;32m    795\u001b[0m         )\n\u001b[1;32m    796\u001b[0m     \u001b[38;5;28;01melse\u001b[39;00m:\n\u001b[1;32m    797\u001b[0m         \u001b[38;5;66;03m# Binary mode\u001b[39;00m\n\u001b[0;32m--> 798\u001b[0m         handle \u001b[38;5;241m=\u001b[39m \u001b[38;5;28;43mopen\u001b[39;49m\u001b[43m(\u001b[49m\u001b[43mhandle\u001b[49m\u001b[43m,\u001b[49m\u001b[43m \u001b[49m\u001b[43mioargs\u001b[49m\u001b[38;5;241;43m.\u001b[39;49m\u001b[43mmode\u001b[49m\u001b[43m)\u001b[49m\n\u001b[1;32m    799\u001b[0m     handles\u001b[38;5;241m.\u001b[39mappend(handle)\n\u001b[1;32m    801\u001b[0m \u001b[38;5;66;03m# Convert BytesIO or file objects passed with an encoding\u001b[39;00m\n",
      "\u001b[0;31mFileNotFoundError\u001b[0m: [Errno 2] No such file or directory: '../scanResults_axial.pcl'"
     ]
    }
   ],
   "source": [
    "recastData = pd.read_pickle('../scanResults_axial.pcl')"
   ]
  },
  {
   "cell_type": "markdown",
   "id": "a77e60ac",
   "metadata": {},
   "source": [
    "### Get all model points"
   ]
  },
  {
   "cell_type": "code",
   "execution_count": null,
   "id": "0b734947",
   "metadata": {},
   "outputs": [],
   "source": [
    "models = []\n",
    "mCols = ['Coupling','Mode','$m_{med}$','$m_{DM}$','$g_{DM}$', '$g_{q}$']\n",
    "for row in recastData[mCols].values:\n",
    "    m = dict(zip(mCols,row.tolist()))\n",
    "    if m not in models:\n",
    "        models.append(m)\n",
    "print('%i models loaded' %len(models))"
   ]
  },
  {
   "cell_type": "markdown",
   "id": "c0e7864a",
   "metadata": {},
   "source": [
    "### Get model parameters"
   ]
  },
  {
   "cell_type": "code",
   "execution_count": null,
   "id": "5a0e963d",
   "metadata": {},
   "outputs": [],
   "source": [
    "parameters = {label : list(set([m[label] for m in models])) for label in mCols}\n",
    "for k,v in parameters.items():\n",
    "    if len(v) == 1:\n",
    "        parameters[k] = v[0]\n",
    "print(parameters)\n",
    "\n",
    "textstr = '\\n'.join([r'%s = %s' %(k,v) for k,v in parameters.items() if k not in ['$m_{med}$','$m_{DM}$']])\n",
    "print(textstr)"
   ]
  },
  {
   "cell_type": "code",
   "execution_count": null,
   "id": "505330d8",
   "metadata": {},
   "outputs": [],
   "source": [
    "# Remove duplicated data from other datasets\n",
    "recastData = recastData[recastData['Data-takingperiod'] == 2017]\n",
    "cmsData = cmsData[cmsData['Data-takingperiod'] == 2017]"
   ]
  },
  {
   "cell_type": "code",
   "execution_count": null,
   "id": "17d60e03",
   "metadata": {},
   "outputs": [],
   "source": [
    "kfactor = 1.0\n",
    "lmuData = np.log10(recastData['$\\mu^{UL}_{obs}$']/kfactor)"
   ]
  },
  {
   "cell_type": "code",
   "execution_count": null,
   "id": "6f7a1844",
   "metadata": {},
   "outputs": [],
   "source": [
    "fig = plt.figure(figsize=(7,5))\n",
    "plt.scatter(x=recastData['$m_{med}$'],y=recastData['$m_{DM}$'],vmin=-1.0,vmax=1.0,\n",
    "            c=lmuData,cmap=plt.cm.get_cmap('Reds_r', 6),s=60)\n",
    "cbar = plt.colorbar(label=r'$\\log10(\\mu)$')\n",
    "cbar.set_ticks([-1.0,-0.6666,-0.3333,0.0,0.33333,0.66666,1.0])\n",
    "plt.plot(cmsCurve['m_med_GeV'],cmsCurve['m_chi_GeV'],label='CMS',linewidth=2,color='black')\n",
    "plt.xlabel(r'$m_{med}$ (GeV)')\n",
    "plt.ylabel(r'$m_{DM}$ (GeV)')\n",
    "plt.ylim(-10,1000)\n",
    "plt.xlim(0,3000)\n",
    "plt.title('kfactor = %1.2f' %kfactor)\n",
    "plt.text(0.1,0.7,textstr,fontsize=16,bbox=dict(facecolor='none', edgecolor='black'),\n",
    "         transform = plt.gca().transAxes)\n",
    "plt.show()"
   ]
  },
  {
   "cell_type": "markdown",
   "id": "a214a413",
   "metadata": {},
   "source": [
    "### Interpolate for a denser grid"
   ]
  },
  {
   "cell_type": "code",
   "execution_count": null,
   "id": "679b1790",
   "metadata": {},
   "outputs": [],
   "source": [
    "pts = np.array([x for x in product(np.linspace(0,2500.,100),np.linspace(0,1500.,100)) if x[0] > x[1]])\n",
    "lmuPts = griddata(list(zip(recastData['$m_{med}$'],recastData['$m_{DM}$'])),\n",
    "                  lmuData,pts)\n",
    "pts = pts[~np.isnan(lmuPts)]\n",
    "lmuPts = lmuPts[~np.isnan(lmuPts)]"
   ]
  },
  {
   "cell_type": "code",
   "execution_count": null,
   "id": "d04315ab",
   "metadata": {
    "scrolled": true
   },
   "outputs": [],
   "source": [
    "fig,ax = plt.subplots(figsize=(20,7),ncols=2,nrows=1)\n",
    "\n",
    "\n",
    "p = ax[0].scatter(x=pts[:,0],y=pts[:,1],vmin=-1.0,vmax=1.0,\n",
    "            c=lmuPts,cmap=plt.cm.get_cmap('Reds_r', 6))\n",
    "cbar = plt.colorbar(p,label=r'$\\log10(\\mu)$',ax=ax[0])\n",
    "cbar.set_ticks([-1.0,-0.6666,-0.3333,0.0,0.33333,0.66666,1.0])\n",
    "cs = ax[0].tricontour(pts[:,0],pts[:,1],lmuPts,levels=[0.0],\n",
    "               linewidths=2,linestyles='dashed',colors='black')\n",
    "cs.collections[0].set_label('Recast')\n",
    "\n",
    "ax[0].plot(cmsCurve['m_med_GeV'],cmsCurve['m_chi_GeV'],label='CMS',linewidth=2,color='black')\n",
    "ax[0].legend(loc='upper right')\n",
    "ax[0].set_xlabel(r'$m_{med}$ (GeV)')\n",
    "ax[0].set_ylabel(r'$m_{DM}$ (GeV)')\n",
    "ax[0].set_ylim(-10,1500)\n",
    "ax[0].set_xlim(0,3000)\n",
    "ax[0].minorticks_on()\n",
    "ax[0].text(0.05,0.6,textstr,fontsize=16,bbox=dict(facecolor='none', edgecolor='black'),\n",
    "         transform = ax[0].transAxes)\n",
    "ax[0].set_title('kfactor = %1.2f' %kfactor)\n",
    "\n",
    "cmsPlot = plt.imread('../AuxInfo/CMS-EXO-20-004-data/CMS-EXO-20-004_Figure_007-a.png')\n",
    "ax[1].imshow(cmsPlot)\n",
    "ax[1].axis('off')\n",
    "plt.tight_layout()\n",
    "plt.savefig('cms_exo_20_004_axial.png')\n",
    "plt.show()"
   ]
  },
  {
   "cell_type": "markdown",
   "id": "4110d7e9",
   "metadata": {},
   "source": [
    "### Get all model points with common models to CMS data"
   ]
  },
  {
   "cell_type": "code",
   "execution_count": null,
   "id": "1ae4d802",
   "metadata": {},
   "outputs": [],
   "source": [
    "keys = list(cmsData[mCols].columns.values)\n",
    "i1 = recastData.set_index(keys).index\n",
    "i2 = cmsData.set_index(keys).index\n",
    "recastData = recastData[i1.isin(i2)]\n",
    "cmsData = cmsData[i2.isin(i1)]\n",
    "print(len(recastData),len(cmsData))"
   ]
  },
  {
   "cell_type": "code",
   "execution_count": null,
   "id": "881b6f48",
   "metadata": {},
   "outputs": [],
   "source": [
    "recastData.sort_values(['Coupling','Mode','$m_{med}$','$m_{DM}$','Data-takingperiod'],inplace=True,\n",
    "                ascending=[False,False,True,True,False],ignore_index=True)  \n",
    "cmsData.sort_values(['Coupling','Mode','$m_{med}$','$m_{DM}$','Data-takingperiod'],inplace=True,\n",
    "                ascending=[False,False,True,True,False],ignore_index=True)                "
   ]
  },
  {
   "cell_type": "markdown",
   "id": "d37d2285",
   "metadata": {},
   "source": [
    "### Add ratio of upper limits for the common points"
   ]
  },
  {
   "cell_type": "code",
   "execution_count": null,
   "id": "c7aaa624",
   "metadata": {},
   "outputs": [],
   "source": [
    "recastData['UL ratio'] = (recastData['$\\mu^{UL}_{obs}$']/kfactor)/cmsData['$\\mu^{UL}_{obs}$']"
   ]
  },
  {
   "cell_type": "code",
   "execution_count": null,
   "id": "79155edd",
   "metadata": {},
   "outputs": [],
   "source": [
    "fig = plt.figure(figsize=(7,5))\n",
    "plt.scatter(x=recastData['$m_{med}$'],y=recastData['$m_{DM}$'],vmin=0.7,vmax=1.3,\n",
    "            c=recastData['UL ratio'],cmap=plt.cm.get_cmap('RdYlBu'),s=80)\n",
    "cbar = plt.colorbar(label=r'$\\mu^{Recast}_{UL}/\\mu^{CMS}_{UL}$')\n",
    "# cbar.set_ticks([0.5,0.75,1.0,1.25,1.5,1.75,2.0])\n",
    "\n",
    "plt.xlabel(r'$m_{med}$ (GeV)')\n",
    "plt.ylabel(r'$m_{DM}$ (GeV)')\n",
    "# plt.ylim(-10,1000)\n",
    "# plt.xlim(0,3000)\n",
    "# plt.yscale('log')\n",
    "plt.title('kfactor = %1.2f' %kfactor)\n",
    "plt.show()"
   ]
  },
  {
   "cell_type": "markdown",
   "id": "0deb72b7",
   "metadata": {},
   "source": [
    "### Get all model points with mDM = 1 GeV"
   ]
  },
  {
   "cell_type": "code",
   "execution_count": null,
   "id": "5eb2ac6d",
   "metadata": {},
   "outputs": [],
   "source": [
    "recastData = recastData[(recastData['$m_{DM}$'] == 1.0)]\n",
    "cmsData = cmsData[(cmsData['$m_{DM}$'] == 1.0)]"
   ]
  },
  {
   "cell_type": "code",
   "execution_count": null,
   "id": "bd6f2bfa",
   "metadata": {},
   "outputs": [],
   "source": [
    "fig,ax = plt.subplots(figsize=(7,5),ncols=1,nrows=1)\n",
    "ax.plot(cmsData['$m_{med}$'],cmsData['$\\mu^{UL}_{obs}$'],label='CMS (monojet)',linewidth=2,color='black')\n",
    "\n",
    "ax.fill_between(recastData['$m_{med}$'],1.1*recastData['$\\mu^{UL}_{obs}$']/kfactor,\n",
    "                 0.9*recastData['$\\mu^{UL}_{obs}$']/kfactor,\n",
    "                alpha=0.5,linewidth=0,label=r'$\\pm 10$\\%' )\n",
    "    \n",
    "ax.plot(recastData['$m_{med}$'],recastData['$\\mu^{UL}_{obs}$']/kfactor,\n",
    "         linestyle='--',label='Recast',linewidth=3,markersize=7)\n",
    "    \n",
    "\n",
    "# plt.hlines(y=1.0,xmin=modelData['$m_{med}$'].min(),xmax=modelData['$m_{med}$'].max(),color='blue')\n",
    "ax.set_xlabel(r'$m_{med}$ (GeV)')\n",
    "ax.set_ylabel(r'95\\% CL upper limit on $\\mu$')\n",
    "# plt.ylim(-10,1000)\n",
    "# plt.xlim(0,3000)\n",
    "ax.set_title('kfactor = %1.2f, $m_{DM}$ = %1.2f' %(kfactor,recastData['$m_{DM}$'].unique()[0]))\n",
    "ax.legend()\n",
    "ax.grid()\n",
    "\n",
    "plt.tight_layout()\n",
    "plt.savefig('cms_exo_20_004_axial2.png')\n",
    "plt.show()"
   ]
  },
  {
   "cell_type": "code",
   "execution_count": null,
   "id": "adab14d1",
   "metadata": {},
   "outputs": [],
   "source": []
  }
 ],
 "metadata": {
  "kernelspec": {
   "display_name": "Python 3 (ipykernel)",
   "language": "python",
   "name": "python3"
  },
  "language_info": {
   "codemirror_mode": {
    "name": "ipython",
    "version": 3
   },
   "file_extension": ".py",
   "mimetype": "text/x-python",
   "name": "python",
   "nbconvert_exporter": "python",
   "pygments_lexer": "ipython3",
   "version": "3.10.12"
  },
  "vscode": {
   "interpreter": {
    "hash": "e7370f93d1d0cde622a1f8e1c04877d8463912d04d973331ad4851f04de6915a"
   }
  }
 },
 "nbformat": 4,
 "nbformat_minor": 5
}
