{
 "cells": [
  {
   "cell_type": "code",
   "execution_count": 2,
   "id": "ffa05a34",
   "metadata": {},
   "outputs": [],
   "source": [
    "import sys,os,glob,copy\n",
    "sys.path.append('../')\n",
    "import numpy as np\n",
    "from numpy.linalg import norm\n",
    "import pandas as pd\n",
    "from matplotlib import pyplot as plt\n",
    "import seaborn as sns\n",
    "from scipy.interpolate import LinearNDInterpolator,interp2d, griddata\n",
    "from itertools import product\n",
    "import matplotlib as mpl\n",
    "from matplotlib.colors import LogNorm\n",
    "from IPython.display import display, Markdown\n",
    "import glob\n",
    "plt.rcParams.update({\n",
    "    \"text.usetex\": True,\n",
    "    \"font.family\": \"sans-serif\",\n",
    "    \"font.sans-serif\": [\"Helvetica\"]})\n",
    "\n",
    "plt.rcParams.update({\"savefig.dpi\" : 300}) #Figure resolution\n",
    "\n",
    "\n",
    "#Define plotting style:\n",
    "sns.set() #Set style\n",
    "sns.set_style('ticks',{'font.family':'Times New Roman', 'font.serif':'Times New Roman'})\n",
    "sns.set_context('paper', font_scale=1.8)\n",
    "cm = plt.cm.get_cmap('RdYlBu')\n",
    "\n",
    "\n",
    "pd.set_option('display.max_rows', 200)"
   ]
  },
  {
   "cell_type": "markdown",
   "id": "85a0e3a9",
   "metadata": {},
   "source": [
    "### Load CMS signal strength limit"
   ]
  },
  {
   "cell_type": "code",
   "execution_count": 3,
   "id": "63865e60",
   "metadata": {},
   "outputs": [
    {
     "name": "stdout",
     "output_type": "stream",
     "text": [
      "('m_med_GeV', 'Signal_strength_limit')\n"
     ]
    }
   ],
   "source": [
    "cmsCurve = np.genfromtxt('../AuxInfo/CMS-EXO-20-004-data/HEPData-ins1894408-v2-csv/Signalstrengthlimits,scalarmediator.csv',\n",
    "                        skip_header=14,names=True,delimiter=',',skip_footer=60)\n",
    "print(cmsCurve.dtype.names)"
   ]
  },
  {
   "cell_type": "markdown",
   "id": "e47e9308",
   "metadata": {},
   "source": [
    "### Load Recast Data"
   ]
  },
  {
   "cell_type": "code",
   "execution_count": 4,
   "id": "52e15d20",
   "metadata": {},
   "outputs": [],
   "source": [
    "# recastData = pd.read_pickle('../scanResults_scalar.pcl')\n",
    "recastData = pd.read_pickle('../AuxInfo/CMS-EXO-20-004-data/DMsimp_spin-0_Monojet_DF.pcl')"
   ]
  },
  {
   "cell_type": "markdown",
   "id": "a77e60ac",
   "metadata": {},
   "source": [
    "### Get all model points with mDM = 1 GeV"
   ]
  },
  {
   "cell_type": "code",
   "execution_count": 8,
   "id": "0b734947",
   "metadata": {},
   "outputs": [
    {
     "name": "stdout",
     "output_type": "stream",
     "text": [
      "12 models loaded\n"
     ]
    }
   ],
   "source": [
    "recastData = recastData[(recastData['$m_{DM}$'] == 1.0) & (recastData['Coupling'] == 'Scalar')]\n",
    "models = []\n",
    "mCols = ['Coupling','Mode','$m_{med}$','$m_{DM}$','$g_{DM}$', '$g_{q}$']\n",
    "for row in recastData[mCols].values:\n",
    "    m = dict(zip(mCols,row.tolist()))\n",
    "    \n",
    "    if m not in models:\n",
    "        models.append(m)\n",
    "print('%i models loaded' %len(models))"
   ]
  },
  {
   "cell_type": "markdown",
   "id": "c0e7864a",
   "metadata": {},
   "source": [
    "### Get model parameters"
   ]
  },
  {
   "cell_type": "code",
   "execution_count": 9,
   "id": "5a0e963d",
   "metadata": {},
   "outputs": [
    {
     "name": "stdout",
     "output_type": "stream",
     "text": [
      "{'Coupling': 'Scalar', 'Mode': 'DM+QCDjets', '$m_{med}$': [800.0, 450.0, 100.0, 200.0, 10.0, 300.0, 400.0, 50.0, 500.0, 600.0, 700.0, 350.0], '$m_{DM}$': 1.0, '$g_{DM}$': 1.0, '$g_{q}$': 1.0}\n",
      "Coupling = Scalar\n",
      "Mode = DM+QCDjets\n",
      "$m_{DM}$ = 1.0\n",
      "$g_{DM}$ = 1.0\n",
      "$g_{q}$ = 1.0\n"
     ]
    }
   ],
   "source": [
    "parameters = {label : list(set([m[label] for m in models])) for label in mCols}\n",
    "for k,v in parameters.items():\n",
    "    if len(v) == 1:\n",
    "        parameters[k] = v[0]\n",
    "print(parameters)\n",
    "\n",
    "textstr = '\\n'.join([r'%s = %s' %(k,v) for k,v in parameters.items() if k not in ['$m_{med}$']])\n",
    "print(textstr)"
   ]
  },
  {
   "cell_type": "code",
   "execution_count": 10,
   "id": "505330d8",
   "metadata": {},
   "outputs": [],
   "source": [
    "# Remove duplicated data from other datasets\n",
    "modelData = recastData[recastData['Data-takingperiod'] == 2017]"
   ]
  },
  {
   "cell_type": "code",
   "execution_count": 11,
   "id": "17d60e03",
   "metadata": {},
   "outputs": [],
   "source": [
    "kfactor = 1.0\n",
    "lmuData = (modelData['$\\mu^{UL}_{obs}$']/kfactor)"
   ]
  },
  {
   "cell_type": "code",
   "execution_count": 13,
   "id": "6f7a1844",
   "metadata": {},
   "outputs": [
    {
     "data": {
      "image/png": "[encoded data removed]",
      "text/plain": [
       "<Figure size 504x360 with 1 Axes>"
      ]
     },
     "metadata": {
      "needs_background": "light"
     },
     "output_type": "display_data"
    }
   ],
   "source": [
    "fig = plt.figure(figsize=(7,5))\n",
    "plt.plot(modelData['$m_{med}$'],lmuData,linestyle='--', marker='o',)\n",
    "plt.plot(cmsCurve['m_med_GeV'],cmsCurve['Signal_strength_limit'],label='CMS',linewidth=2,color='black')\n",
    "plt.hlines(y=1.0,xmin=modelData['$m_{med}$'].min(),xmax=modelData['$m_{med}$'].max(),color='blue')\n",
    "plt.xlabel(r'$m_{med}$ (GeV)')\n",
    "plt.ylabel(r'95\\% CL upper limit on $\\mu$')\n",
    "# plt.ylim(-10,1000)\n",
    "# plt.xlim(0,3000)\n",
    "plt.title('kfactor = %1.2f' %kfactor)\n",
    "plt.text(0.1,0.7,textstr,fontsize=16,bbox=dict(facecolor='none', edgecolor='black'),\n",
    "         transform = plt.gca().transAxes)\n",
    "plt.grid()\n",
    "plt.show()"
   ]
  },
  {
   "cell_type": "code",
   "execution_count": null,
   "id": "af4c67a5",
   "metadata": {},
   "outputs": [],
   "source": []
  }
 ],
 "metadata": {
  "kernelspec": {
   "display_name": "Python 3 (ipykernel)",
   "language": "python",
   "name": "python3"
  },
  "language_info": {
   "codemirror_mode": {
    "name": "ipython",
    "version": 3
   },
   "file_extension": ".py",
   "mimetype": "text/x-python",
   "name": "python",
   "nbconvert_exporter": "python",
   "pygments_lexer": "ipython3",
   "version": "3.10.6"
  }
 },
 "nbformat": 4,
 "nbformat_minor": 5
}
