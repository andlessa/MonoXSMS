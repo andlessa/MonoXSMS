{
 "cells": [
  {
   "cell_type": "code",
   "execution_count": 1,
   "id": "0832d600",
   "metadata": {
    "ExecuteTime": {
     "end_time": "2023-05-19T19:22:11.697348Z",
     "start_time": "2023-05-19T19:22:06.233992Z"
    }
   },
   "outputs": [
    {
     "name": "stdout",
     "output_type": "stream",
     "text": [
      "Welcome to JupyROOT 6.26/10\n"
     ]
    }
   ],
   "source": [
    "import sys,os,glob,copy\n",
    "sys.path.append('../')\n",
    "import numpy as np\n",
    "from numpy.linalg import norm\n",
    "import pandas as pd\n",
    "from matplotlib import pyplot as plt\n",
    "import seaborn as sns\n",
    "from scipy.interpolate import LinearNDInterpolator,interp2d\n",
    "import scipy\n",
    "import matplotlib as mpl\n",
    "from matplotlib.colors import LogNorm\n",
    "from IPython.display import display, Markdown\n",
    "from collections import OrderedDict\n",
    "import pylhe\n",
    "import glob\n",
    "import pyslha\n",
    "import ROOT\n",
    "import xml.etree.ElementTree as ET\n",
    "\n",
    "\n",
    "plt.rcParams.update({\n",
    "    \"text.usetex\": True,\n",
    "    \"font.family\": \"sans-serif\",\n",
    "    \"font.sans-serif\": [\"Helvetica\"]})\n",
    "\n",
    "plt.rcParams.update({\"savefig.dpi\" : 300}) #Figure resolution\n",
    "\n",
    "\n",
    "#Define plotting style:\n",
    "sns.set() #Set style\n",
    "sns.set_style('ticks',{'font.family':'Times New Roman', 'font.serif':'Times New Roman'})\n",
    "sns.set_context('paper', font_scale=1.8)\n",
    "cm = plt.cm.get_cmap('RdYlBu')"
   ]
  },
  {
   "cell_type": "code",
   "execution_count": 4,
   "id": "8cf1807c",
   "metadata": {
    "ExecuteTime": {
     "end_time": "2023-05-19T19:22:29.392106Z",
     "start_time": "2023-05-19T19:22:29.273002Z"
    }
   },
   "outputs": [],
   "source": [
    "inputFiles = {'pseudoscalar_10': '../DMSimp_pseudoscalar_width_scan/Events/run_01/unweighted_events.lhe.gz',\n",
    "              'pseudoscalar_50': '../DMSimp_pseudoscalar_width_scan/Events/run_02/unweighted_events.lhe.gz',\n",
    "              'pseudoscalar_100': '../DMSimp_pseudoscalar_width_scan/Events/run_03/unweighted_events.lhe.gz',\n",
    "              'pseudoscalar_150': '../DMSimp_pseudoscalar_width_scan/Events/run_04/unweighted_events.lhe.gz',\n",
    "              'pseudoscalar_200': '../DMSimp_pseudoscalar_width_scan/Events/run_05/unweighted_events.lhe.gz',\n",
    "              'pseudoscalar_250': '../DMSimp_pseudoscalar_width_scan/Events/run_06/unweighted_events.lhe.gz',\n",
    "              'pseudoscalar_300': '../DMSimp_pseudoscalar_width_scan/Events/run_07/unweighted_events.lhe.gz',\n",
    "              'pseudoscalar_350': '../DMSimp_pseudoscalar_width_scan/Events/run_08/unweighted_events.lhe.gz',\n",
    "              'pseudoscalar_400': '../DMSimp_pseudoscalar_width_scan/Events/run_09/unweighted_events.lhe.gz',\n",
    "              'pseudoscalar_450': '../DMSimp_pseudoscalar_width_scan/Events/run_10/unweighted_events.lhe.gz',\n",
    "              'pseudoscalar_500': '../DMSimp_pseudoscalar_width_scan/Events/run_11/unweighted_events.lhe.gz',\n",
    "              'pseudoscalar_550': '../DMSimp_pseudoscalar_width_scan/Events/run_12/unweighted_events.lhe.gz',\n",
    "              'pseudoscalar_600': '../DMSimp_pseudoscalar_width_scan/Events/run_13/unweighted_events.lhe.gz',\n",
    "              'pseudoscalar_650': '../DMSimp_pseudoscalar_width_scan/Events/run_14/unweighted_events.lhe.gz',\n",
    "              'pseudoscalar_700': '../DMSimp_pseudoscalar_width_scan/Events/run_15/unweighted_events.lhe.gz',\n",
    "              'pseudoscalar_750': '../DMSimp_pseudoscalar_width_scan/Events/run_16/unweighted_events.lhe.gz',\n",
    "              'pseudoscalar_800': '../DMSimp_pseudoscalar_width_scan/Events/run_17/unweighted_events.lhe.gz',\n",
    "              'pseudoscalar_850': '../DMSimp_pseudoscalar_width_scan/Events/run_18/unweighted_events.lhe.gz',\n",
    "              'pseudoscalar_900': '../DMSimp_pseudoscalar_width_scan/Events/run_19/unweighted_events.lhe.gz',\n",
    "              'pseudoscalar_950': '../DMSimp_pseudoscalar_width_scan/Events/run_20/unweighted_events.lhe.gz',\n",
    "              'pseudoscalar_1000': '../DMSimp_pseudoscalar_width_scan/Events/run_21/unweighted_events.lhe.gz',}"
   ]
  },
  {
   "cell_type": "code",
   "execution_count": 5,
   "id": "d70de42a",
   "metadata": {
    "ExecuteTime": {
     "end_time": "2023-05-19T19:22:29.940093Z",
     "start_time": "2023-05-19T19:22:29.722958Z"
    }
   },
   "outputs": [
    {
     "name": "stdout",
     "output_type": "stream",
     "text": [
      "pseudoscalar_10 : mMed = 10.00 GeV, mDM = 200.00 GeV\n",
      "pseudoscalar_50 : mMed = 50.00 GeV, mDM = 200.00 GeV\n",
      "pseudoscalar_100 : mMed = 100.00 GeV, mDM = 200.00 GeV\n",
      "pseudoscalar_150 : mMed = 150.00 GeV, mDM = 200.00 GeV\n",
      "pseudoscalar_200 : mMed = 200.00 GeV, mDM = 200.00 GeV\n",
      "pseudoscalar_250 : mMed = 250.00 GeV, mDM = 200.00 GeV\n",
      "pseudoscalar_300 : mMed = 300.00 GeV, mDM = 200.00 GeV\n",
      "pseudoscalar_350 : mMed = 350.00 GeV, mDM = 200.00 GeV\n",
      "pseudoscalar_400 : mMed = 400.00 GeV, mDM = 200.00 GeV\n",
      "pseudoscalar_450 : mMed = 450.00 GeV, mDM = 200.00 GeV\n",
      "pseudoscalar_500 : mMed = 500.00 GeV, mDM = 200.00 GeV\n",
      "pseudoscalar_550 : mMed = 550.00 GeV, mDM = 200.00 GeV\n",
      "pseudoscalar_600 : mMed = 600.00 GeV, mDM = 200.00 GeV\n",
      "pseudoscalar_650 : mMed = 650.00 GeV, mDM = 200.00 GeV\n",
      "pseudoscalar_700 : mMed = 700.00 GeV, mDM = 200.00 GeV\n",
      "pseudoscalar_750 : mMed = 750.00 GeV, mDM = 200.00 GeV\n",
      "pseudoscalar_800 : mMed = 800.00 GeV, mDM = 200.00 GeV\n",
      "pseudoscalar_850 : mMed = 850.00 GeV, mDM = 200.00 GeV\n",
      "pseudoscalar_900 : mMed = 900.00 GeV, mDM = 200.00 GeV\n",
      "pseudoscalar_950 : mMed = 950.00 GeV, mDM = 200.00 GeV\n",
      "pseudoscalar_1000 : mMed = 1000.00 GeV, mDM = 200.00 GeV\n"
     ]
    }
   ],
   "source": [
    "parameters = {}\n",
    "for label,file in inputFiles.items():\n",
    "    banner = sorted(glob.glob(os.path.dirname(file)+'/*banner.txt'),key=os.path.getmtime,reverse=True)\n",
    "    if len(banner) == 0:\n",
    "        print('Banner not found for %s' %label)\n",
    "    elif len(banner) > 1:        \n",
    "        print('\\n%i banner files found for %s. Using %s' \n",
    "              %(len(banner),label,os.path.basename(banner[0])))\n",
    "    banner = banner[0]\n",
    "    xtree = ET.parse(banner)\n",
    "    xroot = xtree.getroot()\n",
    "    slha = xroot.find('header').find('slha').text\n",
    "    pars = pyslha.readSLHA(slha)\n",
    "    if 55 in pars.blocks['MASS']:\n",
    "        model = 'spin1'\n",
    "        mMed = pars.blocks['MASS'][55]\n",
    "    elif 54 in pars.blocks['MASS']:\n",
    "        model = 'spin0'\n",
    "        mMed = pars.blocks['MASS'][54]\n",
    "        \n",
    "    mDM = pars.blocks['MASS'][52]\n",
    "    if model == 'spin1':\n",
    "        gVq = pars.blocks['DMINPUTS'][4] # Mediator-quark vector coupling\n",
    "        gAq = pars.blocks['DMINPUTS'][10] # Mediator-quark axial coupling\n",
    "        gVx = pars.blocks['DMINPUTS'][2] # Mediator-DM vector coupling\n",
    "        gAx = pars.blocks['DMINPUTS'][3] # Mediator-DM axial coupling\n",
    "        gammaMed = pars.decays[55].totalwidth  # Mediator total width\n",
    "    elif model == 'spin0':\n",
    "        gVq = pars.blocks['DMINPUTS'][6] # Mediator-quark scalar coupling\n",
    "        gAq = pars.blocks['DMINPUTS'][12] # Mediator-quark pseudoscalar coupling\n",
    "        gVx = pars.blocks['DMINPUTS'][3] # Mediator-DM scalar coupling\n",
    "        gAx = pars.blocks['DMINPUTS'][4] # Mediator-DM pseudoscalar coupling\n",
    "        gammaMed = pars.decays[54].totalwidth # Mediator total width\n",
    "        \n",
    "        \n",
    "    parameters[label] = {'mMed' : mMed, 'mDM' : mDM, \n",
    "                         'gVq' : gVq, 'gAq' : gAq, 'gVx' : gVx, 'gAx' : gAx, 'gammaMed': gammaMed}\n",
    "    print(label,': mMed = %1.2f GeV, mDM = %1.2f GeV' %(mMed,mDM))"
   ]
  },
  {
   "cell_type": "code",
   "execution_count": 9,
   "id": "2e47eb52",
   "metadata": {
    "ExecuteTime": {
     "end_time": "2023-05-19T19:23:11.246412Z",
     "start_time": "2023-05-19T19:23:11.133475Z"
    }
   },
   "outputs": [],
   "source": [
    "#colors = {label : sns.color_palette('deep')[i+1] for i,label in enumerate(parameters.keys())}"
   ]
  },
  {
   "cell_type": "code",
   "execution_count": 10,
   "id": "be9749bc",
   "metadata": {
    "ExecuteTime": {
     "end_time": "2023-05-19T19:23:12.453345Z",
     "start_time": "2023-05-19T19:23:12.343664Z"
    }
   },
   "outputs": [],
   "source": [
    "massPts = [parameters[label]['mMed'] for label in parameters]\n",
    "widthPts = [parameters[label]['gammaMed'] for label in parameters]"
   ]
  },
  {
   "cell_type": "code",
   "execution_count": 20,
   "id": "b00a253d",
   "metadata": {
    "ExecuteTime": {
     "end_time": "2023-05-19T19:36:46.751313Z",
     "start_time": "2023-05-19T19:36:46.204248Z"
    }
   },
   "outputs": [
    {
     "data": {
      "image/png": "[encoded data removed]",
      "text/plain": [
       "<Figure size 640x480 with 1 Axes>"
      ]
     },
     "metadata": {},
     "output_type": "display_data"
    }
   ],
   "source": [
    "plt.plot(massPts, widthPts, 'r+')\n",
    "\n",
    "plt.yscale('log')\n",
    "\n",
    "plt.xlabel(r'$m_{med}$ (GeV)')\n",
    "plt.ylabel(r'$\\Gamma$ (GeV)')\n",
    "plt.title(r'Mediator Total decay width')\n",
    "\n",
    "\n",
    "plt.show()"
   ]
  },
  {
   "cell_type": "code",
   "execution_count": null,
   "id": "65e1d58e",
   "metadata": {},
   "outputs": [],
   "source": []
  }
 ],
 "metadata": {
  "kernelspec": {
   "display_name": "Python 3 (ipykernel)",
   "language": "python",
   "name": "python3"
  },
  "language_info": {
   "codemirror_mode": {
    "name": "ipython",
    "version": 3
   },
   "file_extension": ".py",
   "mimetype": "text/x-python",
   "name": "python",
   "nbconvert_exporter": "python",
   "pygments_lexer": "ipython3",
   "version": "3.10.6"
  }
 },
 "nbformat": 4,
 "nbformat_minor": 5
}
