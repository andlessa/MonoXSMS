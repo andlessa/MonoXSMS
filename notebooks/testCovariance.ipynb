{
 "cells": [
  {
   "cell_type": "code",
   "execution_count": 6,
   "id": "8e421909",
   "metadata": {
    "ExecuteTime": {
     "end_time": "2023-05-18T11:44:46.348237Z",
     "start_time": "2023-05-18T11:44:46.233546Z"
    }
   },
   "outputs": [
    {
     "ename": "ImportError",
     "evalue": "cannot import name 'CLsfromNLL' from 'statistics' (/usr/lib/python3.10/statistics.py)",
     "output_type": "error",
     "traceback": [
      "\u001b[0;31m---------------------------------------------------------------------------\u001b[0m",
      "\u001b[0;31mImportError\u001b[0m                               Traceback (most recent call last)",
      "Cell \u001b[0;32mIn[6], line 4\u001b[0m\n\u001b[1;32m      2\u001b[0m \u001b[38;5;28;01mimport\u001b[39;00m \u001b[38;5;21;01msys\u001b[39;00m\n\u001b[1;32m      3\u001b[0m sys\u001b[38;5;241m.\u001b[39mpath\u001b[38;5;241m.\u001b[39mappend(\u001b[38;5;124m'\u001b[39m\u001b[38;5;124m../CMS-EXO-20-004/statisticalTools/\u001b[39m\u001b[38;5;124m'\u001b[39m)\n\u001b[0;32m----> 4\u001b[0m \u001b[38;5;28;01mfrom\u001b[39;00m \u001b[38;5;21;01msimplifiedLikelihoods\u001b[39;00m \u001b[38;5;28;01mimport\u001b[39;00m Data,UpperLimitComputer\n\u001b[1;32m      5\u001b[0m \u001b[38;5;28;01mimport\u001b[39;00m \u001b[38;5;21;01mpandas\u001b[39;00m \u001b[38;5;28;01mas\u001b[39;00m \u001b[38;5;21;01mpd\u001b[39;00m\n",
      "File \u001b[0;32m~/MonoXSMS/notebooks/../CMS-EXO-20-004/statisticalTools/simplifiedLikelihoods.py:15\u001b[0m\n\u001b[1;32m     13\u001b[0m \u001b[38;5;28;01mfrom\u001b[39;00m \u001b[38;5;21;01mnumpy\u001b[39;00m \u001b[38;5;28;01mimport\u001b[39;00m sqrt, exp, log, sign, array, ndarray\n\u001b[1;32m     14\u001b[0m \u001b[38;5;28;01mfrom\u001b[39;00m \u001b[38;5;21;01mfunctools\u001b[39;00m \u001b[38;5;28;01mimport\u001b[39;00m reduce\n\u001b[0;32m---> 15\u001b[0m \u001b[38;5;28;01mfrom\u001b[39;00m \u001b[38;5;21;01mstatistics\u001b[39;00m \u001b[38;5;28;01mimport\u001b[39;00m CLsfromNLL, determineBrentBracket\n\u001b[1;32m     16\u001b[0m \u001b[38;5;28;01mfrom\u001b[39;00m \u001b[38;5;21;01mtyping\u001b[39;00m \u001b[38;5;28;01mimport\u001b[39;00m Text, Optional, Union, Tuple\n\u001b[1;32m     18\u001b[0m \u001b[38;5;28;01mimport\u001b[39;00m \u001b[38;5;21;01mnumpy\u001b[39;00m \u001b[38;5;28;01mas\u001b[39;00m \u001b[38;5;21;01mnp\u001b[39;00m\n",
      "\u001b[0;31mImportError\u001b[0m: cannot import name 'CLsfromNLL' from 'statistics' (/usr/lib/python3.10/statistics.py)"
     ]
    }
   ],
   "source": [
    "import numpy as np\n",
    "import sys\n",
    "sys.path.append('../CMS-EXO-20-004/statisticalTools/')\n",
    "from simplifiedLikelihoods import Data,UpperLimitComputer\n",
    "import pandas as pd"
   ]
  },
  {
   "cell_type": "code",
   "execution_count": null,
   "id": "9ac22396",
   "metadata": {
    "ExecuteTime": {
     "end_time": "2023-05-18T11:20:38.292410Z",
     "start_time": "2023-05-18T11:20:38.292394Z"
    }
   },
   "outputs": [],
   "source": [
    "metBins = [250,  280,  310,  340,  370,  400,  430,  470,  510, 550,  590,  640,  690,  \n",
    "            740,  790,  840,  900,  960, 1020, 1090, 1160, 1250, 1400]"
   ]
  },
  {
   "cell_type": "code",
   "execution_count": null,
   "id": "b73e2598",
   "metadata": {
    "ExecuteTime": {
     "end_time": "2023-05-18T11:20:38.293914Z",
     "start_time": "2023-05-18T11:20:38.293899Z"
    }
   },
   "outputs": [],
   "source": [
    "cmsYieldFile = '../CMS-EXO-20-004/AuxInfo/CMS-EXO-20-004-data/HEPData-ins1894408-v2-csv/Simplifiedlikelihood:Yields(Monojet).csv'\n",
    "bgYields = np.genfromtxt(cmsYieldFile,delimiter=',',skip_header=5,\n",
    "                          skip_footer=67,names=True,dtype=None,encoding=None)\n",
    "\n",
    "dataYields = np.genfromtxt(cmsYieldFile,delimiter=',',skip_header=73,\n",
    "                           names=True,dtype=None,encoding=None)\n",
    "\n",
    "covarianceFile = '../CMS-EXO-20-004/AuxInfo/CMS-EXO-20-004-data/HEPData-ins1894408-v2-csv/Simplifiedlikelihood:covariancematrix(Monojet).csv'\n",
    "cov = np.genfromtxt(covarianceFile,delimiter=',',skip_header=5,\n",
    "                           names=True,dtype=None,encoding='UTF-8')"
   ]
  },
  {
   "cell_type": "code",
   "execution_count": null,
   "id": "37ac8c8d",
   "metadata": {
    "ExecuteTime": {
     "end_time": "2023-05-18T11:20:38.295032Z",
     "start_time": "2023-05-18T11:20:38.295017Z"
    }
   },
   "outputs": [],
   "source": [
    "srOrder = cov['Second_Bin'][:66]\n",
    "covMatrix = np.zeros((len(srOrder),len(srOrder)))\n",
    "for pt in cov:\n",
    "    i = np.where(srOrder == pt['First_Bin'])\n",
    "    j = np.where(srOrder == pt['Second_Bin'])\n",
    "    covMatrix[i,j] = pt['Covariance']"
   ]
  },
  {
   "cell_type": "code",
   "execution_count": null,
   "id": "b2678574",
   "metadata": {
    "ExecuteTime": {
     "end_time": "2023-05-18T11:20:38.296144Z",
     "start_time": "2023-05-18T11:20:38.296130Z"
    }
   },
   "outputs": [],
   "source": [
    "nobs = [int(dataYields[dataYields['Bin'] == sr]['Data_yield'][0]) for sr in srOrder]\n",
    "nbg = [float(bgYields[bgYields['Bin'] == sr]['Background_yield'][0]) for sr in srOrder]"
   ]
  },
  {
   "cell_type": "code",
   "execution_count": null,
   "id": "60b0482b",
   "metadata": {
    "ExecuteTime": {
     "end_time": "2023-05-18T11:20:38.297350Z",
     "start_time": "2023-05-18T11:20:38.297335Z"
    }
   },
   "outputs": [],
   "source": [
    "f = '../axial_2000_1.pcl'\n",
    "recastData = pd.read_pickle(f)\n",
    "ns = []\n",
    "for sr in srOrder:\n",
    "    dataset,ibin = sr.split('_')[1:]\n",
    "    dataset = eval(dataset)\n",
    "    ibin = eval(ibin.replace('bin',''))\n",
    "    binLabel = 'bin_%1.1f_%1.1f' %(metBins[ibin],metBins[ibin+1])\n",
    "    signalYield = recastData[recastData['Data-takingperiod'] == dataset][binLabel].iloc[0]\n",
    "    ns.append(signalYield)\n",
    "ns = np.array(ns)"
   ]
  },
  {
   "cell_type": "code",
   "execution_count": null,
   "id": "1de61eb3",
   "metadata": {
    "ExecuteTime": {
     "end_time": "2023-05-18T11:20:38.298347Z",
     "start_time": "2023-05-18T11:20:38.298335Z"
    }
   },
   "outputs": [],
   "source": [
    "data = Data(observed=nobs, backgrounds=nbg, covariance=covMatrix, \n",
    "            nsignal=1.*ns,deltas_rel=0.0)\n",
    "dataExp = Data(observed=[int(b) for b in nbg], backgrounds=nbg, covariance=covMatrix, \n",
    "               nsignal=1.*ns,deltas_rel=0.0)"
   ]
  },
  {
   "cell_type": "code",
   "execution_count": null,
   "id": "b27f457c",
   "metadata": {
    "ExecuteTime": {
     "end_time": "2023-05-18T11:20:38.299332Z",
     "start_time": "2023-05-18T11:20:38.299319Z"
    }
   },
   "outputs": [],
   "source": [
    "ulComp = UpperLimitComputer()"
   ]
  },
  {
   "cell_type": "code",
   "execution_count": null,
   "id": "125debd5",
   "metadata": {
    "ExecuteTime": {
     "end_time": "2023-05-18T11:20:38.300133Z",
     "start_time": "2023-05-18T11:20:38.300122Z"
    }
   },
   "outputs": [],
   "source": [
    "ul = ulComp.getUpperLimitOnMu(data)\n",
    "ulExp = ulComp.getUpperLimitOnMu(dataExp)"
   ]
  },
  {
   "cell_type": "code",
   "execution_count": null,
   "id": "255fab5d",
   "metadata": {
    "ExecuteTime": {
     "end_time": "2023-05-18T11:20:38.300878Z",
     "start_time": "2023-05-18T11:20:38.300868Z"
    }
   },
   "outputs": [],
   "source": [
    "print(ul,ulExp)"
   ]
  },
  {
   "cell_type": "code",
   "execution_count": null,
   "id": "0ffb271c",
   "metadata": {},
   "outputs": [],
   "source": []
  }
 ],
 "metadata": {
  "kernelspec": {
   "display_name": "Python 3 (ipykernel)",
   "language": "python",
   "name": "python3"
  },
  "language_info": {
   "codemirror_mode": {
    "name": "ipython",
    "version": 3
   },
   "file_extension": ".py",
   "mimetype": "text/x-python",
   "name": "python",
   "nbconvert_exporter": "python",
   "pygments_lexer": "ipython3",
   "version": "3.10.6"
  }
 },
 "nbformat": 4,
 "nbformat_minor": 5
}
