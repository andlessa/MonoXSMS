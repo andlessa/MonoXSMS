{
 "cells": [
  {
   "cell_type": "code",
   "execution_count": 94,
   "id": "8e421909",
   "metadata": {},
   "outputs": [],
   "source": [
    "import numpy as np\n",
    "from simplifiedLikelihoods import Data,UpperLimitComputer\n",
    "import pandas as pd"
   ]
  },
  {
   "cell_type": "code",
   "execution_count": 106,
   "id": "9ac22396",
   "metadata": {},
   "outputs": [],
   "source": [
    "metBins = [250,  280,  310,  340,  370,  400,  430,  470,  510, 550,  590,  640,  690,  \n",
    "            740,  790,  840,  900,  960, 1020, 1090, 1160, 1250, 1400]"
   ]
  },
  {
   "cell_type": "code",
   "execution_count": 95,
   "id": "b73e2598",
   "metadata": {},
   "outputs": [],
   "source": [
    "cmsYieldFile = '../AuxInfo/CMS-EXO-20-004-data/HEPData-ins1894408-v2-csv/Simplifiedlikelihood:Yields(Monojet).csv'\n",
    "bgYields = np.genfromtxt(cmsYieldFile,delimiter=',',skip_header=5,\n",
    "                          skip_footer=67,names=True,dtype=None,encoding=None)\n",
    "\n",
    "dataYields = np.genfromtxt(cmsYieldFile,delimiter=',',skip_header=73,\n",
    "                           names=True,dtype=None,encoding=None)\n",
    "\n",
    "covarianceFile = '../AuxInfo/CMS-EXO-20-004-data/HEPData-ins1894408-v2-csv/Simplifiedlikelihood:covariancematrix(Monojet).csv'\n",
    "cov = np.genfromtxt(covarianceFile,delimiter=',',skip_header=5,\n",
    "                           names=True,dtype=None,encoding='UTF-8')"
   ]
  },
  {
   "cell_type": "code",
   "execution_count": 97,
   "id": "37ac8c8d",
   "metadata": {},
   "outputs": [],
   "source": [
    "srOrder = cov['Second_Bin'][:66]\n",
    "covMatrix = np.zeros((len(srOrder),len(srOrder)))\n",
    "for pt in cov:\n",
    "    i = np.where(srOrder == pt['First_Bin'])\n",
    "    j = np.where(srOrder == pt['Second_Bin'])\n",
    "    covMatrix[i,j] = pt['Covariance']"
   ]
  },
  {
   "cell_type": "code",
   "execution_count": 108,
   "id": "b2678574",
   "metadata": {},
   "outputs": [],
   "source": [
    "nobs = [int(dataYields[dataYields['Bin'] == sr]['Data_yield'][0]) for sr in srOrder]\n",
    "nbg = [float(bgYields[bgYields['Bin'] == sr]['Background_yield'][0]) for sr in srOrder]"
   ]
  },
  {
   "cell_type": "code",
   "execution_count": 115,
   "id": "60b0482b",
   "metadata": {},
   "outputs": [],
   "source": [
    "f = '../axial_2000_1.pcl'\n",
    "recastData = pd.read_pickle(f)\n",
    "ns = []\n",
    "for sr in srOrder:\n",
    "    dataset,ibin = sr.split('_')[1:]\n",
    "    dataset = eval(dataset)\n",
    "    ibin = eval(ibin.replace('bin',''))\n",
    "    binLabel = 'bin_%1.1f_%1.1f' %(metBins[ibin],metBins[ibin+1])\n",
    "    signalYield = recastData[recastData['Data-takingperiod'] == dataset][binLabel].iloc[0]\n",
    "    ns.append(signalYield)\n",
    "ns = np.array(ns)"
   ]
  },
  {
   "cell_type": "code",
   "execution_count": 132,
   "id": "1de61eb3",
   "metadata": {},
   "outputs": [],
   "source": [
    "data = Data(observed=nobs, backgrounds=nbg, covariance=covMatrix, \n",
    "            nsignal=1.*ns,deltas_rel=0.0)\n",
    "dataExp = Data(observed=[int(b) for b in nbg], backgrounds=nbg, covariance=covMatrix, \n",
    "               nsignal=1.*ns,deltas_rel=0.0)"
   ]
  },
  {
   "cell_type": "code",
   "execution_count": 133,
   "id": "b27f457c",
   "metadata": {},
   "outputs": [],
   "source": [
    "ulComp = UpperLimitComputer()"
   ]
  },
  {
   "cell_type": "code",
   "execution_count": 134,
   "id": "125debd5",
   "metadata": {},
   "outputs": [],
   "source": [
    "ul = ulComp.getUpperLimitOnMu(data)\n",
    "ulExp = ulComp.getUpperLimitOnMu(dataExp)"
   ]
  },
  {
   "cell_type": "code",
   "execution_count": 135,
   "id": "255fab5d",
   "metadata": {},
   "outputs": [
    {
     "name": "stdout",
     "output_type": "stream",
     "text": [
      "1.5740807808972614 0.7337937439181763\n"
     ]
    }
   ],
   "source": [
    "print(ul,ulExp)"
   ]
  },
  {
   "cell_type": "code",
   "execution_count": null,
   "id": "0ffb271c",
   "metadata": {},
   "outputs": [],
   "source": []
  }
 ],
 "metadata": {
  "kernelspec": {
   "display_name": "Python 3",
   "language": "python",
   "name": "python3"
  },
  "language_info": {
   "codemirror_mode": {
    "name": "ipython",
    "version": 3
   },
   "file_extension": ".py",
   "mimetype": "text/x-python",
   "name": "python",
   "nbconvert_exporter": "python",
   "pygments_lexer": "ipython3",
   "version": "3.9.7"
  }
 },
 "nbformat": 4,
 "nbformat_minor": 5
}
