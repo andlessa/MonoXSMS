{
 "cells": [
  {
   "cell_type": "code",
   "execution_count": 1,
   "id": "f0d98c8f",
   "metadata": {},
   "outputs": [],
   "source": [
    "import sys,os,glob,copy\n",
    "sys.path.append('../')\n",
    "import numpy as np\n",
    "from numpy.linalg import norm\n",
    "import pandas as pd\n",
    "from matplotlib import pyplot as plt\n",
    "import seaborn as sns\n",
    "from scipy.interpolate import LinearNDInterpolator,interp2d, griddata\n",
    "from itertools import product\n",
    "import matplotlib as mpl\n",
    "from matplotlib.colors import LogNorm\n",
    "from IPython.display import display, Markdown\n",
    "import glob\n",
    "import pyslha\n",
    "plt.rcParams.update({\n",
    "    \"text.usetex\": True,\n",
    "    \"font.family\": \"sans-serif\",\n",
    "    \"font.sans-serif\": [\"Helvetica\"]})\n",
    "\n",
    "plt.rcParams.update({\"savefig.dpi\" : 300}) #Figure resolution\n",
    "\n",
    "\n",
    "#Define plotting style:\n",
    "sns.set() #Set style\n",
    "sns.set_style('ticks',{'font.family':'Times New Roman', 'font.serif':'Times New Roman'})\n",
    "sns.set_context('paper', font_scale=1.8)\n",
    "cm = plt.cm.get_cmap('RdYlBu')\n",
    "\n",
    "\n",
    "pd.set_option('display.max_rows', 200)"
   ]
  },
  {
   "cell_type": "code",
   "execution_count": 2,
   "id": "b1569fd4",
   "metadata": {},
   "outputs": [],
   "source": [
    "pts = []\n",
    "eventsFolder = '../testZprime/Events/'\n",
    "# eventsFolder = '../DMSimp_vector_all/Events/'\n",
    "for f in glob.glob(eventsFolder+'/run*/*banner.txt'):\n",
    "    with open(f,'r') as ff:\n",
    "        data = ff.read()\n",
    "    slhaData = data.split('<slha>')[1].split('</slha>')[0]\n",
    "    xsecData = data.split('<MGGenerationInfo>')[1].split('</MGGenerationInfo>')[0]\n",
    "    # Get masses and BRs:\n",
    "    slha = pyslha.readSLHA(slhaData)\n",
    "    mMed = slha.blocks['MASS'][55]\n",
    "    mDM = slha.blocks['MASS'][52]\n",
    "#     if mMed < 2.01*mDM:\n",
    "#         continue\n",
    "#     decays = slha.decays[55]\n",
    "#     brDM = None\n",
    "#     for dec in decays.decays:\n",
    "#         if sorted(dec.ids) == [-52,52]:\n",
    "#             brDM = dec.br\n",
    "               \n",
    "#     if not brDM:\n",
    "#         print('Error getting decay for %s'%f)\n",
    "#         break\n",
    "    xsecInfo = {}\n",
    "    for l in xsecData.split('\\n'):\n",
    "        if not l.strip(): continue\n",
    "        tag,val = l.split(':')\n",
    "        tag = tag.replace('#','').strip()\n",
    "        val = eval(val.strip())\n",
    "        xsecInfo[tag] = val\n",
    "#     totalXsec = xsecInfo[\"Matched Integrated weight (pb)\"]/brDM\n",
    "    totalXsec = xsecInfo[\"Integrated weight (pb)\"]\n",
    "    pts.append([mMed,totalXsec])\n",
    "    # Add  xsecInfo to slha data\n",
    "    slhaData += '\\n\\n' + f'XSECTION  1.30E+04  2212 2212 1 55   # Nevts: {xsecInfo[\"Number of Events\"]} xsec unit: pb\\n'\n",
    "    slhaData += f'0  1  0  0  0  0    {totalXsec:1.4e} MadGraph\\n'\n",
    "    fnew = f.replace('run_01_','').replace('.txt','.slha')\n",
    "    with open(fnew,'w') as ff:\n",
    "        ff.write(slhaData)"
   ]
  },
  {
   "cell_type": "code",
   "execution_count": 3,
   "id": "684d7e9d",
   "metadata": {},
   "outputs": [
    {
     "data": {
      "text/plain": [
       "26"
      ]
     },
     "execution_count": 3,
     "metadata": {},
     "output_type": "execute_result"
    }
   ],
   "source": [
    "pts = np.array(pts)\n",
    "len(pts)"
   ]
  },
  {
   "cell_type": "code",
   "execution_count": 4,
   "id": "70e2f06b",
   "metadata": {},
   "outputs": [
    {
     "data": {
      "image/png": "[encoded data removed]",
      "text/plain": [
       "<Figure size 432x288 with 1 Axes>"
      ]
     },
     "metadata": {
      "needs_background": "light"
     },
     "output_type": "display_data"
    }
   ],
   "source": [
    "plt.scatter(pts[:,0],pts[:,1])\n",
    "plt.yscale('log')\n",
    "plt.show()"
   ]
  },
  {
   "cell_type": "code",
   "execution_count": 5,
   "id": "e6492add",
   "metadata": {},
   "outputs": [],
   "source": [
    "from scipy.interpolate import interp1d"
   ]
  },
  {
   "cell_type": "code",
   "execution_count": 6,
   "id": "952f780f",
   "metadata": {},
   "outputs": [],
   "source": [
    "f = interp1d(pts[:,0],pts[:,1],kind='linear')"
   ]
  },
  {
   "cell_type": "code",
   "execution_count": 7,
   "id": "a66b0bc1",
   "metadata": {},
   "outputs": [
    {
     "data": {
      "image/png": "[encoded data removed]",
      "text/plain": [
       "<Figure size 432x288 with 1 Axes>"
      ]
     },
     "metadata": {
      "needs_background": "light"
     },
     "output_type": "display_data"
    }
   ],
   "source": [
    "xvals = np.linspace(50,4000.,100)\n",
    "plt.plot(xvals, f(xvals))\n",
    "plt.scatter(pts[:,0],pts[:,1])\n",
    "plt.yscale('log')\n",
    "plt.show()"
   ]
  },
  {
   "cell_type": "code",
   "execution_count": 8,
   "id": "99250384",
   "metadata": {},
   "outputs": [],
   "source": [
    "import pickle\n",
    "with open(\"xsecInterp.pcl\", \"wb\") as handle:\n",
    "    pickle.dump(f, handle)"
   ]
  },
  {
   "cell_type": "code",
   "execution_count": null,
   "id": "b0dbf1d4",
   "metadata": {},
   "outputs": [],
   "source": []
  }
 ],
 "metadata": {
  "kernelspec": {
   "display_name": "Python 3 (ipykernel)",
   "language": "python",
   "name": "python3"
  },
  "language_info": {
   "codemirror_mode": {
    "name": "ipython",
    "version": 3
   },
   "file_extension": ".py",
   "mimetype": "text/x-python",
   "name": "python",
   "nbconvert_exporter": "python",
   "pygments_lexer": "ipython3",
   "version": "3.10.6"
  }
 },
 "nbformat": 4,
 "nbformat_minor": 5
}
