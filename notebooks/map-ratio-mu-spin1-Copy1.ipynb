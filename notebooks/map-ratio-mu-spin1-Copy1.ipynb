{
 "cells": [
  {
   "cell_type": "code",
   "execution_count": 1,
   "id": "2fa451de",
   "metadata": {
    "ExecuteTime": {
     "end_time": "2023-07-07T17:16:05.896800Z",
     "start_time": "2023-07-07T17:16:04.026149Z"
    }
   },
   "outputs": [],
   "source": [
    "import sys,os,glob,copy\n",
    "sys.path.append('../')\n",
    "import numpy as np\n",
    "from statistics import median, mean\n",
    "from numpy.linalg import norm\n",
    "import pandas as pd\n",
    "from matplotlib import pyplot as plt\n",
    "from matplotlib.ticker import AutoMinorLocator\n",
    "\n",
    "import seaborn as sns\n",
    "from scipy.interpolate import LinearNDInterpolator,interp2d, griddata\n",
    "from itertools import product\n",
    "import matplotlib as mpl\n",
    "from matplotlib.colors import LogNorm\n",
    "from IPython.display import display, Markdown\n",
    "import glob\n",
    "plt.rcParams.update({\n",
    "    \"text.usetex\": True,\n",
    "    \"font.family\": \"sans-serif\",\n",
    "    \"font.sans-serif\": [\"Helvetica\"]})\n",
    "\n",
    "plt.rcParams.update({\"savefig.dpi\" : 300}) #Figure resolution\n",
    "\n",
    "\n",
    "#Define plotting style:\n",
    "sns.set() #Set style\n",
    "sns.set_style('ticks',{'font.family':'Times New Roman', 'font.serif':'Times New Roman'})\n",
    "sns.set_context('paper', font_scale=1.8)\n",
    "cm = plt.cm.get_cmap('RdYlBu')\n",
    "\n",
    "\n",
    "pd.set_option('display.max_rows', 200)"
   ]
  },
  {
   "cell_type": "markdown",
   "id": "98de827e",
   "metadata": {},
   "source": [
    "### Load Recast Data"
   ]
  },
  {
   "cell_type": "code",
   "execution_count": 2,
   "id": "7e221f02",
   "metadata": {
    "ExecuteTime": {
     "end_time": "2023-07-07T17:16:07.796652Z",
     "start_time": "2023-07-07T17:16:07.700958Z"
    }
   },
   "outputs": [],
   "source": [
    "# Load models (axial and vector)\n",
    "inputFiles = ['../CMS-EXO-20-004/scanResults_axial_reduced.pcl',\n",
    "              '../CMS-EXO-20-004/scanResults_pseudoscalar_pt_nocut.pcl']\n",
    "\n",
    "dfs = [pd.read_pickle(i) for i in inputFiles]\n",
    "recastData = pd.concat(dfs, ignore_index=True)"
   ]
  },
  {
   "cell_type": "markdown",
   "id": "a047879f",
   "metadata": {},
   "source": [
    "### Get model points"
   ]
  },
  {
   "cell_type": "code",
   "execution_count": 3,
   "id": "7ae574e5",
   "metadata": {
    "ExecuteTime": {
     "end_time": "2023-07-07T17:16:10.683698Z",
     "start_time": "2023-07-07T17:16:10.659959Z"
    }
   },
   "outputs": [
    {
     "name": "stdout",
     "output_type": "stream",
     "text": [
      "219 models loaded.\n"
     ]
    }
   ],
   "source": [
    "models = []\n",
    "mCols = ['Coupling', 'Mode', '$m_{med}$', '$m_{DM}$']\n",
    "for row in recastData[mCols].values:\n",
    "    m = dict(zip(mCols, row.tolist()))\n",
    "    if m not in models:\n",
    "        models.append(m)\n",
    "\n",
    "print('%i models loaded.' %len(models))"
   ]
  },
  {
   "cell_type": "markdown",
   "id": "b6e16eaf",
   "metadata": {},
   "source": [
    "### Get model parameters"
   ]
  },
  {
   "cell_type": "code",
   "execution_count": 4,
   "id": "24058fc7",
   "metadata": {
    "ExecuteTime": {
     "end_time": "2023-07-07T17:16:11.285377Z",
     "start_time": "2023-07-07T17:16:11.274035Z"
    }
   },
   "outputs": [
    {
     "name": "stdout",
     "output_type": "stream",
     "text": [
      "{'Coupling': ['Axial', 'Pseudoscalar'], 'Mode': 'DM+QCDjets', '$m_{med}$': [10.0, 400.0, 295.0, 300.0, 3000.0, 2750.0, 2500.0, 200.0, 2250.0, 1995.0, 2000.0, 1750.0, 1500.0, 1250.0, 995.0, 100.0, 1000.0, 750.0, 500.0, 250.0], '$m_{DM}$': [800.0, 1.0, 100.0, 1400.0, 900.0, 200.0, 1000.0, 10.0, 300.0, 1100.0, 400.0, 1200.0, 500.0, 150.0, 600.0, 700.0]}\n",
      "Coupling = ['Axial', 'Pseudoscalar']\n",
      "Mode = DM+QCDjets\n"
     ]
    }
   ],
   "source": [
    "parameters = {label : list(set([m[label] for m in models])) for label in mCols}\n",
    "for k,v in parameters.items():\n",
    "    if len(v) == 1:\n",
    "        parameters[k] = v[0]\n",
    "print(parameters)\n",
    "\n",
    "textstr = '\\n'.join([r'%s = %s' %(k,v) for k,v in parameters.items() if k not in ['$m_{med}$','$m_{DM}$']])\n",
    "print(textstr)"
   ]
  },
  {
   "cell_type": "markdown",
   "id": "c213354b",
   "metadata": {},
   "source": [
    "### Obtain limit on $\\mu$ ratio"
   ]
  },
  {
   "cell_type": "code",
   "execution_count": 5,
   "id": "dc1974fa",
   "metadata": {
    "ExecuteTime": {
     "end_time": "2023-07-07T17:16:23.938517Z",
     "start_time": "2023-07-07T17:16:23.933407Z"
    }
   },
   "outputs": [],
   "source": [
    "# Select year\n",
    "recastData = recastData[recastData['Data-takingperiod'] == 2017]"
   ]
  },
  {
   "cell_type": "code",
   "execution_count": 6,
   "id": "2bd12993",
   "metadata": {
    "ExecuteTime": {
     "end_time": "2023-07-07T17:16:24.531914Z",
     "start_time": "2023-07-07T17:16:24.528096Z"
    }
   },
   "outputs": [],
   "source": [
    "# label = [c for c in recastData if (c.startswith(\"HCAL\") and not \"jets\" in c)]\n",
    "\n",
    "recastData = recastData[['Coupling', '$m_{med}$', '$m_{DM}$', 'Total xsec (pb)', '$\\mu^{UL}_{obs}$']]"
   ]
  },
  {
   "cell_type": "code",
   "execution_count": 7,
   "id": "52dcb4f8",
   "metadata": {
    "ExecuteTime": {
     "end_time": "2023-07-07T17:16:25.111288Z",
     "start_time": "2023-07-07T17:16:25.106207Z"
    }
   },
   "outputs": [],
   "source": [
    "recastData['$\\mu / \\sigma$'] = recastData['$\\mu^{UL}_{obs}$'] * recastData['Total xsec (pb)']"
   ]
  },
  {
   "cell_type": "code",
   "execution_count": 8,
   "id": "f74cd04f",
   "metadata": {
    "ExecuteTime": {
     "end_time": "2023-07-07T17:16:25.435747Z",
     "start_time": "2023-07-07T17:16:25.430878Z"
    }
   },
   "outputs": [],
   "source": [
    "mCols = ['$m_{med}$','$m_{DM}$']\n",
    "dataAx = recastData[recastData['Coupling'] == 'Axial']\n",
    "dataVec = recastData[recastData['Coupling'] == 'Pseudoscalar']"
   ]
  },
  {
   "cell_type": "code",
   "execution_count": 9,
   "id": "43f6253f",
   "metadata": {
    "ExecuteTime": {
     "end_time": "2023-07-07T17:16:26.524908Z",
     "start_time": "2023-07-07T17:16:26.500226Z"
    }
   },
   "outputs": [
    {
     "name": "stdout",
     "output_type": "stream",
     "text": [
      "25 25\n"
     ]
    }
   ],
   "source": [
    "keys = list(dataAx[mCols].columns.values)\n",
    "i1 = dataAx.set_index(keys).index\n",
    "i2 = dataVec.set_index(keys).index\n",
    "dataAx = dataAx[i1.isin(i2)]\n",
    "dataVec = dataVec[i2.isin(i1)]\n",
    "# i3 = effPseudo.set_index(keys).index\n",
    "print(len(dataAx),len(dataVec))\n",
    "\n",
    "masspts = dataVec\n",
    "masspts = masspts[['$m_{med}$', '$m_{DM}$']]"
   ]
  },
  {
   "cell_type": "code",
   "execution_count": 10,
   "id": "575e620a",
   "metadata": {
    "ExecuteTime": {
     "end_time": "2023-07-07T17:16:28.440786Z",
     "start_time": "2023-07-07T17:16:28.429381Z"
    }
   },
   "outputs": [],
   "source": [
    "# Setting the index with mass pairs\n",
    "dataAx = pd.DataFrame([dataAx.set_index(['$m_{med}$', '$m_{DM}$'])[c] for c in recastData if '$\\mu / \\sigma$' in c])\n",
    "dataVec = pd.DataFrame([dataVec.set_index(['$m_{med}$', '$m_{DM}$'])[c] for c in recastData if '$\\mu / \\sigma$' in c])"
   ]
  },
  {
   "cell_type": "code",
   "execution_count": 11,
   "id": "1b64344e",
   "metadata": {
    "ExecuteTime": {
     "end_time": "2023-07-07T17:16:28.789012Z",
     "start_time": "2023-07-07T17:16:28.774881Z"
    }
   },
   "outputs": [],
   "source": [
    "ratio = []\n",
    "for med, dm in dataAx:\n",
    "    r = dataVec[med, dm] / dataAx[med, dm]\n",
    "    ratio.append(r)"
   ]
  },
  {
   "cell_type": "code",
   "execution_count": 12,
   "id": "bee43d19",
   "metadata": {
    "ExecuteTime": {
     "end_time": "2023-07-07T17:16:30.367551Z",
     "start_time": "2023-07-07T17:16:29.624279Z"
    },
    "scrolled": false
   },
   "outputs": [
    {
     "data": {
      "image/png": "[encoded data removed]",
      "text/plain": [
       "<Figure size 640x480 with 2 Axes>"
      ]
     },
     "metadata": {},
     "output_type": "display_data"
    }
   ],
   "source": [
    "# Plot results\n",
    "plt.scatter(x=masspts['$m_{med}$'], y=masspts['$m_{DM}$'], vmin=0.5, vmax=1.5,\n",
    "            cmap=plt.cm.get_cmap('Reds'), c=ratio, s=60)\n",
    "\n",
    "plt.axline((0, 0), slope=1/2, linestyle='--', color='gray')\n",
    "\n",
    "cbar=plt.colorbar(label=r'$\\frac{(\\mu*\\sigma)_{axial}}{(\\mu*\\sigma)_{vector}}$')\n",
    "plt.xlabel(r'$m_{med}$ (GeV)')\n",
    "plt.xlim(0,3100)\n",
    "plt.ylabel(r'$m_{DM}$ (GeV)')\n",
    "plt.minorticks_on()\n",
    "# plt.ylim(0,1470)\n",
    "plt.show()"
   ]
  },
  {
   "cell_type": "code",
   "execution_count": 13,
   "id": "877bd7fc",
   "metadata": {
    "ExecuteTime": {
     "end_time": "2023-07-07T17:16:41.976511Z",
     "start_time": "2023-07-07T17:16:41.676173Z"
    }
   },
   "outputs": [],
   "source": [
    "pts = np.array([x for x in product(np.linspace(0.,3000.,100),np.linspace(0.,1400.,100))])\n",
    "relDiffPts = griddata(list(zip(masspts['$m_{med}$'],masspts['$m_{DM}$'])),\n",
    "                  np.array(ratio),pts)"
   ]
  },
  {
   "cell_type": "code",
   "execution_count": 14,
   "id": "d2c2e7c4",
   "metadata": {
    "ExecuteTime": {
     "end_time": "2023-07-07T17:16:42.910393Z",
     "start_time": "2023-07-07T17:16:42.543960Z"
    }
   },
   "outputs": [
    {
     "data": {
      "image/png": "[encoded data removed]",
      "text/plain": [
       "<Figure size 640x480 with 2 Axes>"
      ]
     },
     "metadata": {},
     "output_type": "display_data"
    }
   ],
   "source": [
    "plt.scatter(x=pts[:,0], y=pts[:,1], vmin=0.5, vmax =1.5, \n",
    "            c=relDiffPts, cmap=plt.cm.get_cmap('Reds'))\n",
    "cbar=plt.colorbar(label=r'$\\frac{(\\mu*\\sigma)_{axial}}{(\\mu*\\sigma)_{vector}}$')\n",
    "# plt.axline((1, 1), slope=1/2, linestyle='--', color='gray')\n",
    "\n",
    "plt.xlabel(r'$m_{med}$ (GeV)')\n",
    "plt.xlim(0,3100)\n",
    "plt.ylabel(r'$m_{DM}$ (GeV)')\n",
    "# plt.ylim(0,1400)\n",
    "plt.show()"
   ]
  },
  {
   "cell_type": "code",
   "execution_count": 15,
   "id": "08d595a9",
   "metadata": {
    "ExecuteTime": {
     "end_time": "2023-07-07T17:17:05.279493Z",
     "start_time": "2023-07-07T17:17:05.263584Z"
    }
   },
   "outputs": [
    {
     "data": {
      "text/plain": [
       "[$\\mu / \\sigma$    0.459158\n",
       " Name: (500.0, 500.0), dtype: float64,\n",
       " $\\mu / \\sigma$    0.22262\n",
       " Name: (500.0, 1000.0), dtype: float64,\n",
       " $\\mu / \\sigma$   NaN\n",
       " Name: (500.0, 1200.0), dtype: float64,\n",
       " $\\mu / \\sigma$   NaN\n",
       " Name: (500.0, 1400.0), dtype: float64,\n",
       " $\\mu / \\sigma$    0.502435\n",
       " Name: (750.0, 500.0), dtype: float64,\n",
       " $\\mu / \\sigma$    0.217268\n",
       " Name: (1000.0, 1000.0), dtype: float64,\n",
       " $\\mu / \\sigma$   NaN\n",
       " Name: (1000.0, 1200.0), dtype: float64,\n",
       " $\\mu / \\sigma$   NaN\n",
       " Name: (1000.0, 1400.0), dtype: float64,\n",
       " $\\mu / \\sigma$    0.366675\n",
       " Name: (1250.0, 500.0), dtype: float64,\n",
       " $\\mu / \\sigma$   NaN\n",
       " Name: (1250.0, 1200.0), dtype: float64,\n",
       " $\\mu / \\sigma$    0.316967\n",
       " Name: (1500.0, 500.0), dtype: float64,\n",
       " $\\mu / \\sigma$    0.213149\n",
       " Name: (1500.0, 1200.0), dtype: float64,\n",
       " $\\mu / \\sigma$   NaN\n",
       " Name: (1500.0, 1400.0), dtype: float64,\n",
       " $\\mu / \\sigma$    0.323772\n",
       " Name: (1750.0, 500.0), dtype: float64,\n",
       " $\\mu / \\sigma$    0.349689\n",
       " Name: (2000.0, 500.0), dtype: float64,\n",
       " $\\mu / \\sigma$    0.224073\n",
       " Name: (2000.0, 1200.0), dtype: float64,\n",
       " $\\mu / \\sigma$   NaN\n",
       " Name: (2000.0, 1400.0), dtype: float64,\n",
       " $\\mu / \\sigma$    0.310267\n",
       " Name: (2250.0, 500.0), dtype: float64,\n",
       " $\\mu / \\sigma$    0.302538\n",
       " Name: (2500.0, 500.0), dtype: float64,\n",
       " $\\mu / \\sigma$    0.237105\n",
       " Name: (2500.0, 1000.0), dtype: float64,\n",
       " $\\mu / \\sigma$    0.237018\n",
       " Name: (2500.0, 1200.0), dtype: float64,\n",
       " $\\mu / \\sigma$    0.183907\n",
       " Name: (2500.0, 1400.0), dtype: float64,\n",
       " $\\mu / \\sigma$    0.209947\n",
       " Name: (3000.0, 1000.0), dtype: float64,\n",
       " $\\mu / \\sigma$    0.213981\n",
       " Name: (3000.0, 1200.0), dtype: float64,\n",
       " $\\mu / \\sigma$    0.189415\n",
       " Name: (3000.0, 1400.0), dtype: float64]"
      ]
     },
     "execution_count": 15,
     "metadata": {},
     "output_type": "execute_result"
    }
   ],
   "source": [
    "ratio"
   ]
  },
  {
   "cell_type": "code",
   "execution_count": 16,
   "id": "84ecaa39",
   "metadata": {
    "ExecuteTime": {
     "end_time": "2023-07-07T17:17:48.754865Z",
     "start_time": "2023-07-07T17:17:48.694762Z"
    }
   },
   "outputs": [
    {
     "data": {
      "text/html": [
       "<div>\n",
       "<style scoped>\n",
       "    .dataframe tbody tr th:only-of-type {\n",
       "        vertical-align: middle;\n",
       "    }\n",
       "\n",
       "    .dataframe tbody tr th {\n",
       "        vertical-align: top;\n",
       "    }\n",
       "\n",
       "    .dataframe thead th {\n",
       "        text-align: right;\n",
       "    }\n",
       "</style>\n",
       "<table border=\"1\" class=\"dataframe\">\n",
       "  <thead>\n",
       "    <tr style=\"text-align: right;\">\n",
       "      <th></th>\n",
       "      <th></th>\n",
       "      <th>$\\mu / \\sigma$</th>\n",
       "    </tr>\n",
       "    <tr>\n",
       "      <th>$m_{med}$</th>\n",
       "      <th>$m_{DM}$</th>\n",
       "      <th></th>\n",
       "    </tr>\n",
       "  </thead>\n",
       "  <tbody>\n",
       "    <tr>\n",
       "      <th rowspan=\"4\" valign=\"top\">500.0</th>\n",
       "      <th>500.0</th>\n",
       "      <td>0.640369</td>\n",
       "    </tr>\n",
       "    <tr>\n",
       "      <th>1000.0</th>\n",
       "      <td>0.394236</td>\n",
       "    </tr>\n",
       "    <tr>\n",
       "      <th>1200.0</th>\n",
       "      <td>0.422683</td>\n",
       "    </tr>\n",
       "    <tr>\n",
       "      <th>1400.0</th>\n",
       "      <td>0.336666</td>\n",
       "    </tr>\n",
       "    <tr>\n",
       "      <th>750.0</th>\n",
       "      <th>500.0</th>\n",
       "      <td>0.684344</td>\n",
       "    </tr>\n",
       "    <tr>\n",
       "      <th rowspan=\"3\" valign=\"top\">1000.0</th>\n",
       "      <th>1000.0</th>\n",
       "      <td>0.395224</td>\n",
       "    </tr>\n",
       "    <tr>\n",
       "      <th>1200.0</th>\n",
       "      <td>0.318503</td>\n",
       "    </tr>\n",
       "    <tr>\n",
       "      <th>1400.0</th>\n",
       "      <td>0.395314</td>\n",
       "    </tr>\n",
       "    <tr>\n",
       "      <th rowspan=\"2\" valign=\"top\">1250.0</th>\n",
       "      <th>500.0</th>\n",
       "      <td>0.884166</td>\n",
       "    </tr>\n",
       "    <tr>\n",
       "      <th>1200.0</th>\n",
       "      <td>0.380693</td>\n",
       "    </tr>\n",
       "    <tr>\n",
       "      <th rowspan=\"3\" valign=\"top\">1500.0</th>\n",
       "      <th>500.0</th>\n",
       "      <td>0.680957</td>\n",
       "    </tr>\n",
       "    <tr>\n",
       "      <th>1200.0</th>\n",
       "      <td>0.382793</td>\n",
       "    </tr>\n",
       "    <tr>\n",
       "      <th>1400.0</th>\n",
       "      <td>0.435748</td>\n",
       "    </tr>\n",
       "    <tr>\n",
       "      <th>1750.0</th>\n",
       "      <th>500.0</th>\n",
       "      <td>0.543186</td>\n",
       "    </tr>\n",
       "    <tr>\n",
       "      <th rowspan=\"3\" valign=\"top\">2000.0</th>\n",
       "      <th>500.0</th>\n",
       "      <td>0.442961</td>\n",
       "    </tr>\n",
       "    <tr>\n",
       "      <th>1200.0</th>\n",
       "      <td>0.382585</td>\n",
       "    </tr>\n",
       "    <tr>\n",
       "      <th>1400.0</th>\n",
       "      <td>0.306934</td>\n",
       "    </tr>\n",
       "    <tr>\n",
       "      <th>2250.0</th>\n",
       "      <th>500.0</th>\n",
       "      <td>0.435639</td>\n",
       "    </tr>\n",
       "    <tr>\n",
       "      <th rowspan=\"4\" valign=\"top\">2500.0</th>\n",
       "      <th>500.0</th>\n",
       "      <td>0.428555</td>\n",
       "    </tr>\n",
       "    <tr>\n",
       "      <th>1000.0</th>\n",
       "      <td>0.414589</td>\n",
       "    </tr>\n",
       "    <tr>\n",
       "      <th>1200.0</th>\n",
       "      <td>0.395469</td>\n",
       "    </tr>\n",
       "    <tr>\n",
       "      <th>1400.0</th>\n",
       "      <td>0.407478</td>\n",
       "    </tr>\n",
       "    <tr>\n",
       "      <th rowspan=\"3\" valign=\"top\">3000.0</th>\n",
       "      <th>1000.0</th>\n",
       "      <td>0.376334</td>\n",
       "    </tr>\n",
       "    <tr>\n",
       "      <th>1200.0</th>\n",
       "      <td>0.370572</td>\n",
       "    </tr>\n",
       "    <tr>\n",
       "      <th>1400.0</th>\n",
       "      <td>0.389591</td>\n",
       "    </tr>\n",
       "  </tbody>\n",
       "</table>\n",
       "</div>"
      ],
      "text/plain": [
       "                    $\\mu / \\sigma$\n",
       "$m_{med}$ $m_{DM}$                \n",
       "500.0     500.0           0.640369\n",
       "          1000.0          0.394236\n",
       "          1200.0          0.422683\n",
       "          1400.0          0.336666\n",
       "750.0     500.0           0.684344\n",
       "1000.0    1000.0          0.395224\n",
       "          1200.0          0.318503\n",
       "          1400.0          0.395314\n",
       "1250.0    500.0           0.884166\n",
       "          1200.0          0.380693\n",
       "1500.0    500.0           0.680957\n",
       "          1200.0          0.382793\n",
       "          1400.0          0.435748\n",
       "1750.0    500.0           0.543186\n",
       "2000.0    500.0           0.442961\n",
       "          1200.0          0.382585\n",
       "          1400.0          0.306934\n",
       "2250.0    500.0           0.435639\n",
       "2500.0    500.0           0.428555\n",
       "          1000.0          0.414589\n",
       "          1200.0          0.395469\n",
       "          1400.0          0.407478\n",
       "3000.0    1000.0          0.376334\n",
       "          1200.0          0.370572\n",
       "          1400.0          0.389591"
      ]
     },
     "execution_count": 16,
     "metadata": {},
     "output_type": "execute_result"
    }
   ],
   "source": [
    "dataAx.T"
   ]
  },
  {
   "cell_type": "code",
   "execution_count": 18,
   "id": "07fea670",
   "metadata": {
    "ExecuteTime": {
     "end_time": "2023-07-07T17:17:57.993052Z",
     "start_time": "2023-07-07T17:17:57.976493Z"
    }
   },
   "outputs": [
    {
     "data": {
      "text/html": [
       "<div>\n",
       "<style scoped>\n",
       "    .dataframe tbody tr th:only-of-type {\n",
       "        vertical-align: middle;\n",
       "    }\n",
       "\n",
       "    .dataframe tbody tr th {\n",
       "        vertical-align: top;\n",
       "    }\n",
       "\n",
       "    .dataframe thead th {\n",
       "        text-align: right;\n",
       "    }\n",
       "</style>\n",
       "<table border=\"1\" class=\"dataframe\">\n",
       "  <thead>\n",
       "    <tr style=\"text-align: right;\">\n",
       "      <th></th>\n",
       "      <th></th>\n",
       "      <th>$\\mu / \\sigma$</th>\n",
       "    </tr>\n",
       "    <tr>\n",
       "      <th>$m_{med}$</th>\n",
       "      <th>$m_{DM}$</th>\n",
       "      <th></th>\n",
       "    </tr>\n",
       "  </thead>\n",
       "  <tbody>\n",
       "    <tr>\n",
       "      <th rowspan=\"4\" valign=\"top\">500.0</th>\n",
       "      <th>500.0</th>\n",
       "      <td>0.294030</td>\n",
       "    </tr>\n",
       "    <tr>\n",
       "      <th>1000.0</th>\n",
       "      <td>0.087765</td>\n",
       "    </tr>\n",
       "    <tr>\n",
       "      <th>1200.0</th>\n",
       "      <td>NaN</td>\n",
       "    </tr>\n",
       "    <tr>\n",
       "      <th>1400.0</th>\n",
       "      <td>NaN</td>\n",
       "    </tr>\n",
       "    <tr>\n",
       "      <th>750.0</th>\n",
       "      <th>500.0</th>\n",
       "      <td>0.343839</td>\n",
       "    </tr>\n",
       "    <tr>\n",
       "      <th rowspan=\"3\" valign=\"top\">1000.0</th>\n",
       "      <th>1000.0</th>\n",
       "      <td>0.085869</td>\n",
       "    </tr>\n",
       "    <tr>\n",
       "      <th>1200.0</th>\n",
       "      <td>NaN</td>\n",
       "    </tr>\n",
       "    <tr>\n",
       "      <th>1400.0</th>\n",
       "      <td>NaN</td>\n",
       "    </tr>\n",
       "    <tr>\n",
       "      <th rowspan=\"2\" valign=\"top\">1250.0</th>\n",
       "      <th>500.0</th>\n",
       "      <td>0.324201</td>\n",
       "    </tr>\n",
       "    <tr>\n",
       "      <th>1200.0</th>\n",
       "      <td>NaN</td>\n",
       "    </tr>\n",
       "    <tr>\n",
       "      <th rowspan=\"3\" valign=\"top\">1500.0</th>\n",
       "      <th>500.0</th>\n",
       "      <td>0.215841</td>\n",
       "    </tr>\n",
       "    <tr>\n",
       "      <th>1200.0</th>\n",
       "      <td>0.081592</td>\n",
       "    </tr>\n",
       "    <tr>\n",
       "      <th>1400.0</th>\n",
       "      <td>NaN</td>\n",
       "    </tr>\n",
       "    <tr>\n",
       "      <th>1750.0</th>\n",
       "      <th>500.0</th>\n",
       "      <td>0.175868</td>\n",
       "    </tr>\n",
       "    <tr>\n",
       "      <th rowspan=\"3\" valign=\"top\">2000.0</th>\n",
       "      <th>500.0</th>\n",
       "      <td>0.154898</td>\n",
       "    </tr>\n",
       "    <tr>\n",
       "      <th>1200.0</th>\n",
       "      <td>0.085727</td>\n",
       "    </tr>\n",
       "    <tr>\n",
       "      <th>1400.0</th>\n",
       "      <td>NaN</td>\n",
       "    </tr>\n",
       "    <tr>\n",
       "      <th>2250.0</th>\n",
       "      <th>500.0</th>\n",
       "      <td>0.135164</td>\n",
       "    </tr>\n",
       "    <tr>\n",
       "      <th rowspan=\"4\" valign=\"top\">2500.0</th>\n",
       "      <th>500.0</th>\n",
       "      <td>0.129654</td>\n",
       "    </tr>\n",
       "    <tr>\n",
       "      <th>1000.0</th>\n",
       "      <td>0.098301</td>\n",
       "    </tr>\n",
       "    <tr>\n",
       "      <th>1200.0</th>\n",
       "      <td>0.093733</td>\n",
       "    </tr>\n",
       "    <tr>\n",
       "      <th>1400.0</th>\n",
       "      <td>0.074938</td>\n",
       "    </tr>\n",
       "    <tr>\n",
       "      <th rowspan=\"3\" valign=\"top\">3000.0</th>\n",
       "      <th>1000.0</th>\n",
       "      <td>0.079010</td>\n",
       "    </tr>\n",
       "    <tr>\n",
       "      <th>1200.0</th>\n",
       "      <td>0.079295</td>\n",
       "    </tr>\n",
       "    <tr>\n",
       "      <th>1400.0</th>\n",
       "      <td>0.073794</td>\n",
       "    </tr>\n",
       "  </tbody>\n",
       "</table>\n",
       "</div>"
      ],
      "text/plain": [
       "                    $\\mu / \\sigma$\n",
       "$m_{med}$ $m_{DM}$                \n",
       "500.0     500.0           0.294030\n",
       "          1000.0          0.087765\n",
       "          1200.0               NaN\n",
       "          1400.0               NaN\n",
       "750.0     500.0           0.343839\n",
       "1000.0    1000.0          0.085869\n",
       "          1200.0               NaN\n",
       "          1400.0               NaN\n",
       "1250.0    500.0           0.324201\n",
       "          1200.0               NaN\n",
       "1500.0    500.0           0.215841\n",
       "          1200.0          0.081592\n",
       "          1400.0               NaN\n",
       "1750.0    500.0           0.175868\n",
       "2000.0    500.0           0.154898\n",
       "          1200.0          0.085727\n",
       "          1400.0               NaN\n",
       "2250.0    500.0           0.135164\n",
       "2500.0    500.0           0.129654\n",
       "          1000.0          0.098301\n",
       "          1200.0          0.093733\n",
       "          1400.0          0.074938\n",
       "3000.0    1000.0          0.079010\n",
       "          1200.0          0.079295\n",
       "          1400.0          0.073794"
      ]
     },
     "execution_count": 18,
     "metadata": {},
     "output_type": "execute_result"
    }
   ],
   "source": [
    "dataVec.T"
   ]
  },
  {
   "cell_type": "code",
   "execution_count": null,
   "id": "fb0ca123",
   "metadata": {},
   "outputs": [],
   "source": []
  }
 ],
 "metadata": {
  "kernelspec": {
   "display_name": "Python 3 (ipykernel)",
   "language": "python",
   "name": "python3"
  },
  "language_info": {
   "codemirror_mode": {
    "name": "ipython",
    "version": 3
   },
   "file_extension": ".py",
   "mimetype": "text/x-python",
   "name": "python",
   "nbconvert_exporter": "python",
   "pygments_lexer": "ipython3",
   "version": "3.10.6"
  }
 },
 "nbformat": 4,
 "nbformat_minor": 5
}
