{
 "cells": [
  {
   "cell_type": "code",
   "execution_count": 1,
   "id": "73c69e33",
   "metadata": {
    "ExecuteTime": {
     "end_time": "2023-03-30T18:07:29.918772Z",
     "start_time": "2023-03-30T18:07:27.981504Z"
    }
   },
   "outputs": [
    {
     "name": "stdout",
     "output_type": "stream",
     "text": [
      "Welcome to JupyROOT 6.26/10\n"
     ]
    }
   ],
   "source": [
    "import sys,os,glob,copy\n",
    "sys.path.append('../')\n",
    "import numpy as np\n",
    "from numpy.linalg import norm\n",
    "import pandas as pd\n",
    "from matplotlib import pyplot as plt\n",
    "import seaborn as sns\n",
    "from scipy.interpolate import LinearNDInterpolator,interp2d\n",
    "import matplotlib as mpl\n",
    "from matplotlib.colors import LogNorm\n",
    "from IPython.display import display, Markdown\n",
    "from collections import OrderedDict\n",
    "import pylhe\n",
    "import glob\n",
    "import pyslha\n",
    "\n",
    "delphesDir = os.path.abspath(\"../../MG5/Delphes\")\n",
    "os.environ['ROOT_INCLUDE_PATH'] = os.path.join(delphesDir,\"external\")\n",
    "\n",
    "import ROOT\n",
    "import xml.etree.ElementTree as ET\n",
    "\n",
    "\n",
    "ROOT.gSystem.Load(os.path.join(delphesDir,\"libDelphes.so\"))\n",
    "\n",
    "ROOT.gInterpreter.Declare('#include \"classes/SortableObject.h\"')\n",
    "ROOT.gInterpreter.Declare('#include \"classes/DelphesClasses.h\"')\n",
    "ROOT.gInterpreter.Declare('#include \"external/ExRootAnalysis/ExRootTreeReader.h\"')\n",
    "\n",
    "plt.rcParams.update({\n",
    "    \"text.usetex\": True,\n",
    "    \"font.family\": \"sans-serif\",\n",
    "    \"font.sans-serif\": [\"Helvetica\"]})\n",
    "\n",
    "plt.rcParams.update({\"savefig.dpi\" : 300}) #Figure resolution\n",
    "\n",
    "\n",
    "#Define plotting style:\n",
    "sns.set() #Set style\n",
    "sns.set_style('ticks',{'font.family':'Times New Roman', 'font.serif':'Times New Roman'})\n",
    "sns.set_context('paper', font_scale=1.8)\n",
    "cm = plt.cm.get_cmap('RdYlBu')"
   ]
  },
  {
   "cell_type": "markdown",
   "id": "87622e4a",
   "metadata": {},
   "source": [
    "# Set Delphes output file"
   ]
  },
  {
   "cell_type": "code",
   "execution_count": 2,
   "id": "030fc287",
   "metadata": {},
   "outputs": [],
   "source": [
    "\n",
    "inputFiles =  {'ADD(MD=2,n=2)' : '../add_2_2_delphes_events.root',\n",
    "              'ADD(MD=2,n=6)' : '../add_2_6_delphes_events.root',}"
   ]
  },
  {
   "cell_type": "markdown",
   "id": "58dbbed7",
   "metadata": {},
   "source": [
    "# Load events, get parton level and detector level MET"
   ]
  },
  {
   "cell_type": "code",
   "execution_count": 3,
   "id": "30ec0a1d",
   "metadata": {},
   "outputs": [
    {
     "name": "stdout",
     "output_type": "stream",
     "text": [
      "Total MC events= 15000\n",
      "Total MC events= 15000\n"
     ]
    }
   ],
   "source": [
    "pTj1 = {label : np.array([]) for label in inputFiles}\n",
    "weights = {label : np.array([]) for label in inputFiles}\n",
    "met = {label : np.array([]) for label in inputFiles}\n",
    "genMet = {label : np.array([]) for label in inputFiles}\n",
    "totalweight = {label : 0.0 for label in inputFiles}\n",
    "\n",
    "mG = {label : [] for label in inputFiles}\n",
    "for label,inputFile in inputFiles.items():\n",
    "\n",
    "    f = ROOT.TFile(inputFile,'read')\n",
    "    tree = f.Get(\"Delphes\")\n",
    "    nevts = tree.GetEntries()\n",
    "    print('Total MC events=',nevts)\n",
    "    \n",
    "    for ievt in range(nevts):    \n",
    "        tree.GetEntry(ievt)        \n",
    "        missingET = tree.MissingET.At(0)\n",
    "        w = tree.Weight\n",
    "        totalweight[label] += w.At(0).Weight\n",
    "        genMissingET = tree.GenMissingET.At(0)  # USE REAL MISSING ET!\n",
    "        dmMissingET = tree.DMMissingET.At(0)  # USE REAL MISSING ET!\n",
    "#         particles = tree.Particle\n",
    "        dmParticles = tree.dmParticles\n",
    "        if dmParticles.GetEntries() != 1:\n",
    "            print(dmParticles.GetEntries(),'found')\n",
    "            break\n",
    "        mG[label].append(dmParticles.At(0).Mass)\n",
    "#         stableParticles = tree.StableParticles\n",
    "#         break\n",
    "#     break\n",
    "    f.Close()\n"
   ]
  },
  {
   "cell_type": "markdown",
   "id": "926ba83b",
   "metadata": {},
   "source": [
    "### Plot Distributions"
   ]
  },
  {
   "cell_type": "code",
   "execution_count": 6,
   "id": "f0c62218",
   "metadata": {},
   "outputs": [
    {
     "data": {
      "image/png": "[encoded data removed]",
      "text/plain": [
       "<Figure size 720x432 with 1 Axes>"
      ]
     },
     "metadata": {
      "needs_background": "light"
     },
     "output_type": "display_data"
    }
   ],
   "source": [
    "fig = plt.figure(figsize=(10,6))\n",
    "for label in mG:\n",
    "    plt.hist(mG[label],bins=np.arange(0.,5000.,100.),density=True,\n",
    "             histtype='step',linewidth=2,label=label)\n",
    "    \n",
    "        \n",
    "# plt.yscale('log')\n",
    "# plt.ylim(1e-4,1e0)\n",
    "plt.xlabel(r'$m_{G}$ (GeV)')\n",
    "# plt.ylabel(r'$\\frac{d\\sigma}{d p_T^{miss}}$ (pb)')\n",
    "# plt.xlim(0,1000)\n",
    "plt.legend()\n",
    "# plt.title(r'$m_{G} = %1.2f \\pm %1.2f$' %(np.mean(mG),np.std(mG)))\n",
    "plt.show()"
   ]
  },
  {
   "cell_type": "code",
   "execution_count": null,
   "id": "7232c4b6",
   "metadata": {},
   "outputs": [],
   "source": []
  }
 ],
 "metadata": {
  "kernelspec": {
   "display_name": "Python 3 (ipykernel)",
   "language": "python",
   "name": "python3"
  },
  "language_info": {
   "codemirror_mode": {
    "name": "ipython",
    "version": 3
   },
   "file_extension": ".py",
   "mimetype": "text/x-python",
   "name": "python",
   "nbconvert_exporter": "python",
   "pygments_lexer": "ipython3",
   "version": "3.10.6"
  }
 },
 "nbformat": 4,
 "nbformat_minor": 5
}
