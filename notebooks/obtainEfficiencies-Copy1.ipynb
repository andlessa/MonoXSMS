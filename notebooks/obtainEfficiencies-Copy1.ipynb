{
 "cells": [
  {
   "cell_type": "code",
   "execution_count": 1,
   "id": "bb32bdd2",
   "metadata": {
    "ExecuteTime": {
     "end_time": "2023-03-16T20:14:06.651955Z",
     "start_time": "2023-03-16T20:14:05.954627Z"
    }
   },
   "outputs": [],
   "source": [
    "import sys,os,glob,copy\n",
    "sys.path.append('../')\n",
    "import numpy as np\n",
    "from numpy.linalg import norm\n",
    "import pandas as pd\n",
    "from matplotlib import pyplot as plt\n",
    "import seaborn as sns\n",
    "from scipy.interpolate import LinearNDInterpolator,interp2d, griddata\n",
    "from itertools import product\n",
    "import matplotlib as mpl\n",
    "from matplotlib.colors import LogNorm\n",
    "from IPython.display import display, Markdown\n",
    "import glob\n",
    "plt.rcParams.update({\n",
    "    \"text.usetex\": True,\n",
    "    \"font.family\": \"sans-serif\",\n",
    "    \"font.sans-serif\": [\"Helvetica\"]})\n",
    "\n",
    "plt.rcParams.update({\"savefig.dpi\" : 300}) #Figure resolution\n",
    "\n",
    "\n",
    "#Define plotting style:\n",
    "sns.set() #Set style\n",
    "sns.set_style('ticks',{'font.family':'Times New Roman', 'font.serif':'Times New Roman'})\n",
    "sns.set_context('paper', font_scale=1.8)\n",
    "cm = plt.cm.get_cmap('RdYlBu')\n",
    "\n",
    "\n",
    "pd.set_option('display.max_rows', 200)"
   ]
  },
  {
   "cell_type": "markdown",
   "id": "60aec053",
   "metadata": {},
   "source": [
    "### Load Recast Data"
   ]
  },
  {
   "cell_type": "code",
   "execution_count": 2,
   "id": "1fae113c",
   "metadata": {
    "ExecuteTime": {
     "end_time": "2023-03-16T20:14:06.659836Z",
     "start_time": "2023-03-16T20:14:06.653612Z"
    }
   },
   "outputs": [],
   "source": [
    "inputFiles = ['../scanResults_axial.pcl', '../scanResults_vector.pcl']\n",
    "dfs = [pd.read_pickle(i) for i in inputFiles]\n",
    "recastData = pd.concat(dfs, ignore_index=True)"
   ]
  },
  {
   "cell_type": "markdown",
   "id": "8c9d042d",
   "metadata": {},
   "source": [
    "### Get all model points"
   ]
  },
  {
   "cell_type": "code",
   "execution_count": 3,
   "id": "377d3b1f",
   "metadata": {
    "ExecuteTime": {
     "end_time": "2023-03-16T20:14:06.877746Z",
     "start_time": "2023-03-16T20:14:06.732976Z"
    }
   },
   "outputs": [
    {
     "name": "stdout",
     "output_type": "stream",
     "text": [
      "376 models loaded.\n"
     ]
    }
   ],
   "source": [
    "models = []\n",
    "mCols = ['Coupling', 'Mode', '$m_{med}$', '$m_{DM}$', '$g_{DM}$', '$g_{q}$']\n",
    "for row in recastData[mCols].values:\n",
    "    m = dict(zip(mCols, row.tolist()))\n",
    "    if m not in models:\n",
    "        models.append(m)\n",
    "\n",
    "print('%i models loaded.' %len(models))"
   ]
  },
  {
   "cell_type": "markdown",
   "id": "15895a84",
   "metadata": {},
   "source": [
    "### Get models parameters"
   ]
  },
  {
   "cell_type": "code",
   "execution_count": 4,
   "id": "728ea499",
   "metadata": {
    "ExecuteTime": {
     "end_time": "2023-03-16T20:14:07.080254Z",
     "start_time": "2023-03-16T20:14:07.063995Z"
    }
   },
   "outputs": [
    {
     "name": "stdout",
     "output_type": "stream",
     "text": [
      "{'Coupling': ['Vector', 'Axial'], 'Mode': 'DM+QCDjets', '$m_{med}$': [450.0, 1250.0, 100.0, 2500.0, 200.0, 1000.0, 2250.0, 300.0, 750.0, 400.0, 2000.0, 500.0, 1750.0, 3000.0, 250.0, 1500.0, 2750.0], '$m_{DM}$': [1.0, 1400.0, 900.0, 650.0, 400.0, 150.0, 30.0, 800.0, 40.0, 300.0, 45.0, 1200.0, 50.0, 55.0, 700.0, 60.0, 450.0, 70.0, 200.0, 75.0, 1100.0, 80.0, 600.0, 90.0, 1500.0, 350.0, 100.0, 1000.0, 750.0, 500.0, 120.0, 250.0], '$g_{DM}$': 1.0, '$g_{q}$': 0.25}\n",
      "Coupling = ['Vector', 'Axial']\n",
      "Mode = DM+QCDjets\n",
      "$g_{DM}$ = 1.0\n",
      "$g_{q}$ = 0.25\n"
     ]
    }
   ],
   "source": [
    "parameters = {label : list(set([m[label] for m in models])) for label in mCols}\n",
    "for k,v in parameters.items():\n",
    "    if len(v) == 1:\n",
    "        parameters[k] = v[0]\n",
    "print(parameters)\n",
    "\n",
    "textstr = '\\n'.join([r'%s = %s' %(k,v) for k,v in parameters.items() if k not in ['$m_{med}$','$m_{DM}$']])\n",
    "print(textstr)"
   ]
  },
  {
   "cell_type": "markdown",
   "id": "7261cbb7",
   "metadata": {},
   "source": [
    "### Filter parameters"
   ]
  },
  {
   "cell_type": "code",
   "execution_count": 5,
   "id": "733347e8",
   "metadata": {
    "ExecuteTime": {
     "end_time": "2023-03-16T20:14:07.608221Z",
     "start_time": "2023-03-16T20:14:07.589007Z"
    }
   },
   "outputs": [],
   "source": [
    "paramFilter = {\n",
    "    'Mode' : 'DM+QCDjets',\n",
    "    '$m_{med}$' : 3000.,\n",
    "    '$m_{DM}$' : 800.,\n",
    "    '$g_{DM}$' : 1.,\n",
    "    '$g_{q}$' : .25,\n",
    "    'Data-takingperiod' : 2017\n",
    "}\n",
    "\n",
    "textstr = '\\n'.join([r'%s = %s' %(k,v) for k,v in paramFilter.items()])\n",
    "dfModel = recastData.loc[(recastData[list(paramFilter)] == pd.Series(paramFilter)).all(axis=1)]"
   ]
  },
  {
   "cell_type": "markdown",
   "id": "cc6ba1ef",
   "metadata": {},
   "source": [
    "The efficiency for the $i$-th bin, $\\epsilon_{i}$, is given by:\n",
    "\n",
    "$$ \\epsilon_{i} = \\frac{n^{i}_{s}}{\\sigma_{T}\\mathcal{L}},   $$\n",
    "where $n^{i}_{s}$ is the number of events in the correspondent bin, $\\sigma_{T}$ is the total cross-section, and $\\mathcal{L}$ is the integrated luminosity.  "
   ]
  },
  {
   "cell_type": "markdown",
   "id": "3771ebb8",
   "metadata": {},
   "source": [
    "### Auxiliar functions for plotting"
   ]
  },
  {
   "cell_type": "code",
   "execution_count": 6,
   "id": "146a828f",
   "metadata": {
    "ExecuteTime": {
     "end_time": "2023-03-16T20:14:08.265361Z",
     "start_time": "2023-03-16T20:14:08.237807Z"
    }
   },
   "outputs": [],
   "source": [
    "def getBins(dfModel,rightBin = 2000.):\n",
    "    \n",
    "    bins = {c : eval(c.split('_')[1]) for c in dfModel.columns if (\"bin_\" in c and not 'Error' in c)}\n",
    "    binsError = {c : eval(c.split('_')[1]) for c in dfModel.columns if (\"bin_\" in c and 'ErrorPlus' in c)}    \n",
    "    binCenter = (np.array(list(bins.values()))+np.diff(list(bins.values())+[rightBin])/2).tolist()    \n",
    "    binLeft = [bins[c] for c in bins]+[rightBin] \n",
    "    \n",
    "    return bins,binsError,binCenter,binLeft\n",
    "\n",
    "\n",
    "def getEfficiencies(dfSingle, bins, binsError):\n",
    "    \n",
    "    xsec = dfSingle['Total xsec (pb)'].iloc[0]\n",
    "    lumi = dfSingle['Luminosity (1/fb)'].iloc[0]\n",
    "    eff = {c: dfSingle[c].iloc[0]/(xsec*1e3*lumi) for c in bins}\n",
    "    ns = {c: dfSingle[c].iloc[0] for c in bins}\n",
    "    nsErr = {c : dfSingle[c].iloc[0] for c in binsError}\n",
    "    effErr = {}\n",
    "    for c in bins:\n",
    "        if ns[c] == 0:\n",
    "            effErr[f'{c}_Error'] = 0\n",
    "        else:\n",
    "            effErr[f'{c}_Error'] = nsErr[f'{c}_ErrorPlus']*eff[c]/ns[c]\n",
    "    \n",
    "    return eff, effErr"
   ]
  },
  {
   "cell_type": "markdown",
   "id": "506b253e",
   "metadata": {},
   "source": [
    "### Plot Efficiencies"
   ]
  },
  {
   "cell_type": "code",
   "execution_count": 9,
   "id": "855125bc",
   "metadata": {
    "ExecuteTime": {
     "end_time": "2023-03-16T20:16:46.450276Z",
     "start_time": "2023-03-16T20:16:46.061032Z"
    },
    "scrolled": false
   },
   "outputs": [
    {
     "data": {
      "image/png": "[encoded data removed]",
      "text/plain": [
       "<Figure size 900x700 with 2 Axes>"
      ]
     },
     "metadata": {},
     "output_type": "display_data"
    }
   ],
   "source": [
    "bins, binsError, binCenter, binLeft = getBins(dfModel)\n",
    "\n",
    "fig, ax = plt.subplots(2,sharex=True, gridspec_kw = {'height_ratios':[2, 1]},figsize=(9,7))\n",
    "\n",
    "data = pd.DataFrame(columns=['Axial', 'Vector'])\n",
    "dataError = pd.DataFrame(columns=['Axial', 'Vector'])\n",
    "colors = {label : sns.color_palette('deep')[i] for i,label in enumerate(data.keys())}    \n",
    "\n",
    "for label in dfModel['Coupling']:\n",
    "    dfSingle = dfModel[dfModel['Coupling'] == label]\n",
    "    data[label], dataError[label] = getEfficiencies(dfSingle, bins, binsError)\n",
    " \n",
    "    eff = np.array([data[label][c] for c in bins])\n",
    "    effErr = np.array([dataError[label][f'{c}_Error'] for c in bins])\n",
    "    \n",
    "    ax[0].scatter(x=binCenter, y=eff, s=30, color=colors[label], label=label)\n",
    "    ax[0].errorbar(binCenter, eff, yerr=effErr, marker='.', \n",
    "                   elinewidth=1.0, drawstyle='steps-mid',linewidth=0.0, color=colors[label])\n",
    "\n",
    "diff = np.abs(data.Axial - data.Vector)\n",
    "\n",
    "relDiff = diff/data.Axial\n",
    "relDiff = relDiff.replace(np.nan, 0)\n",
    "\n",
    "diffError = np.array(diff)/np.sqrt(dataError.Axial**2 + dataError.Vector**2)\n",
    "diffError = diffError.replace(np.nan, 0)\n",
    "\n",
    "label1 = r'$\\Delta \\epsilon / \\epsilon_{axial}$'\n",
    "# label1 = r'$\\frac{\\mbox{Axial-Vector}}{\\mbox{Axial}}$'\n",
    "label2 = r'$\\Delta \\epsilon / \\sigma_{\\epsilon}$'\n",
    "\n",
    "ax[1].plot(binCenter, relDiff, color=colors[label], linewidth=3., label=label1, alpha=.5)\n",
    "# ax[1].plot(binCenter, diffError, color=colors[label], linewidth=3., linestyle='--', \n",
    "#            label=label2)\n",
    "\n",
    "    \n",
    "ax[0].set_yscale('log')\n",
    "ax[0].text(.4, 2.4, textstr, fontsize=11, bbox=dict(facecolor='none', edgecolor='black'), \n",
    "           transform=plt.gca().transAxes)\n",
    "\n",
    "\n",
    "\n",
    "ax[0].set_ylabel('Efficiency')\n",
    "ax[0].legend()\n",
    "\n",
    "# ax[1].set_ylim(0., 2.)\n",
    "ax[1].legend(fontsize='12')\n",
    "ax[1].grid(True)\n",
    "ax[1].set_yticks([0., 0.2, 0.5, 1., 2.])\n",
    "ax[1].tick_params(axis='y', labelsize='12')\n",
    "ax[1].set_xlabel(r'$p_{T}^{miss}$ (GeV)')\n",
    "# ax[1].set_ylabel('Relative diff.')\n",
    "\n",
    "plt.show()"
   ]
  },
  {
   "cell_type": "code",
   "execution_count": 8,
   "id": "dd514b6e",
   "metadata": {
    "ExecuteTime": {
     "end_time": "2023-03-16T20:14:09.377061Z",
     "start_time": "2023-03-16T20:14:09.372774Z"
    }
   },
   "outputs": [
    {
     "data": {
      "text/plain": [
       "0.7138843525254142"
      ]
     },
     "execution_count": 8,
     "metadata": {},
     "output_type": "execute_result"
    }
   ],
   "source": [
    "relDiff.max()"
   ]
  },
  {
   "cell_type": "code",
   "execution_count": null,
   "id": "0b204663",
   "metadata": {},
   "outputs": [],
   "source": []
  }
 ],
 "metadata": {
  "kernelspec": {
   "display_name": "Python 3 (ipykernel)",
   "language": "python",
   "name": "python3"
  },
  "language_info": {
   "codemirror_mode": {
    "name": "ipython",
    "version": 3
   },
   "file_extension": ".py",
   "mimetype": "text/x-python",
   "name": "python",
   "nbconvert_exporter": "python",
   "pygments_lexer": "ipython3",
   "version": "3.10.6"
  },
  "vscode": {
   "interpreter": {
    "hash": "916dbcbb3f70747c44a77c7bcd40155683ae19c65e1c03b4aa3499c5328201f1"
   }
  }
 },
 "nbformat": 4,
 "nbformat_minor": 5
}
