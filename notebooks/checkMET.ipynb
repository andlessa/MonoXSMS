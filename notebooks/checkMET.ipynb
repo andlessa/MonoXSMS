{
 "cells": [
  {
   "cell_type": "code",
   "execution_count": 35,
   "id": "73c69e33",
   "metadata": {
    "ExecuteTime": {
     "end_time": "2023-04-20T11:21:53.478344Z",
     "start_time": "2023-04-20T11:21:53.362031Z"
    }
   },
   "outputs": [],
   "source": [
    "import sys,os,glob,copy\n",
    "sys.path.append('../')\n",
    "import numpy as np\n",
    "from numpy.linalg import norm\n",
    "import pandas as pd\n",
    "from matplotlib import pyplot as plt\n",
    "import seaborn as sns\n",
    "from scipy.interpolate import LinearNDInterpolator,interp2d\n",
    "import matplotlib as mpl\n",
    "from matplotlib.colors import LogNorm\n",
    "from IPython.display import display, Markdown\n",
    "from collections import OrderedDict\n",
    "import pylhe\n",
    "import glob\n",
    "import pyslha\n",
    "\n",
    "delphesDir = os.path.abspath(\"../../MG5/Delphes\")\n",
    "os.environ['ROOT_INCLUDE_PATH'] = os.path.join(delphesDir,\"external\")\n",
    "\n",
    "import ROOT\n",
    "import xml.etree.ElementTree as ET\n",
    "\n",
    "\n",
    "ROOT.gSystem.Load(os.path.join(delphesDir,\"libDelphes.so\"))\n",
    "\n",
    "ROOT.gInterpreter.Declare('#include \"classes/SortableObject.h\"')\n",
    "ROOT.gInterpreter.Declare('#include \"classes/DelphesClasses.h\"')\n",
    "ROOT.gInterpreter.Declare('#include \"external/ExRootAnalysis/ExRootTreeReader.h\"')\n",
    "\n",
    "plt.rcParams.update({\n",
    "    \"text.usetex\": True,\n",
    "    \"font.family\": \"sans-serif\",\n",
    "    \"font.sans-serif\": [\"Helvetica\"]})\n",
    "\n",
    "plt.rcParams.update({\"savefig.dpi\" : 300}) #Figure resolution\n",
    "\n",
    "\n",
    "#Define plotting style:\n",
    "sns.set() #Set style\n",
    "sns.set_style('ticks',{'font.family':'Times New Roman', 'font.serif':'Times New Roman'})\n",
    "sns.set_context('paper', font_scale=1.8)\n",
    "cm = plt.cm.get_cmap('RdYlBu')"
   ]
  },
  {
   "cell_type": "markdown",
   "id": "87622e4a",
   "metadata": {},
   "source": [
    "# Set Delphes output files"
   ]
  },
  {
   "cell_type": "code",
   "execution_count": 40,
   "id": "030fc287",
   "metadata": {
    "ExecuteTime": {
     "end_time": "2023-04-20T11:24:35.781389Z",
     "start_time": "2023-04-20T11:24:35.668412Z"
    }
   },
   "outputs": [],
   "source": [
    "inputFiles = {'0 jet' : '../DMSimp_axial_0j_match/Events/run_177/axial_3000_800_delphes_events.root',\n",
    "              '1 jet' : '../DMSimp_axial_1j_match/Events/run_177/axial_3000_800_delphes_events.root'            \n",
    "             }"
   ]
  },
  {
   "cell_type": "markdown",
   "id": "1e952041",
   "metadata": {},
   "source": [
    "# Load Model Parameters"
   ]
  },
  {
   "cell_type": "code",
   "execution_count": 41,
   "id": "f4236190",
   "metadata": {
    "ExecuteTime": {
     "end_time": "2023-04-20T11:24:36.399926Z",
     "start_time": "2023-04-20T11:24:36.291296Z"
    }
   },
   "outputs": [
    {
     "name": "stdout",
     "output_type": "stream",
     "text": [
      "0 jet : mMed = 3000.00 GeV, mDM = 800.00 GeV, cross-section = 2.162e-02 pb\n",
      "1 jet : mMed = 3000.00 GeV, mDM = 800.00 GeV, cross-section = 2.201e-02 pb\n"
     ]
    }
   ],
   "source": [
    "parameters = {}\n",
    "for label,file in inputFiles.items():\n",
    "    banner = list(glob.glob(os.path.dirname(file)+'/*banner.txt'))\n",
    "    if len(banner) != 1:\n",
    "        print('%i banner files found for %s!' %(len(banner),label))\n",
    "        continue\n",
    "    else:\n",
    "        banner = banner[0]\n",
    "    xtree = ET.parse(banner)\n",
    "    xroot = xtree.getroot()\n",
    "    xsecPB = eval(xroot.find('init').text.split()[-2])\n",
    "    slha = xroot.find('header').find('slha').text\n",
    "    pars = pyslha.readSLHA(slha)\n",
    "    mMed = pars.blocks['MASS'][55]\n",
    "    mDM = pars.blocks['MASS'][52]\n",
    "    gVq = pars.blocks['DMINPUTS'][4] # Mediator-quark vector coupling\n",
    "    gAq = pars.blocks['DMINPUTS'][10] # Mediator-quark axial coupling\n",
    "    gVx = pars.blocks['DMINPUTS'][2] # Mediator-DM vector coupling\n",
    "    gAx = pars.blocks['DMINPUTS'][3] # Mediator-DM axial coupling\n",
    "    parameters[label] = {'xsec(pb)' : xsecPB, 'mMed' : mMed, 'mDM' : mDM, \n",
    "                         'gVq' : gVq, 'gAq' : gAq, 'gVx' : gVx, 'gAx' : gAx}\n",
    "    print(label,': mMed = %1.2f GeV, mDM = %1.2f GeV, cross-section = %1.3e pb' %(mMed,mDM,xsecPB))"
   ]
  },
  {
   "cell_type": "markdown",
   "id": "58dbbed7",
   "metadata": {},
   "source": [
    "# Load events, get parton level and detector level MET"
   ]
  },
  {
   "cell_type": "code",
   "execution_count": 42,
   "id": "30ec0a1d",
   "metadata": {
    "ExecuteTime": {
     "end_time": "2023-04-20T11:24:51.120945Z",
     "start_time": "2023-04-20T11:24:40.647481Z"
    }
   },
   "outputs": [],
   "source": [
    "pTj1 = {label : np.array([]) for label in inputFiles}\n",
    "weights = {label : np.array([]) for label in inputFiles}\n",
    "met = {label : np.array([]) for label in inputFiles}\n",
    "genMet = {label : np.array([]) for label in inputFiles}\n",
    "totalweight = {label : 0.0 for label in inputFiles}\n",
    "\n",
    "    \n",
    "for label,inputFile in inputFiles.items():\n",
    "\n",
    "    f = ROOT.TFile(inputFile,'read')\n",
    "    tree = f.Get(\"Delphes\")\n",
    "    nevts = tree.GetEntries()\n",
    "    parameters[label]['Events'] = nevts\n",
    "    \n",
    "    for ievt in range(nevts):    \n",
    "        tree.GetEntry(ievt)        \n",
    "        weight = tree.Weight.At(1).Weight # Correct weight when using matching\n",
    "\n",
    "        totalweight[label] += weight\n",
    "\n",
    "        missingET = tree.MissingET.At(0)\n",
    "        genMissingET = tree.GenMissingET.At(0)  # USE REAL MISSING ET!\n",
    "        \n",
    "#         if missingET.MET < 250.:\n",
    "#             continue\n",
    "        \n",
    "        weights[label] = np.append(weights[label],weight)\n",
    "        met[label] = np.append(met[label],missingET.MET)\n",
    "        genMet[label] = np.append(genMet[label],genMissingET.MET)\n",
    "\n",
    "    f.Close()\n"
   ]
  },
  {
   "cell_type": "markdown",
   "id": "41ed33b5",
   "metadata": {},
   "source": [
    "### Total cross-sections"
   ]
  },
  {
   "cell_type": "code",
   "execution_count": 43,
   "id": "af245f53",
   "metadata": {
    "ExecuteTime": {
     "end_time": "2023-04-20T11:25:08.404918Z",
     "start_time": "2023-04-20T11:25:08.283177Z"
    }
   },
   "outputs": [
    {
     "name": "stdout",
     "output_type": "stream",
     "text": [
      "0 jet total cross-section = 1.964e-02 pb (23057 events)\n",
      "1 jet total cross-section = 1.118e-03 pb (83075 events)\n"
     ]
    }
   ],
   "source": [
    "for label,w in totalweight.items():\n",
    "    print(label,'total cross-section = %1.3e pb (%i events)' %(w,parameters[label]['Events']))\n",
    "colors = {label : sns.color_palette('deep')[i+1] for i,label in enumerate(weights.keys())}    "
   ]
  },
  {
   "cell_type": "markdown",
   "id": "91b0a1b7",
   "metadata": {},
   "source": [
    "# Get official CMS data"
   ]
  },
  {
   "cell_type": "code",
   "execution_count": 47,
   "id": "481222eb",
   "metadata": {
    "ExecuteTime": {
     "end_time": "2023-04-20T11:26:35.743612Z",
     "start_time": "2023-04-20T11:26:35.532160Z"
    }
   },
   "outputs": [],
   "source": [
    "pickleFile = '../validation/CMS-EXO-20-004/AuxInfo/CMS-EXO-20-004-data/DMsimp_spin-1_Monojet_DF.pcl'\n",
    "df = pd.read_pickle(pickleFile)"
   ]
  },
  {
   "cell_type": "code",
   "execution_count": 48,
   "id": "f26a0bc0",
   "metadata": {
    "ExecuteTime": {
     "end_time": "2023-04-20T11:26:35.907171Z",
     "start_time": "2023-04-20T11:26:35.747371Z"
    }
   },
   "outputs": [
    {
     "data": {
      "text/html": [
       "<div>\n",
       "<style scoped>\n",
       "    .dataframe tbody tr th:only-of-type {\n",
       "        vertical-align: middle;\n",
       "    }\n",
       "\n",
       "    .dataframe tbody tr th {\n",
       "        vertical-align: top;\n",
       "    }\n",
       "\n",
       "    .dataframe thead th {\n",
       "        text-align: right;\n",
       "    }\n",
       "</style>\n",
       "<table border=\"1\" class=\"dataframe\">\n",
       "  <thead>\n",
       "    <tr style=\"text-align: right;\">\n",
       "      <th></th>\n",
       "      <th>Coupling</th>\n",
       "      <th>Mode</th>\n",
       "      <th>$m_{med}$</th>\n",
       "      <th>$m_{DM}$</th>\n",
       "      <th>$g_{DM}$</th>\n",
       "      <th>$g_{q}$</th>\n",
       "      <th>Data-takingperiod</th>\n",
       "      <th>Fullsample</th>\n",
       "      <th>Triggeremulation</th>\n",
       "      <th>$p_{T}^{miss}&gt;250$GeV</th>\n",
       "      <th>...</th>\n",
       "      <th>bin_1160.0_1250.0</th>\n",
       "      <th>bin_1160.0_1250.0_ErrorPlus</th>\n",
       "      <th>bin_1160.0_1250.0_ErrorMinus</th>\n",
       "      <th>bin_1250.0_1400.0</th>\n",
       "      <th>bin_1250.0_1400.0_ErrorPlus</th>\n",
       "      <th>bin_1250.0_1400.0_ErrorMinus</th>\n",
       "      <th>Luminosity (1/fb)</th>\n",
       "      <th>Total xsec-pT150 (pb)</th>\n",
       "      <th>$\\mu^{UL}_{obs}$</th>\n",
       "      <th>$\\mu^{UL}_{exp}$</th>\n",
       "    </tr>\n",
       "  </thead>\n",
       "  <tbody>\n",
       "    <tr>\n",
       "      <th>49</th>\n",
       "      <td>Vector</td>\n",
       "      <td>DM+QCDjets</td>\n",
       "      <td>100.0</td>\n",
       "      <td>1.0</td>\n",
       "      <td>1.0</td>\n",
       "      <td>0.25</td>\n",
       "      <td>2016</td>\n",
       "      <td>NaN</td>\n",
       "      <td>NaN</td>\n",
       "      <td>NaN</td>\n",
       "      <td>...</td>\n",
       "      <td>120.560000</td>\n",
       "      <td>71.834000</td>\n",
       "      <td>-71.834000</td>\n",
       "      <td>251.280000</td>\n",
       "      <td>86.576000</td>\n",
       "      <td>-86.576000</td>\n",
       "      <td>36.0</td>\n",
       "      <td>NaN</td>\n",
       "      <td>0.010846</td>\n",
       "      <td>0.006040</td>\n",
       "    </tr>\n",
       "    <tr>\n",
       "      <th>307</th>\n",
       "      <td>Vector</td>\n",
       "      <td>DM+QCDjets</td>\n",
       "      <td>100.0</td>\n",
       "      <td>1.0</td>\n",
       "      <td>1.0</td>\n",
       "      <td>0.25</td>\n",
       "      <td>2017</td>\n",
       "      <td>1.0</td>\n",
       "      <td>0.84336</td>\n",
       "      <td>0.18074</td>\n",
       "      <td>...</td>\n",
       "      <td>326.810000</td>\n",
       "      <td>174.830000</td>\n",
       "      <td>-174.830000</td>\n",
       "      <td>103.050000</td>\n",
       "      <td>152.770000</td>\n",
       "      <td>-152.770000</td>\n",
       "      <td>41.5</td>\n",
       "      <td>161.101487</td>\n",
       "      <td>0.010846</td>\n",
       "      <td>0.006040</td>\n",
       "    </tr>\n",
       "    <tr>\n",
       "      <th>565</th>\n",
       "      <td>Vector</td>\n",
       "      <td>DM+QCDjets</td>\n",
       "      <td>100.0</td>\n",
       "      <td>1.0</td>\n",
       "      <td>1.0</td>\n",
       "      <td>0.25</td>\n",
       "      <td>2018</td>\n",
       "      <td>1.0</td>\n",
       "      <td>0.82011</td>\n",
       "      <td>0.17389</td>\n",
       "      <td>...</td>\n",
       "      <td>319.510000</td>\n",
       "      <td>174.190000</td>\n",
       "      <td>-174.190000</td>\n",
       "      <td>142.410000</td>\n",
       "      <td>145.390000</td>\n",
       "      <td>-145.390000</td>\n",
       "      <td>59.7</td>\n",
       "      <td>166.243104</td>\n",
       "      <td>0.010846</td>\n",
       "      <td>0.006040</td>\n",
       "    </tr>\n",
       "    <tr>\n",
       "      <th>51</th>\n",
       "      <td>Vector</td>\n",
       "      <td>DM+QCDjets</td>\n",
       "      <td>100.0</td>\n",
       "      <td>30.0</td>\n",
       "      <td>1.0</td>\n",
       "      <td>0.25</td>\n",
       "      <td>2016</td>\n",
       "      <td>NaN</td>\n",
       "      <td>NaN</td>\n",
       "      <td>NaN</td>\n",
       "      <td>...</td>\n",
       "      <td>132.210000</td>\n",
       "      <td>70.611000</td>\n",
       "      <td>-70.611000</td>\n",
       "      <td>129.020000</td>\n",
       "      <td>84.687000</td>\n",
       "      <td>-84.687000</td>\n",
       "      <td>36.0</td>\n",
       "      <td>NaN</td>\n",
       "      <td>0.011339</td>\n",
       "      <td>0.006416</td>\n",
       "    </tr>\n",
       "    <tr>\n",
       "      <th>309</th>\n",
       "      <td>Vector</td>\n",
       "      <td>DM+QCDjets</td>\n",
       "      <td>100.0</td>\n",
       "      <td>30.0</td>\n",
       "      <td>1.0</td>\n",
       "      <td>0.25</td>\n",
       "      <td>2017</td>\n",
       "      <td>1.0</td>\n",
       "      <td>0.84348</td>\n",
       "      <td>0.18037</td>\n",
       "      <td>...</td>\n",
       "      <td>258.590000</td>\n",
       "      <td>153.170000</td>\n",
       "      <td>-153.170000</td>\n",
       "      <td>71.535000</td>\n",
       "      <td>105.970000</td>\n",
       "      <td>-105.970000</td>\n",
       "      <td>41.5</td>\n",
       "      <td>160.216176</td>\n",
       "      <td>0.011339</td>\n",
       "      <td>0.006416</td>\n",
       "    </tr>\n",
       "    <tr>\n",
       "      <th>...</th>\n",
       "      <td>...</td>\n",
       "      <td>...</td>\n",
       "      <td>...</td>\n",
       "      <td>...</td>\n",
       "      <td>...</td>\n",
       "      <td>...</td>\n",
       "      <td>...</td>\n",
       "      <td>...</td>\n",
       "      <td>...</td>\n",
       "      <td>...</td>\n",
       "      <td>...</td>\n",
       "      <td>...</td>\n",
       "      <td>...</td>\n",
       "      <td>...</td>\n",
       "      <td>...</td>\n",
       "      <td>...</td>\n",
       "      <td>...</td>\n",
       "      <td>...</td>\n",
       "      <td>...</td>\n",
       "      <td>...</td>\n",
       "      <td>...</td>\n",
       "    </tr>\n",
       "    <tr>\n",
       "      <th>288</th>\n",
       "      <td>Axial</td>\n",
       "      <td>DM+QCDjets</td>\n",
       "      <td>2500.0</td>\n",
       "      <td>1000.0</td>\n",
       "      <td>1.0</td>\n",
       "      <td>0.25</td>\n",
       "      <td>2017</td>\n",
       "      <td>1.0</td>\n",
       "      <td>0.90069</td>\n",
       "      <td>0.47335</td>\n",
       "      <td>...</td>\n",
       "      <td>0.322040</td>\n",
       "      <td>0.034465</td>\n",
       "      <td>-0.034465</td>\n",
       "      <td>0.844780</td>\n",
       "      <td>0.055232</td>\n",
       "      <td>-0.055232</td>\n",
       "      <td>41.5</td>\n",
       "      <td>0.005944</td>\n",
       "      <td>10.975583</td>\n",
       "      <td>5.476457</td>\n",
       "    </tr>\n",
       "    <tr>\n",
       "      <th>546</th>\n",
       "      <td>Axial</td>\n",
       "      <td>DM+QCDjets</td>\n",
       "      <td>2500.0</td>\n",
       "      <td>1000.0</td>\n",
       "      <td>1.0</td>\n",
       "      <td>0.25</td>\n",
       "      <td>2018</td>\n",
       "      <td>1.0</td>\n",
       "      <td>0.88296</td>\n",
       "      <td>0.47240</td>\n",
       "      <td>...</td>\n",
       "      <td>0.484880</td>\n",
       "      <td>0.056180</td>\n",
       "      <td>-0.056180</td>\n",
       "      <td>1.129600</td>\n",
       "      <td>0.079979</td>\n",
       "      <td>-0.079979</td>\n",
       "      <td>59.7</td>\n",
       "      <td>0.005930</td>\n",
       "      <td>10.975583</td>\n",
       "      <td>5.476457</td>\n",
       "    </tr>\n",
       "    <tr>\n",
       "      <th>31</th>\n",
       "      <td>Axial</td>\n",
       "      <td>DM+QCDjets</td>\n",
       "      <td>2500.0</td>\n",
       "      <td>1500.0</td>\n",
       "      <td>1.0</td>\n",
       "      <td>0.25</td>\n",
       "      <td>2016</td>\n",
       "      <td>NaN</td>\n",
       "      <td>NaN</td>\n",
       "      <td>NaN</td>\n",
       "      <td>...</td>\n",
       "      <td>0.000920</td>\n",
       "      <td>0.000047</td>\n",
       "      <td>-0.000047</td>\n",
       "      <td>0.002347</td>\n",
       "      <td>0.000076</td>\n",
       "      <td>-0.000076</td>\n",
       "      <td>36.0</td>\n",
       "      <td>NaN</td>\n",
       "      <td>3964.605471</td>\n",
       "      <td>1911.678650</td>\n",
       "    </tr>\n",
       "    <tr>\n",
       "      <th>289</th>\n",
       "      <td>Axial</td>\n",
       "      <td>DM+QCDjets</td>\n",
       "      <td>2500.0</td>\n",
       "      <td>1500.0</td>\n",
       "      <td>1.0</td>\n",
       "      <td>0.25</td>\n",
       "      <td>2017</td>\n",
       "      <td>1.0</td>\n",
       "      <td>0.90311</td>\n",
       "      <td>0.49001</td>\n",
       "      <td>...</td>\n",
       "      <td>0.000962</td>\n",
       "      <td>0.000086</td>\n",
       "      <td>-0.000086</td>\n",
       "      <td>0.002792</td>\n",
       "      <td>0.000139</td>\n",
       "      <td>-0.000139</td>\n",
       "      <td>41.5</td>\n",
       "      <td>0.000012</td>\n",
       "      <td>3964.605471</td>\n",
       "      <td>1911.678650</td>\n",
       "    </tr>\n",
       "    <tr>\n",
       "      <th>547</th>\n",
       "      <td>Axial</td>\n",
       "      <td>DM+QCDjets</td>\n",
       "      <td>2500.0</td>\n",
       "      <td>1500.0</td>\n",
       "      <td>1.0</td>\n",
       "      <td>0.25</td>\n",
       "      <td>2018</td>\n",
       "      <td>1.0</td>\n",
       "      <td>0.88256</td>\n",
       "      <td>0.48947</td>\n",
       "      <td>...</td>\n",
       "      <td>0.001285</td>\n",
       "      <td>0.000120</td>\n",
       "      <td>-0.000120</td>\n",
       "      <td>0.003822</td>\n",
       "      <td>0.000197</td>\n",
       "      <td>-0.000197</td>\n",
       "      <td>59.7</td>\n",
       "      <td>0.000012</td>\n",
       "      <td>3964.605471</td>\n",
       "      <td>1911.678650</td>\n",
       "    </tr>\n",
       "  </tbody>\n",
       "</table>\n",
       "<p>258 rows × 95 columns</p>\n",
       "</div>"
      ],
      "text/plain": [
       "    Coupling        Mode  $m_{med}$  $m_{DM}$  $g_{DM}$  $g_{q}$  \\\n",
       "49    Vector  DM+QCDjets      100.0       1.0       1.0     0.25   \n",
       "307   Vector  DM+QCDjets      100.0       1.0       1.0     0.25   \n",
       "565   Vector  DM+QCDjets      100.0       1.0       1.0     0.25   \n",
       "51    Vector  DM+QCDjets      100.0      30.0       1.0     0.25   \n",
       "309   Vector  DM+QCDjets      100.0      30.0       1.0     0.25   \n",
       "..       ...         ...        ...       ...       ...      ...   \n",
       "288    Axial  DM+QCDjets     2500.0    1000.0       1.0     0.25   \n",
       "546    Axial  DM+QCDjets     2500.0    1000.0       1.0     0.25   \n",
       "31     Axial  DM+QCDjets     2500.0    1500.0       1.0     0.25   \n",
       "289    Axial  DM+QCDjets     2500.0    1500.0       1.0     0.25   \n",
       "547    Axial  DM+QCDjets     2500.0    1500.0       1.0     0.25   \n",
       "\n",
       "     Data-takingperiod  Fullsample  Triggeremulation  $p_{T}^{miss}>250$GeV  \\\n",
       "49                2016         NaN               NaN                    NaN   \n",
       "307               2017         1.0           0.84336                0.18074   \n",
       "565               2018         1.0           0.82011                0.17389   \n",
       "51                2016         NaN               NaN                    NaN   \n",
       "309               2017         1.0           0.84348                0.18037   \n",
       "..                 ...         ...               ...                    ...   \n",
       "288               2017         1.0           0.90069                0.47335   \n",
       "546               2018         1.0           0.88296                0.47240   \n",
       "31                2016         NaN               NaN                    NaN   \n",
       "289               2017         1.0           0.90311                0.49001   \n",
       "547               2018         1.0           0.88256                0.48947   \n",
       "\n",
       "     ...  bin_1160.0_1250.0  bin_1160.0_1250.0_ErrorPlus  \\\n",
       "49   ...         120.560000                    71.834000   \n",
       "307  ...         326.810000                   174.830000   \n",
       "565  ...         319.510000                   174.190000   \n",
       "51   ...         132.210000                    70.611000   \n",
       "309  ...         258.590000                   153.170000   \n",
       "..   ...                ...                          ...   \n",
       "288  ...           0.322040                     0.034465   \n",
       "546  ...           0.484880                     0.056180   \n",
       "31   ...           0.000920                     0.000047   \n",
       "289  ...           0.000962                     0.000086   \n",
       "547  ...           0.001285                     0.000120   \n",
       "\n",
       "     bin_1160.0_1250.0_ErrorMinus  bin_1250.0_1400.0  \\\n",
       "49                     -71.834000         251.280000   \n",
       "307                   -174.830000         103.050000   \n",
       "565                   -174.190000         142.410000   \n",
       "51                     -70.611000         129.020000   \n",
       "309                   -153.170000          71.535000   \n",
       "..                            ...                ...   \n",
       "288                     -0.034465           0.844780   \n",
       "546                     -0.056180           1.129600   \n",
       "31                      -0.000047           0.002347   \n",
       "289                     -0.000086           0.002792   \n",
       "547                     -0.000120           0.003822   \n",
       "\n",
       "     bin_1250.0_1400.0_ErrorPlus  bin_1250.0_1400.0_ErrorMinus  \\\n",
       "49                     86.576000                    -86.576000   \n",
       "307                   152.770000                   -152.770000   \n",
       "565                   145.390000                   -145.390000   \n",
       "51                     84.687000                    -84.687000   \n",
       "309                   105.970000                   -105.970000   \n",
       "..                           ...                           ...   \n",
       "288                     0.055232                     -0.055232   \n",
       "546                     0.079979                     -0.079979   \n",
       "31                      0.000076                     -0.000076   \n",
       "289                     0.000139                     -0.000139   \n",
       "547                     0.000197                     -0.000197   \n",
       "\n",
       "     Luminosity (1/fb)  Total xsec-pT150 (pb)  $\\mu^{UL}_{obs}$  \\\n",
       "49                36.0                    NaN          0.010846   \n",
       "307               41.5             161.101487          0.010846   \n",
       "565               59.7             166.243104          0.010846   \n",
       "51                36.0                    NaN          0.011339   \n",
       "309               41.5             160.216176          0.011339   \n",
       "..                 ...                    ...               ...   \n",
       "288               41.5               0.005944         10.975583   \n",
       "546               59.7               0.005930         10.975583   \n",
       "31                36.0                    NaN       3964.605471   \n",
       "289               41.5               0.000012       3964.605471   \n",
       "547               59.7               0.000012       3964.605471   \n",
       "\n",
       "     $\\mu^{UL}_{exp}$  \n",
       "49           0.006040  \n",
       "307          0.006040  \n",
       "565          0.006040  \n",
       "51           0.006416  \n",
       "309          0.006416  \n",
       "..                ...  \n",
       "288          5.476457  \n",
       "546          5.476457  \n",
       "31        1911.678650  \n",
       "289       1911.678650  \n",
       "547       1911.678650  \n",
       "\n",
       "[258 rows x 95 columns]"
      ]
     },
     "execution_count": 48,
     "metadata": {},
     "output_type": "execute_result"
    }
   ],
   "source": [
    "df"
   ]
  },
  {
   "cell_type": "markdown",
   "id": "708995d3",
   "metadata": {},
   "source": [
    "### Filter model"
   ]
  },
  {
   "cell_type": "code",
   "execution_count": 49,
   "id": "5fae6b8f",
   "metadata": {
    "ExecuteTime": {
     "end_time": "2023-04-20T11:26:37.677925Z",
     "start_time": "2023-04-20T11:26:37.515231Z"
    }
   },
   "outputs": [
    {
     "name": "stdout",
     "output_type": "stream",
     "text": [
      "0 data rows selected\n"
     ]
    },
    {
     "ename": "IndexError",
     "evalue": "single positional indexer is out-of-bounds",
     "output_type": "error",
     "traceback": [
      "\u001b[0;31m---------------------------------------------------------------------------\u001b[0m",
      "\u001b[0;31mIndexError\u001b[0m                                Traceback (most recent call last)",
      "Cell \u001b[0;32mIn[49], line 14\u001b[0m\n\u001b[1;32m     11\u001b[0m     \u001b[38;5;28mprint\u001b[39m(\u001b[38;5;124m'\u001b[39m\u001b[38;5;132;01m%i\u001b[39;00m\u001b[38;5;124m data rows selected\u001b[39m\u001b[38;5;124m'\u001b[39m \u001b[38;5;241m%\u001b[39m(\u001b[38;5;28mlen\u001b[39m(dfModel)))\n\u001b[1;32m     13\u001b[0m bins \u001b[38;5;241m=\u001b[39m {c : \u001b[38;5;28meval\u001b[39m(c\u001b[38;5;241m.\u001b[39msplit(\u001b[38;5;124m'\u001b[39m\u001b[38;5;124m_\u001b[39m\u001b[38;5;124m'\u001b[39m)[\u001b[38;5;241m1\u001b[39m]) \u001b[38;5;28;01mfor\u001b[39;00m c \u001b[38;5;129;01min\u001b[39;00m dfModel\u001b[38;5;241m.\u001b[39mcolumns \u001b[38;5;28;01mif\u001b[39;00m \u001b[38;5;124m\"\u001b[39m\u001b[38;5;124mbin_\u001b[39m\u001b[38;5;124m\"\u001b[39m \u001b[38;5;129;01min\u001b[39;00m c}\n\u001b[0;32m---> 14\u001b[0m cmsData \u001b[38;5;241m=\u001b[39m {c : dfModel[c]\u001b[38;5;241m.\u001b[39miloc[\u001b[38;5;241m0\u001b[39m] \u001b[38;5;28;01mfor\u001b[39;00m c \u001b[38;5;129;01min\u001b[39;00m bins}\n\u001b[1;32m     15\u001b[0m rightBin \u001b[38;5;241m=\u001b[39m \u001b[38;5;241m2000.\u001b[39m\n\u001b[1;32m     16\u001b[0m binCenter \u001b[38;5;241m=\u001b[39m (np\u001b[38;5;241m.\u001b[39marray(\u001b[38;5;28mlist\u001b[39m(bins\u001b[38;5;241m.\u001b[39mvalues()))\u001b[38;5;241m+\u001b[39mnp\u001b[38;5;241m.\u001b[39mdiff(\u001b[38;5;28mlist\u001b[39m(bins\u001b[38;5;241m.\u001b[39mvalues())\u001b[38;5;241m+\u001b[39m[rightBin])\u001b[38;5;241m/\u001b[39m\u001b[38;5;241m2\u001b[39m)\u001b[38;5;241m.\u001b[39mtolist()\n",
      "Cell \u001b[0;32mIn[49], line 14\u001b[0m, in \u001b[0;36m<dictcomp>\u001b[0;34m(.0)\u001b[0m\n\u001b[1;32m     11\u001b[0m     \u001b[38;5;28mprint\u001b[39m(\u001b[38;5;124m'\u001b[39m\u001b[38;5;132;01m%i\u001b[39;00m\u001b[38;5;124m data rows selected\u001b[39m\u001b[38;5;124m'\u001b[39m \u001b[38;5;241m%\u001b[39m(\u001b[38;5;28mlen\u001b[39m(dfModel)))\n\u001b[1;32m     13\u001b[0m bins \u001b[38;5;241m=\u001b[39m {c : \u001b[38;5;28meval\u001b[39m(c\u001b[38;5;241m.\u001b[39msplit(\u001b[38;5;124m'\u001b[39m\u001b[38;5;124m_\u001b[39m\u001b[38;5;124m'\u001b[39m)[\u001b[38;5;241m1\u001b[39m]) \u001b[38;5;28;01mfor\u001b[39;00m c \u001b[38;5;129;01min\u001b[39;00m dfModel\u001b[38;5;241m.\u001b[39mcolumns \u001b[38;5;28;01mif\u001b[39;00m \u001b[38;5;124m\"\u001b[39m\u001b[38;5;124mbin_\u001b[39m\u001b[38;5;124m\"\u001b[39m \u001b[38;5;129;01min\u001b[39;00m c}\n\u001b[0;32m---> 14\u001b[0m cmsData \u001b[38;5;241m=\u001b[39m {c : \u001b[43mdfModel\u001b[49m\u001b[43m[\u001b[49m\u001b[43mc\u001b[49m\u001b[43m]\u001b[49m\u001b[38;5;241;43m.\u001b[39;49m\u001b[43miloc\u001b[49m\u001b[43m[\u001b[49m\u001b[38;5;241;43m0\u001b[39;49m\u001b[43m]\u001b[49m \u001b[38;5;28;01mfor\u001b[39;00m c \u001b[38;5;129;01min\u001b[39;00m bins}\n\u001b[1;32m     15\u001b[0m rightBin \u001b[38;5;241m=\u001b[39m \u001b[38;5;241m2000.\u001b[39m\n\u001b[1;32m     16\u001b[0m binCenter \u001b[38;5;241m=\u001b[39m (np\u001b[38;5;241m.\u001b[39marray(\u001b[38;5;28mlist\u001b[39m(bins\u001b[38;5;241m.\u001b[39mvalues()))\u001b[38;5;241m+\u001b[39mnp\u001b[38;5;241m.\u001b[39mdiff(\u001b[38;5;28mlist\u001b[39m(bins\u001b[38;5;241m.\u001b[39mvalues())\u001b[38;5;241m+\u001b[39m[rightBin])\u001b[38;5;241m/\u001b[39m\u001b[38;5;241m2\u001b[39m)\u001b[38;5;241m.\u001b[39mtolist()\n",
      "File \u001b[0;32m~/.local/lib/python3.10/site-packages/pandas/core/indexing.py:1073\u001b[0m, in \u001b[0;36m_LocationIndexer.__getitem__\u001b[0;34m(self, key)\u001b[0m\n\u001b[1;32m   1070\u001b[0m axis \u001b[38;5;241m=\u001b[39m \u001b[38;5;28mself\u001b[39m\u001b[38;5;241m.\u001b[39maxis \u001b[38;5;129;01mor\u001b[39;00m \u001b[38;5;241m0\u001b[39m\n\u001b[1;32m   1072\u001b[0m maybe_callable \u001b[38;5;241m=\u001b[39m com\u001b[38;5;241m.\u001b[39mapply_if_callable(key, \u001b[38;5;28mself\u001b[39m\u001b[38;5;241m.\u001b[39mobj)\n\u001b[0;32m-> 1073\u001b[0m \u001b[38;5;28;01mreturn\u001b[39;00m \u001b[38;5;28;43mself\u001b[39;49m\u001b[38;5;241;43m.\u001b[39;49m\u001b[43m_getitem_axis\u001b[49m\u001b[43m(\u001b[49m\u001b[43mmaybe_callable\u001b[49m\u001b[43m,\u001b[49m\u001b[43m \u001b[49m\u001b[43maxis\u001b[49m\u001b[38;5;241;43m=\u001b[39;49m\u001b[43maxis\u001b[49m\u001b[43m)\u001b[49m\n",
      "File \u001b[0;32m~/.local/lib/python3.10/site-packages/pandas/core/indexing.py:1625\u001b[0m, in \u001b[0;36m_iLocIndexer._getitem_axis\u001b[0;34m(self, key, axis)\u001b[0m\n\u001b[1;32m   1622\u001b[0m     \u001b[38;5;28;01mraise\u001b[39;00m \u001b[38;5;167;01mTypeError\u001b[39;00m(\u001b[38;5;124m\"\u001b[39m\u001b[38;5;124mCannot index by location index with a non-integer key\u001b[39m\u001b[38;5;124m\"\u001b[39m)\n\u001b[1;32m   1624\u001b[0m \u001b[38;5;66;03m# validate the location\u001b[39;00m\n\u001b[0;32m-> 1625\u001b[0m \u001b[38;5;28;43mself\u001b[39;49m\u001b[38;5;241;43m.\u001b[39;49m\u001b[43m_validate_integer\u001b[49m\u001b[43m(\u001b[49m\u001b[43mkey\u001b[49m\u001b[43m,\u001b[49m\u001b[43m \u001b[49m\u001b[43maxis\u001b[49m\u001b[43m)\u001b[49m\n\u001b[1;32m   1627\u001b[0m \u001b[38;5;28;01mreturn\u001b[39;00m \u001b[38;5;28mself\u001b[39m\u001b[38;5;241m.\u001b[39mobj\u001b[38;5;241m.\u001b[39m_ixs(key, axis\u001b[38;5;241m=\u001b[39maxis)\n",
      "File \u001b[0;32m~/.local/lib/python3.10/site-packages/pandas/core/indexing.py:1557\u001b[0m, in \u001b[0;36m_iLocIndexer._validate_integer\u001b[0;34m(self, key, axis)\u001b[0m\n\u001b[1;32m   1555\u001b[0m len_axis \u001b[38;5;241m=\u001b[39m \u001b[38;5;28mlen\u001b[39m(\u001b[38;5;28mself\u001b[39m\u001b[38;5;241m.\u001b[39mobj\u001b[38;5;241m.\u001b[39m_get_axis(axis))\n\u001b[1;32m   1556\u001b[0m \u001b[38;5;28;01mif\u001b[39;00m key \u001b[38;5;241m>\u001b[39m\u001b[38;5;241m=\u001b[39m len_axis \u001b[38;5;129;01mor\u001b[39;00m key \u001b[38;5;241m<\u001b[39m \u001b[38;5;241m-\u001b[39mlen_axis:\n\u001b[0;32m-> 1557\u001b[0m     \u001b[38;5;28;01mraise\u001b[39;00m \u001b[38;5;167;01mIndexError\u001b[39;00m(\u001b[38;5;124m\"\u001b[39m\u001b[38;5;124msingle positional indexer is out-of-bounds\u001b[39m\u001b[38;5;124m\"\u001b[39m)\n",
      "\u001b[0;31mIndexError\u001b[0m: single positional indexer is out-of-bounds"
     ]
    }
   ],
   "source": [
    "if gAx:\n",
    "    dfModel = df[(df[\"$m_{med}$\"] == mMed) & (df[\"$m_{DM}$\"] == mDM) \n",
    "                 & (df['Mode'] == 'DM+QCDjets') & (df['Data-takingperiod'] == 2017)\n",
    "                 & (df[\"Coupling\"] == \"Axial\")]\n",
    "elif gVx:\n",
    "    dfModel = df[(df[\"$m_{med}$\"] == mMed) & (df[\"$m_{DM}$\"] == mDM) \n",
    "                 & (df['Mode'] == 'DM+QCDjets') & (df['Data-takingperiod'] == 2017)\n",
    "                 & (df[\"Coupling\"] == \"Vector\")]\n",
    "\n",
    "if len(dfModel) != 1:\n",
    "    print('%i data rows selected' %(len(dfModel)))\n",
    "    \n",
    "bins = {c : eval(c.split('_')[1]) for c in dfModel.columns if \"bin_\" in c}\n",
    "cmsData = {c : dfModel[c].iloc[0] for c in bins}\n",
    "rightBin = 2000.\n",
    "binCenter = (np.array(list(bins.values()))+np.diff(list(bins.values())+[rightBin])/2).tolist()\n",
    "\n",
    "# Plot CMS data\n",
    "cmsValues = np.array(list(cmsData.values()))\n",
    "# Rescale by luminosity:\n",
    "cmsValues = cmsValues/(41.5*1e3)"
   ]
  },
  {
   "cell_type": "markdown",
   "id": "926ba83b",
   "metadata": {},
   "source": [
    "### Plot Distributions"
   ]
  },
  {
   "cell_type": "code",
   "execution_count": 50,
   "id": "f0c62218",
   "metadata": {
    "ExecuteTime": {
     "end_time": "2023-04-20T11:27:20.903148Z",
     "start_time": "2023-04-20T11:27:20.290090Z"
    }
   },
   "outputs": [
    {
     "data": {
      "image/png": "[encoded data removed]",
      "text/plain": [
       "<Figure size 1000x600 with 1 Axes>"
      ]
     },
     "metadata": {},
     "output_type": "display_data"
    }
   ],
   "source": [
    "fig = plt.figure(figsize=(10,6))\n",
    "plotError = True\n",
    "for label,metPts in met.items():\n",
    "    binc,binEdges,patches = plt.hist(metPts,bins=np.arange(0.,2000.,50.),\n",
    "                               label=label+'(MET)',histtype='step',\n",
    "                               weights=weights[label],linewidth=3,alpha=0.5)\n",
    "    \n",
    "    if plotError:\n",
    "        errorc2,_ = np.histogram(metPts,bins=binEdges,weights=weights[label]**2)\n",
    "        errorc = np.sqrt(errorc2)\n",
    "        binMid = (binEdges[0:-1]+binEdges[1:])/2.\n",
    "        plt.errorbar(binMid,binc,yerr = errorc, marker = '.', \n",
    "                     drawstyle = 'steps-mid',color=colors[label])\n",
    "       \n",
    "        \n",
    "plt.yscale('log')\n",
    "plt.ylim(1e-4,1e0)\n",
    "plt.xlabel(r'$p_T^{miss}$ (GeV)')\n",
    "plt.ylabel(r'$\\frac{d\\sigma}{d p_T^{miss}}$ (pb)')\n",
    "plt.xlim(0,1000)\n",
    "plt.legend()\n",
    "plt.show()"
   ]
  },
  {
   "cell_type": "code",
   "execution_count": 26,
   "id": "504b9f73",
   "metadata": {
    "ExecuteTime": {
     "end_time": "2023-04-20T11:11:12.524473Z",
     "start_time": "2023-04-20T11:11:12.359921Z"
    }
   },
   "outputs": [
    {
     "ename": "NameError",
     "evalue": "name 'bins' is not defined",
     "output_type": "error",
     "traceback": [
      "\u001b[0;31m---------------------------------------------------------------------------\u001b[0m",
      "\u001b[0;31mNameError\u001b[0m                                 Traceback (most recent call last)",
      "Cell \u001b[0;32mIn[26], line 4\u001b[0m\n\u001b[1;32m      2\u001b[0m plotError \u001b[38;5;241m=\u001b[39m \u001b[38;5;28;01mFalse\u001b[39;00m\n\u001b[1;32m      3\u001b[0m \u001b[38;5;28;01mfor\u001b[39;00m label,metPts \u001b[38;5;129;01min\u001b[39;00m met\u001b[38;5;241m.\u001b[39mitems():\n\u001b[0;32m----> 4\u001b[0m     binc,binEdges,patches \u001b[38;5;241m=\u001b[39m plt\u001b[38;5;241m.\u001b[39mhist(metPts,bins\u001b[38;5;241m=\u001b[39m\u001b[38;5;28mlist\u001b[39m(\u001b[43mbins\u001b[49m\u001b[38;5;241m.\u001b[39mvalues())\u001b[38;5;241m+\u001b[39m[rightBin],\n\u001b[1;32m      5\u001b[0m                                label\u001b[38;5;241m=\u001b[39mlabel\u001b[38;5;241m+\u001b[39m\u001b[38;5;124m'\u001b[39m\u001b[38;5;124m(MET)\u001b[39m\u001b[38;5;124m'\u001b[39m,histtype\u001b[38;5;241m=\u001b[39m\u001b[38;5;124m'\u001b[39m\u001b[38;5;124mstep\u001b[39m\u001b[38;5;124m'\u001b[39m,\n\u001b[1;32m      6\u001b[0m                                weights\u001b[38;5;241m=\u001b[39mweights[label],linewidth\u001b[38;5;241m=\u001b[39m\u001b[38;5;241m3\u001b[39m,alpha\u001b[38;5;241m=\u001b[39m\u001b[38;5;241m0.5\u001b[39m)\n\u001b[1;32m      8\u001b[0m     \u001b[38;5;28;01mif\u001b[39;00m plotError:\n\u001b[1;32m      9\u001b[0m         errorc2,_ \u001b[38;5;241m=\u001b[39m np\u001b[38;5;241m.\u001b[39mhistogram(metPts,bins\u001b[38;5;241m=\u001b[39mbinEdges,weights\u001b[38;5;241m=\u001b[39mweights[label]\u001b[38;5;241m*\u001b[39m\u001b[38;5;241m*\u001b[39m\u001b[38;5;241m2\u001b[39m)\n",
      "\u001b[0;31mNameError\u001b[0m: name 'bins' is not defined"
     ]
    },
    {
     "data": {
      "text/plain": [
       "<Figure size 1000x600 with 0 Axes>"
      ]
     },
     "metadata": {},
     "output_type": "display_data"
    }
   ],
   "source": [
    "fig = plt.figure(figsize=(10,6))\n",
    "plotError = False\n",
    "for label,metPts in met.items():\n",
    "    binc,binEdges,patches = plt.hist(metPts,bins=list(bins.values())+[rightBin],\n",
    "                               label=label+'(MET)',histtype='step',\n",
    "                               weights=weights[label],linewidth=3,alpha=0.5)\n",
    "    \n",
    "    if plotError:\n",
    "        errorc2,_ = np.histogram(metPts,bins=binEdges,weights=weights[label]**2)\n",
    "        errorc = np.sqrt(errorc2)\n",
    "        binMid = (binEdges[0:-1]+binEdges[1:])/2.\n",
    "        plt.errorbar(binMid,binc,yerr = errorc, marker = '.', \n",
    "                     drawstyle = 'steps-mid',color=colors[label])\n",
    "       \n",
    "    \n",
    "plt.scatter(x=binCenter,y=cmsValues,s=30,c='black',label='CMS (after cuts)')\n",
    "    \n",
    "    \n",
    "plt.yscale('log')\n",
    "# plt.ylim(1e-4,1e-2)\n",
    "plt.xlabel(r'$p_T^{miss}$ (GeV)')\n",
    "plt.ylabel(r'$\\frac{d\\sigma}{d p_T^{miss}}$ (pb)')\n",
    "# plt.xlim(100,1500)\n",
    "plt.legend()\n",
    "plt.show()"
   ]
  },
  {
   "cell_type": "code",
   "execution_count": 10,
   "id": "f2ec6722",
   "metadata": {},
   "outputs": [
    {
     "data": {
      "image/png": "[encoded data removed]",
      "text/plain": [
       "<Figure size 720x432 with 1 Axes>"
      ]
     },
     "metadata": {
      "needs_background": "light"
     },
     "output_type": "display_data"
    }
   ],
   "source": [
    "fig = plt.figure(figsize=(10,6))\n",
    "plotError = False\n",
    "for label,metPts in genMet.items():\n",
    "    binc,binEdges,patches = plt.hist(metPts,bins=list(bins.values())+[rightBin],\n",
    "                               label=label+'(GenMET)',histtype='step',\n",
    "                               weights=weights[label],linewidth=3,alpha=0.5)\n",
    "    \n",
    "    if plotError:\n",
    "        errorc2,_ = np.histogram(metPts,bins=binEdges,weights=weights[label]**2)\n",
    "        errorc = np.sqrt(errorc2)\n",
    "        binCenter = (binEdges[0:-1]+binEdges[1:])/2.\n",
    "        plt.errorbar(binCenter,binc,yerr = errorc, marker = '.', \n",
    "                     drawstyle = 'steps-mid',color=colors[label])\n",
    "       \n",
    "       \n",
    "plt.scatter(x=binCenter,y=cmsValues,s=30,c='black',label='CMS (after cuts)')    \n",
    "plt.yscale('log')\n",
    "# plt.ylim(1e-4,1e-2)\n",
    "plt.xlabel(r'$p_T^{miss}$ (GeV)')\n",
    "plt.ylabel(r'$\\frac{d\\sigma}{d p_T^{miss}}$ (pb)')\n",
    "plt.xlim(100,1500)\n",
    "plt.legend()\n",
    "plt.show()"
   ]
  },
  {
   "cell_type": "code",
   "execution_count": 11,
   "id": "3df4274b",
   "metadata": {},
   "outputs": [
    {
     "data": {
      "image/png": "[encoded data removed]",
      "text/plain": [
       "<Figure size 576x432 with 1 Axes>"
      ]
     },
     "metadata": {
      "needs_background": "light"
     },
     "output_type": "display_data"
    }
   ],
   "source": [
    "fig = plt.figure(figsize=(8,6))\n",
    "for label,genmetPts in genMet.items():\n",
    "    metPts = met[label]\n",
    "    diffRatio = (metPts-genmetPts)/genmetPts\n",
    "    plt.hist(diffRatio,bins=np.linspace(-1,1,100),weights=weights[label],label=label)\n",
    "# plt.xlim(-100,100)\n",
    "plt.yscale('log')\n",
    "plt.legend()\n",
    "plt.show()"
   ]
  },
  {
   "cell_type": "code",
   "execution_count": 12,
   "id": "aa01da31",
   "metadata": {},
   "outputs": [
    {
     "data": {
      "image/png": "[encoded data removed]",
      "text/plain": [
       "<Figure size 576x432 with 2 Axes>"
      ]
     },
     "metadata": {
      "needs_background": "light"
     },
     "output_type": "display_data"
    }
   ],
   "source": [
    "fig = plt.figure(figsize=(8,6))\n",
    "for label,genmetPts in genMet.items():\n",
    "    metPts = met[label]\n",
    "    diffRatio = (metPts-genmetPts)/genmetPts\n",
    "    plt.scatter(genmetPts,metPts,s=20,cmap=cm,c=diffRatio,vmin=-1,vmax=1)\n",
    "plt.plot([genmetPts.min(),genmetPts.max()],[genmetPts.min(),genmetPts.max()],\n",
    "         linestyle='--',linewidth=2,c='black')\n",
    "plt.colorbar(label=r'$\\Delta p_T^{miss}/p_T^{miss}$ (Gen)')\n",
    "plt.xlabel(r'$p_T^{miss}$ (Gen level) (GeV)')\n",
    "plt.ylabel(r'$p_T^{miss}$ (Detector level) (GeV)')\n",
    "plt.show()"
   ]
  },
  {
   "cell_type": "code",
   "execution_count": null,
   "id": "7232c4b6",
   "metadata": {},
   "outputs": [],
   "source": []
  }
 ],
 "metadata": {
  "kernelspec": {
   "display_name": "Python 3 (ipykernel)",
   "language": "python",
   "name": "python3"
  },
  "language_info": {
   "codemirror_mode": {
    "name": "ipython",
    "version": 3
   },
   "file_extension": ".py",
   "mimetype": "text/x-python",
   "name": "python",
   "nbconvert_exporter": "python",
   "pygments_lexer": "ipython3",
   "version": "3.10.6"
  }
 },
 "nbformat": 4,
 "nbformat_minor": 5
}
