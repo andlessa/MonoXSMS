{
 "cells": [
  {
   "cell_type": "code",
   "execution_count": 1,
   "id": "73c69e33",
   "metadata": {
    "ExecuteTime": {
     "end_time": "2023-04-20T11:46:25.411738Z",
     "start_time": "2023-04-20T11:46:23.498426Z"
    }
   },
   "outputs": [
    {
     "name": "stdout",
     "output_type": "stream",
     "text": [
      "Welcome to JupyROOT 6.26/10\n"
     ]
    }
   ],
   "source": [
    "import sys,os,glob,copy\n",
    "sys.path.append('../')\n",
    "import numpy as np\n",
    "from numpy.linalg import norm\n",
    "import pandas as pd\n",
    "from matplotlib import pyplot as plt\n",
    "import seaborn as sns\n",
    "from scipy.interpolate import LinearNDInterpolator,interp2d\n",
    "import matplotlib as mpl\n",
    "from matplotlib.colors import LogNorm\n",
    "from IPython.display import display, Markdown\n",
    "from collections import OrderedDict\n",
    "import pylhe\n",
    "import glob\n",
    "import pyslha\n",
    "\n",
    "delphesDir = os.path.abspath(\"../../MG5/Delphes\")\n",
    "os.environ['ROOT_INCLUDE_PATH'] = os.path.join(delphesDir,\"external\")\n",
    "\n",
    "import ROOT\n",
    "import xml.etree.ElementTree as ET\n",
    "\n",
    "\n",
    "ROOT.gSystem.Load(os.path.join(delphesDir,\"libDelphes.so\"))\n",
    "\n",
    "ROOT.gInterpreter.Declare('#include \"classes/SortableObject.h\"')\n",
    "ROOT.gInterpreter.Declare('#include \"classes/DelphesClasses.h\"')\n",
    "ROOT.gInterpreter.Declare('#include \"external/ExRootAnalysis/ExRootTreeReader.h\"')\n",
    "\n",
    "plt.rcParams.update({\n",
    "    \"text.usetex\": True,\n",
    "    \"font.family\": \"sans-serif\",\n",
    "    \"font.sans-serif\": [\"Helvetica\"]})\n",
    "\n",
    "plt.rcParams.update({\"savefig.dpi\" : 300}) #Figure resolution\n",
    "\n",
    "\n",
    "#Define plotting style:\n",
    "sns.set() #Set style\n",
    "sns.set_style('ticks',{'font.family':'Times New Roman', 'font.serif':'Times New Roman'})\n",
    "sns.set_context('paper', font_scale=1.8)\n",
    "cm = plt.cm.get_cmap('RdYlBu')"
   ]
  },
  {
   "cell_type": "markdown",
   "id": "87622e4a",
   "metadata": {},
   "source": [
    "# Set Delphes output files"
   ]
  },
  {
   "cell_type": "code",
   "execution_count": 2,
   "id": "030fc287",
   "metadata": {
    "ExecuteTime": {
     "end_time": "2023-04-20T11:46:25.520940Z",
     "start_time": "2023-04-20T11:46:25.414331Z"
    }
   },
   "outputs": [],
   "source": [
    "inputFiles = {'version2' : '../../MonoXSMS-version2/run_08/pseudoscalar_450_1_delphes_events.root',\n",
    "              'version3' : '../DMSimp_pseudoscalar_1j_cms/Events/run_09/pseudoscalar_450_1_delphes_events.root'            \n",
    "             }"
   ]
  },
  {
   "cell_type": "markdown",
   "id": "1e952041",
   "metadata": {},
   "source": [
    "# Load Model Parameters"
   ]
  },
  {
   "cell_type": "code",
   "execution_count": 3,
   "id": "f4236190",
   "metadata": {
    "ExecuteTime": {
     "end_time": "2023-04-20T11:46:25.695216Z",
     "start_time": "2023-04-20T11:46:25.525168Z"
    }
   },
   "outputs": [
    {
     "name": "stdout",
     "output_type": "stream",
     "text": [
      "version2 : mMed = 450.00 GeV, mDM = 1.00 GeV, cross-section = 1.654e+00 pb\n",
      "version3 : mMed = 450.00 GeV, mDM = 1.00 GeV, cross-section = 1.651e+00 pb\n"
     ]
    }
   ],
   "source": [
    "parameters = {}\n",
    "for label,file in inputFiles.items():\n",
    "    banner = list(glob.glob(os.path.dirname(file)+'/*banner.txt'))\n",
    "    if len(banner) != 1:\n",
    "        print('%i banner files found for %s!' %(len(banner),label))\n",
    "        continue\n",
    "    else:\n",
    "        banner = banner[0]\n",
    "    xtree = ET.parse(banner)\n",
    "    xroot = xtree.getroot()\n",
    "    xsecPB = eval(xroot.find('init').text.split()[-2])\n",
    "    slha = xroot.find('header').find('slha').text\n",
    "    pars = pyslha.readSLHA(slha)\n",
    "    mMed = pars.blocks['MASS'][54]\n",
    "    mDM = pars.blocks['MASS'][52]\n",
    "    gAq = pars.blocks['DMINPUTS'][5] # Mediator-quark scalar coupling\n",
    "    gVq = pars.blocks['DMINPUTS'][10] # Mediator-quark pseudoscalar coupling\n",
    "    gVx = pars.blocks['DMINPUTS'][4] # Mediator-DM pseudoscalar coupling\n",
    "    gAx = pars.blocks['DMINPUTS'][3] # Mediator-DM scalar coupling\n",
    "    parameters[label] = {'xsec(pb)' : xsecPB, 'mMed' : mMed, 'mDM' : mDM, \n",
    "                         'gVq' : gVq, 'gAq' : gAq, 'gVx' : gVx, 'gAx' : gAx}\n",
    "    print(label,': mMed = %1.2f GeV, mDM = %1.2f GeV, cross-section = %1.3e pb' %(mMed,mDM,xsecPB))"
   ]
  },
  {
   "cell_type": "markdown",
   "id": "58dbbed7",
   "metadata": {},
   "source": [
    "# Load events, get parton level and detector level MET"
   ]
  },
  {
   "cell_type": "code",
   "execution_count": 4,
   "id": "30ec0a1d",
   "metadata": {
    "ExecuteTime": {
     "end_time": "2023-04-20T11:46:35.794778Z",
     "start_time": "2023-04-20T11:46:25.703936Z"
    }
   },
   "outputs": [],
   "source": [
    "pTj1 = {label : np.array([]) for label in inputFiles}\n",
    "weights = {label : np.array([]) for label in inputFiles}\n",
    "met = {label : np.array([]) for label in inputFiles}\n",
    "genMet = {label : np.array([]) for label in inputFiles}\n",
    "totalweight = {label : 0.0 for label in inputFiles}\n",
    "\n",
    "    \n",
    "for label,inputFile in inputFiles.items():\n",
    "\n",
    "    f = ROOT.TFile(inputFile,'read')\n",
    "    tree = f.Get(\"Delphes\")\n",
    "    nevts = tree.GetEntries()\n",
    "    parameters[label]['Events'] = nevts\n",
    "    \n",
    "    for ievt in range(nevts):    \n",
    "        tree.GetEntry(ievt)        \n",
    "        weight = tree.Weight.At(1).Weight # Correct weight when using matching\n",
    "\n",
    "        totalweight[label] += weight\n",
    "\n",
    "        missingET = tree.MissingET.At(0)\n",
    "        genMissingET = tree.GenMissingET.At(0)  # USE REAL MISSING ET!\n",
    "        \n",
    "        if missingET.MET < 250.:\n",
    "            continue\n",
    "        \n",
    "        weights[label] = np.append(weights[label],weight)\n",
    "        met[label] = np.append(met[label],missingET.MET)\n",
    "        genMet[label] = np.append(genMet[label],genMissingET.MET)\n",
    "\n",
    "    f.Close()\n"
   ]
  },
  {
   "cell_type": "markdown",
   "id": "41ed33b5",
   "metadata": {},
   "source": [
    "### Total cross-sections"
   ]
  },
  {
   "cell_type": "code",
   "execution_count": 5,
   "id": "af245f53",
   "metadata": {
    "ExecuteTime": {
     "end_time": "2023-04-20T11:46:35.902594Z",
     "start_time": "2023-04-20T11:46:35.796941Z"
    }
   },
   "outputs": [
    {
     "name": "stdout",
     "output_type": "stream",
     "text": [
      "version2 total cross-section = 5.202e-01 pb (75000 events)\n",
      "version3 total cross-section = 5.239e-01 pb (75000 events)\n"
     ]
    }
   ],
   "source": [
    "for label,w in totalweight.items():\n",
    "    print(label,'total cross-section = %1.3e pb (%i events)' %(w,parameters[label]['Events']))\n",
    "colors = {label : sns.color_palette('deep')[i+1] for i,label in enumerate(weights.keys())}    "
   ]
  },
  {
   "cell_type": "markdown",
   "id": "91b0a1b7",
   "metadata": {},
   "source": [
    "# Get official CMS data"
   ]
  },
  {
   "cell_type": "code",
   "execution_count": 6,
   "id": "481222eb",
   "metadata": {
    "ExecuteTime": {
     "end_time": "2023-04-20T11:46:36.352936Z",
     "start_time": "2023-04-20T11:46:35.904688Z"
    }
   },
   "outputs": [],
   "source": [
    "pickleFile = '../validation/CMS-EXO-20-004/AuxInfo/CMS-EXO-20-004-data/DMsimp_spin-0_Monojet_DF.pcl'\n",
    "df = pd.read_pickle(pickleFile)"
   ]
  },
  {
   "cell_type": "markdown",
   "id": "708995d3",
   "metadata": {},
   "source": [
    "### Filter model"
   ]
  },
  {
   "cell_type": "code",
   "execution_count": 7,
   "id": "5fae6b8f",
   "metadata": {
    "ExecuteTime": {
     "end_time": "2023-04-20T11:46:36.823128Z",
     "start_time": "2023-04-20T11:46:36.359369Z"
    }
   },
   "outputs": [],
   "source": [
    "if gAx:\n",
    "    dfModel = df[(df[\"$m_{med}$\"] == mMed) & (df[\"$m_{DM}$\"] == mDM) \n",
    "                 & (df['Mode'] == 'DM+QCDjets') & (df['Data-takingperiod'] == 2017)\n",
    "                 & (df[\"Coupling\"] == \"Scalar\")]\n",
    "elif gVx:\n",
    "    dfModel = df[(df[\"$m_{med}$\"] == mMed) & (df[\"$m_{DM}$\"] == mDM) \n",
    "                 & (df['Mode'] == 'DM+QCDjets') & (df['Data-takingperiod'] == 2017)\n",
    "                 & (df[\"Coupling\"] == \"Pseudoscalar\")]\n",
    "\n",
    "if len(dfModel) != 1:\n",
    "    print('%i data rows selected' %(len(dfModel)))\n",
    "    \n",
    "bins = {c : eval(c.split('_')[1]) for c in dfModel.columns if \"bin_\" in c}\n",
    "cmsData = {c : dfModel[c].iloc[0] for c in bins}\n",
    "rightBin = 2000.\n",
    "binCenter = (np.array(list(bins.values()))+np.diff(list(bins.values())+[rightBin])/2).tolist()\n",
    "\n",
    "# Plot CMS data\n",
    "cmsValues = np.array(list(cmsData.values()))\n",
    "# Rescale by luminosity:\n",
    "cmsValues = cmsValues/(41.5*1e3)"
   ]
  },
  {
   "cell_type": "markdown",
   "id": "926ba83b",
   "metadata": {},
   "source": [
    "### Plot Distributions"
   ]
  },
  {
   "cell_type": "code",
   "execution_count": 8,
   "id": "f0c62218",
   "metadata": {
    "ExecuteTime": {
     "end_time": "2023-04-20T11:46:37.523136Z",
     "start_time": "2023-04-20T11:46:36.828255Z"
    }
   },
   "outputs": [
    {
     "data": {
      "image/png": "[encoded data removed]",
      "text/plain": [
       "<Figure size 1000x600 with 1 Axes>"
      ]
     },
     "metadata": {},
     "output_type": "display_data"
    }
   ],
   "source": [
    "fig = plt.figure(figsize=(10,6))\n",
    "plotError = True\n",
    "for label,metPts in met.items():\n",
    "    binc,binEdges,patches = plt.hist(metPts,bins=np.arange(0.,2000.,50.),\n",
    "                               label=label+'(MET)',histtype='step',\n",
    "                               weights=weights[label],linewidth=3,alpha=0.5)\n",
    "    \n",
    "    if plotError:\n",
    "        errorc2,_ = np.histogram(metPts,bins=binEdges,weights=weights[label]**2)\n",
    "        errorc = np.sqrt(errorc2)\n",
    "        binMid = (binEdges[0:-1]+binEdges[1:])/2.\n",
    "        plt.errorbar(binMid,binc,yerr = errorc, marker = '.', \n",
    "                     drawstyle = 'steps-mid',color=colors[label])\n",
    "       \n",
    "        \n",
    "plt.yscale('log')\n",
    "plt.ylim(1e-4,1e0)\n",
    "plt.xlabel(r'$p_T^{miss}$ (GeV)')\n",
    "plt.ylabel(r'$\\frac{d\\sigma}{d p_T^{miss}}$ (pb)')\n",
    "plt.xlim(0,1000)\n",
    "plt.legend()\n",
    "plt.show()"
   ]
  },
  {
   "cell_type": "code",
   "execution_count": null,
   "id": "7232c4b6",
   "metadata": {},
   "outputs": [],
   "source": []
  }
 ],
 "metadata": {
  "kernelspec": {
   "display_name": "Python 3 (ipykernel)",
   "language": "python",
   "name": "python3"
  },
  "language_info": {
   "codemirror_mode": {
    "name": "ipython",
    "version": 3
   },
   "file_extension": ".py",
   "mimetype": "text/x-python",
   "name": "python",
   "nbconvert_exporter": "python",
   "pygments_lexer": "ipython3",
   "version": "3.10.6"
  }
 },
 "nbformat": 4,
 "nbformat_minor": 5
}
