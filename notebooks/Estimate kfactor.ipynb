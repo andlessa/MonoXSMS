{
 "cells": [
  {
   "cell_type": "code",
   "execution_count": 1,
   "id": "25d4540c",
   "metadata": {
    "ExecuteTime": {
     "end_time": "2023-05-11T13:22:47.759943Z",
     "start_time": "2023-05-11T13:22:46.915738Z"
    }
   },
   "outputs": [],
   "source": [
    "import sys,os,glob,copy\n",
    "sys.path.append('../')\n",
    "import numpy as np\n",
    "from numpy.linalg import norm\n",
    "import pandas as pd\n",
    "from matplotlib import pyplot as plt\n",
    "import seaborn as sns\n",
    "from scipy.interpolate import LinearNDInterpolator,interp2d, griddata\n",
    "from itertools import product\n",
    "import matplotlib as mpl\n",
    "from matplotlib.colors import LogNorm\n",
    "from IPython.display import display, Markdown\n",
    "import glob\n",
    "plt.rcParams.update({\n",
    "    \"text.usetex\": True,\n",
    "    \"font.family\": \"sans-serif\",\n",
    "    \"font.sans-serif\": [\"Helvetica\"]})\n",
    "\n",
    "plt.rcParams.update({\"savefig.dpi\" : 300}) #Figure resolution\n",
    "\n",
    "\n",
    "#Define plotting style:\n",
    "sns.set() #Set style\n",
    "sns.set_style('ticks',{'font.family':'Times New Roman', 'font.serif':'Times New Roman'})\n",
    "sns.set_context('paper', font_scale=1.8)\n",
    "cm = plt.cm.get_cmap('RdYlBu')\n",
    "\n",
    "\n",
    "pd.set_option('display.max_rows', 200)"
   ]
  },
  {
   "cell_type": "code",
   "execution_count": 2,
   "id": "b0660611",
   "metadata": {
    "ExecuteTime": {
     "end_time": "2023-05-11T13:22:47.764725Z",
     "start_time": "2023-05-11T13:22:47.761476Z"
    }
   },
   "outputs": [],
   "source": [
    "cmsData = pd.read_pickle('../validation/AuxInfo/CMS-EXO-20-004-data/DMsimp_spin-0_Monojet_DF.pcl')"
   ]
  },
  {
   "cell_type": "code",
   "execution_count": 3,
   "id": "bebdbe74",
   "metadata": {
    "ExecuteTime": {
     "end_time": "2023-05-11T13:22:48.006845Z",
     "start_time": "2023-05-11T13:22:47.766375Z"
    }
   },
   "outputs": [],
   "source": [
    "recastData = pd.read_pickle('../validation/CMS-EXO-20-004/scanResults_pseudoscalar_single.pcl')"
   ]
  },
  {
   "cell_type": "code",
   "execution_count": 4,
   "id": "5e08c2d9",
   "metadata": {
    "ExecuteTime": {
     "end_time": "2023-05-11T13:22:48.259783Z",
     "start_time": "2023-05-11T13:22:48.017418Z"
    }
   },
   "outputs": [
    {
     "name": "stdout",
     "output_type": "stream",
     "text": [
      "24 models loaded.\n"
     ]
    }
   ],
   "source": [
    "models = []\n",
    "mCols = ['Coupling', 'Mode', '$m_{med}$', '$m_{DM}$']\n",
    "for row in recastData[mCols].values:\n",
    "    m = dict(zip(mCols, row.tolist()))\n",
    "    if m not in models:\n",
    "        models.append(m)\n",
    "\n",
    "print('%i models loaded.' %len(models))"
   ]
  },
  {
   "cell_type": "code",
   "execution_count": 5,
   "id": "af28e2cd",
   "metadata": {
    "ExecuteTime": {
     "end_time": "2023-05-11T13:22:48.390182Z",
     "start_time": "2023-05-11T13:22:48.267289Z"
    }
   },
   "outputs": [
    {
     "name": "stdout",
     "output_type": "stream",
     "text": [
      "{'Coupling': 'Pseudoscalar', 'Mode': 'DM+QCDjets', '$m_{med}$': [800.0, 450.0, 100.0, 200.0, 10.0, 300.0, 400.0, 50.0, 500.0, 600.0, 700.0, 350.0], '$m_{DM}$': [1.0, 225.0, 4.0, 6.0, 40.0, 200.0, 45.0, 50.0, 275.0, 20.0, 22.0, 55.0, 150.0]}\n",
      "Coupling = Pseudoscalar\n",
      "Mode = DM+QCDjets\n"
     ]
    }
   ],
   "source": [
    "parameters = {label : list(set([m[label] for m in models])) for label in mCols}\n",
    "for k,v in parameters.items():\n",
    "    if len(v) == 1:\n",
    "        parameters[k] = v[0]\n",
    "print(parameters)\n",
    "\n",
    "textstr = '\\n'.join([r'%s = %s' %(k,v) for k,v in parameters.items() if k not in ['$m_{med}$','$m_{DM}$']])\n",
    "print(textstr)"
   ]
  },
  {
   "cell_type": "code",
   "execution_count": 6,
   "id": "65e65814",
   "metadata": {
    "ExecuteTime": {
     "end_time": "2023-05-11T13:22:48.542744Z",
     "start_time": "2023-05-11T13:22:48.397366Z"
    }
   },
   "outputs": [],
   "source": [
    "recastData.sort_values(['Coupling','Mode','$m_{med}$','$m_{DM}$','Data-takingperiod'],inplace=True,\n",
    "                ascending=[False,False,True,True,False],ignore_index=True)  \n",
    "cmsData.sort_values(['Coupling','Mode','$m_{med}$','$m_{DM}$','Data-takingperiod'],inplace=True,\n",
    "                ascending=[False,False,True,True,False],ignore_index=True)  "
   ]
  },
  {
   "cell_type": "code",
   "execution_count": 7,
   "id": "cdbee9f8",
   "metadata": {
    "ExecuteTime": {
     "end_time": "2023-05-11T13:22:48.804958Z",
     "start_time": "2023-05-11T13:22:48.546381Z"
    }
   },
   "outputs": [
    {
     "name": "stdout",
     "output_type": "stream",
     "text": [
      "72 72\n"
     ]
    }
   ],
   "source": [
    "keys = list(cmsData[mCols].columns.values)\n",
    "i1 = recastData.set_index(keys).index\n",
    "i2 = cmsData.set_index(keys).index\n",
    "recastData = recastData[i1.isin(i2)]\n",
    "cmsData = cmsData[i2.isin(i1)]\n",
    "print(len(recastData),len(cmsData))"
   ]
  },
  {
   "cell_type": "code",
   "execution_count": 8,
   "id": "5e94889d",
   "metadata": {
    "ExecuteTime": {
     "end_time": "2023-05-11T13:22:49.162929Z",
     "start_time": "2023-05-11T13:22:48.807970Z"
    }
   },
   "outputs": [],
   "source": [
    "# Select year\n",
    "recastData = recastData[recastData['Data-takingperiod'] == 2017]\n",
    "cmsData = cmsData[cmsData['Data-takingperiod'] == 2017]"
   ]
  },
  {
   "cell_type": "code",
   "execution_count": 9,
   "id": "40f27376",
   "metadata": {
    "ExecuteTime": {
     "end_time": "2023-05-11T13:22:49.434565Z",
     "start_time": "2023-05-11T13:22:49.171894Z"
    }
   },
   "outputs": [],
   "source": [
    "binCols = [c for c in cmsData.columns if ('bin_' in c and not 'Error' in c)]\n",
    "binRec = [c for c in recastData.columns if ('bin_' in c and not 'Error' in c)]\n",
    "cmsData['TotalYield'] = cmsData[binCols].sum(axis=1)\n",
    "recastData['TotalYield'] = recastData[binCols].sum(axis=1)"
   ]
  },
  {
   "cell_type": "code",
   "execution_count": 10,
   "id": "573f02fe",
   "metadata": {
    "ExecuteTime": {
     "end_time": "2023-05-11T13:22:49.650559Z",
     "start_time": "2023-05-11T13:22:49.445565Z"
    }
   },
   "outputs": [],
   "source": [
    "ratioN = np.array(cmsData['TotalYield'])/np.array(recastData['TotalYield'])"
   ]
  },
  {
   "cell_type": "code",
   "execution_count": 11,
   "id": "cac2fd4e",
   "metadata": {
    "ExecuteTime": {
     "end_time": "2023-05-11T13:22:49.855211Z",
     "start_time": "2023-05-11T13:22:49.653084Z"
    }
   },
   "outputs": [
    {
     "data": {
      "text/plain": [
       "0.9013431703381835"
      ]
     },
     "execution_count": 11,
     "metadata": {},
     "output_type": "execute_result"
    }
   ],
   "source": [
    "ratioN.mean()"
   ]
  },
  {
   "cell_type": "code",
   "execution_count": null,
   "id": "ad9f541b",
   "metadata": {},
   "outputs": [],
   "source": []
  }
 ],
 "metadata": {
  "kernelspec": {
   "display_name": "Python 3 (ipykernel)",
   "language": "python",
   "name": "python3"
  },
  "language_info": {
   "codemirror_mode": {
    "name": "ipython",
    "version": 3
   },
   "file_extension": ".py",
   "mimetype": "text/x-python",
   "name": "python",
   "nbconvert_exporter": "python",
   "pygments_lexer": "ipython3",
   "version": "3.10.6"
  }
 },
 "nbformat": 4,
 "nbformat_minor": 5
}
