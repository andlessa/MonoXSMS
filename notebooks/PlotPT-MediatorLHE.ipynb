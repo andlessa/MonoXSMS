{
 "cells": [
  {
   "cell_type": "code",
   "execution_count": 1,
   "id": "b83cc91d",
   "metadata": {
    "ExecuteTime": {
     "end_time": "2023-05-19T16:39:46.289384Z",
     "start_time": "2023-05-19T16:39:41.364060Z"
    }
   },
   "outputs": [
    {
     "name": "stdout",
     "output_type": "stream",
     "text": [
      "Welcome to JupyROOT 6.26/10\n"
     ]
    }
   ],
   "source": [
    "import sys,os,glob,copy\n",
    "sys.path.append('../')\n",
    "import numpy as np\n",
    "from numpy.linalg import norm\n",
    "import pandas as pd\n",
    "from matplotlib import pyplot as plt\n",
    "import seaborn as sns\n",
    "from scipy.interpolate import LinearNDInterpolator,interp2d\n",
    "import scipy\n",
    "import matplotlib as mpl\n",
    "from matplotlib.colors import LogNorm\n",
    "from IPython.display import display, Markdown\n",
    "from collections import OrderedDict\n",
    "import pylhe\n",
    "import glob\n",
    "import pyslha\n",
    "import ROOT\n",
    "import xml.etree.ElementTree as ET\n",
    "\n",
    "\n",
    "plt.rcParams.update({\n",
    "    \"text.usetex\": True,\n",
    "    \"font.family\": \"sans-serif\",\n",
    "    \"font.sans-serif\": [\"Helvetica\"]})\n",
    "\n",
    "plt.rcParams.update({\"savefig.dpi\" : 300}) #Figure resolution\n",
    "\n",
    "\n",
    "#Define plotting style:\n",
    "sns.set() #Set style\n",
    "sns.set_style('ticks',{'font.family':'Times New Roman', 'font.serif':'Times New Roman'})\n",
    "sns.set_context('paper', font_scale=1.8)\n",
    "cm = plt.cm.get_cmap('RdYlBu')"
   ]
  },
  {
   "cell_type": "code",
   "execution_count": 2,
   "id": "7b0692f2",
   "metadata": {
    "ExecuteTime": {
     "end_time": "2023-05-19T16:39:46.411150Z",
     "start_time": "2023-05-19T16:39:46.297036Z"
    }
   },
   "outputs": [],
   "source": [
    "def readNumEvents(file):\n",
    "    \"\"\"\n",
    "    Moderately efficent way to get the number of events stored in file.\n",
    "    \"\"\"\n",
    "    \n",
    "    with pylhe._extract_fileobj(file) as fileobj:\n",
    "        nevts = sum(element.tag == \"event\" for event, element in ET.iterparse(fileobj, events=[\"end\"]))\n",
    "    return nevts"
   ]
  },
  {
   "cell_type": "code",
   "execution_count": 4,
   "id": "22d678c9",
   "metadata": {
    "ExecuteTime": {
     "end_time": "2023-05-19T16:39:55.426998Z",
     "start_time": "2023-05-19T16:39:55.317432Z"
    }
   },
   "outputs": [],
   "source": [
    "# inputFiles = {'axial on-shell' : '../../MG5/DMSimp_axial_med/Events/run_02/unweighted_events.lhe.gz',\n",
    "#               'axial off-shell' : '../../MG5/DMSimp_axial_med/Events/run_03/unweighted_events.lhe.gz',\n",
    "#               'vector on-shell' : '../../MG5/DMSimp_vector_med/Events/run_02/unweighted_events.lhe.gz',\n",
    "#               'vector off-shell' : '../../MG5/DMSimp_vector_med/Events/run_03/unweighted_events.lhe.gz'}\n",
    "\n",
    "# inputFiles = {'axial on-shell': '../../MG5/DMSimp_axial_parton/Events/run_01/unweighted_events.lhe.gz',\n",
    "#               'axial off-shell': '../../MG5/DMSimp_axial_parton/Events/run_03/unweighted_events.lhe.gz',\n",
    "#               'vector on-shell': '../../MG5/DMSimp_vector_parton/Events/run_01/unweighted_events.lhe.gz',\n",
    "#               'vector off-shell': '../../MG5/DMSimp_vector_parton/Events/run_03/unweighted_events.lhe.gz',\n",
    "#               'scalar on-shell': '../Tests/DMSimp_scalar_parton/Events/run_01/unweighted_events.lhe.gz',\n",
    "#               'scalar off-shell': '../Tests/DMSimp_scalar_parton/Events/run_03/unweighted_events.lhe.gz',\n",
    "#               'pseudoscalar on-shell': '../Tests/DMSimp_pseudoscalar_parton/Events/run_01/unweighted_events.lhe.gz',\n",
    "#               'pseudoscalar off-shell': '../Tests/DMSimp_pseudoscalar_parton/Events/run_03/unweighted_events.lhe.gz'\n",
    "#              }\n",
    "\n",
    "inputFiles = {'axial on-shell': '../DMSimp_axial_parton/Events/run_01/unweighted_events.lhe.gz',\n",
    "              'axial off-shell': '../DMSimp_axial_parton/Events/run_02/unweighted_events.lhe.gz',\n",
    "              'vector on-shell': '../DMSimp_vector_parton/Events/run_01/unweighted_events.lhe.gz',\n",
    "              'vector off-shell': '../DMSimp_vector_parton/Events/run_02/unweighted_events.lhe.gz',\n",
    "              'scalar on-shell': '../DMSimp_pseudoscalar_parton/Events/run_01/unweighted_events.lhe.gz',\n",
    "              'scalar off-shell': '../DMSimp_pseudoscalar_parton/Events/run_02/unweighted_events.lhe.gz'}\n",
    "#               'pseudoscalar on-shell': '../Tests/DMSimp_pseudoscalar_parton/Events/run_01/unweighted_events.lhe.gz',\n",
    "#               'pseudoscalar off-shell': '../Tests/DMSimp_pseudoscalar_parton/Events/run_03/unweighted_events.lhe.gz'\n",
    "#              }"
   ]
  },
  {
   "cell_type": "code",
   "execution_count": 5,
   "id": "4b4c17b7",
   "metadata": {
    "ExecuteTime": {
     "end_time": "2023-05-19T16:40:10.267715Z",
     "start_time": "2023-05-19T16:39:56.163355Z"
    }
   },
   "outputs": [],
   "source": [
    "events = {}\n",
    "nevents = {}\n",
    "for label,f in inputFiles.items():   \n",
    "    events[label] = pylhe.read_lhe_with_attributes(f)\n",
    "    nevents[label] = readNumEvents(f)\n"
   ]
  },
  {
   "cell_type": "code",
   "execution_count": 6,
   "id": "e0bddf06",
   "metadata": {
    "ExecuteTime": {
     "end_time": "2023-05-19T16:40:27.667202Z",
     "start_time": "2023-05-19T16:40:27.441027Z"
    }
   },
   "outputs": [
    {
     "name": "stdout",
     "output_type": "stream",
     "text": [
      "axial on-shell : mMed = 500.00 GeV, mDM = 200.00 GeV\n",
      "axial off-shell : mMed = 500.00 GeV, mDM = 300.00 GeV\n",
      "vector on-shell : mMed = 500.00 GeV, mDM = 200.00 GeV\n",
      "vector off-shell : mMed = 500.00 GeV, mDM = 300.00 GeV\n",
      "scalar on-shell : mMed = 500.00 GeV, mDM = 200.00 GeV\n",
      "scalar off-shell : mMed = 500.00 GeV, mDM = 300.00 GeV\n"
     ]
    }
   ],
   "source": [
    "parameters = {}\n",
    "for label,file in inputFiles.items():\n",
    "    banner = sorted(glob.glob(os.path.dirname(file)+'/*banner.txt'),key=os.path.getmtime,reverse=True)\n",
    "    if len(banner) == 0:\n",
    "        print('Banner not found for %s' %label)\n",
    "    elif len(banner) > 1:        \n",
    "        print('\\n%i banner files found for %s. Using %s' \n",
    "              %(len(banner),label,os.path.basename(banner[0])))\n",
    "    banner = banner[0]\n",
    "    xtree = ET.parse(banner)\n",
    "    xroot = xtree.getroot()\n",
    "    slha = xroot.find('header').find('slha').text\n",
    "    pars = pyslha.readSLHA(slha)\n",
    "    if 55 in pars.blocks['MASS']:\n",
    "        model = 'spin1'\n",
    "        mMed = pars.blocks['MASS'][55]\n",
    "    elif 54 in pars.blocks['MASS']:\n",
    "        model = 'spin0'\n",
    "        mMed = pars.blocks['MASS'][54]\n",
    "        \n",
    "    mDM = pars.blocks['MASS'][52]\n",
    "    if model == 'spin1':\n",
    "        gVq = pars.blocks['DMINPUTS'][4] # Mediator-quark vector coupling\n",
    "        gAq = pars.blocks['DMINPUTS'][10] # Mediator-quark axial coupling\n",
    "        gVx = pars.blocks['DMINPUTS'][2] # Mediator-DM vector coupling\n",
    "        gAx = pars.blocks['DMINPUTS'][3] # Mediator-DM axial coupling\n",
    "    elif model == 'spin0':\n",
    "        gVq = pars.blocks['DMINPUTS'][6] # Mediator-quark scalar coupling\n",
    "        gAq = pars.blocks['DMINPUTS'][12] # Mediator-quark pseudoscalar coupling\n",
    "        gVx = pars.blocks['DMINPUTS'][3] # Mediator-DM scalar coupling\n",
    "        gAx = pars.blocks['DMINPUTS'][4] # Mediator-DM pseudoscalar coupling\n",
    "        \n",
    "        \n",
    "    parameters[label] = {'mMed' : mMed, 'mDM' : mDM, \n",
    "                         'gVq' : gVq, 'gAq' : gAq, 'gVx' : gVx, 'gAx' : gAx}\n",
    "    print(label,': mMed = %1.2f GeV, mDM = %1.2f GeV' %(mMed,mDM))"
   ]
  },
  {
   "cell_type": "code",
   "execution_count": 7,
   "id": "f975cc9a",
   "metadata": {
    "ExecuteTime": {
     "end_time": "2023-05-19T16:40:32.717699Z",
     "start_time": "2023-05-19T16:40:32.611009Z"
    }
   },
   "outputs": [],
   "source": [
    "## jets\n",
    "# pTj1min = 100.\n",
    "# pTjmin = 25.\n",
    "# etamax = 2.4\n",
    "# ## MET\n",
    "# minMET = 250.\n",
    "# ## Electrons\n",
    "# pTmin_el = 10.\n",
    "# etamax_el = 2.5\n",
    "# nMax_el = 0\n",
    "# ## Muons\n",
    "# pTmin_mu = 10.\n",
    "# etamax_mu = 2.4\n",
    "# nMax_mu = 0"
   ]
  },
  {
   "cell_type": "code",
   "execution_count": 8,
   "id": "33dc7a3b",
   "metadata": {
    "ExecuteTime": {
     "end_time": "2023-05-19T16:46:53.101301Z",
     "start_time": "2023-05-19T16:40:33.242633Z"
    }
   },
   "outputs": [],
   "source": [
    "pTj1 = {label : np.array([]) for label in inputFiles}\n",
    "weights = {label : np.array([]) for label in inputFiles}\n",
    "met = {label : np.array([]) for label in inputFiles}\n",
    "njets = {label : np.array([]) for label in inputFiles}\n",
    "totalweight = {label : 0 for label in inputFiles}\n",
    "\n",
    "for label,evts in events.items():\n",
    "   \n",
    "    nevts = nevents[label]\n",
    "    parameters[label]['Events'] = nevts\n",
    "    \n",
    "    for event in evts:\n",
    "\n",
    "        particles = event.particles\n",
    "       \n",
    "        jets = [p for p in particles if abs(p.id) in [1,2,3,4,5,21] and p.status == 1]\n",
    "#         med = [p for p in particles if abs(p.id) in [55] and p.status == 1]\n",
    "        dm = [p for p in particles if abs(p.id) in [52] and p.status == 1]\n",
    "#         electrons = [p for p in particles if abs(p.id) in [11] and p.status == 1]\n",
    "#         muons = [p for p in particles if abs(p.id) in [13] and p.status == 1]\n",
    "        \n",
    "#         if len(med) != 1:\n",
    "#             continue\n",
    "        if len(dm) != 2:\n",
    "            continue\n",
    "            \n",
    "        weight = event.eventinfo.weight/nevts\n",
    "        totalweight[label] += weight\n",
    "            \n",
    "        # Filter jets\n",
    "        jetList = []\n",
    "        for j in jets:\n",
    "            pT = np.sqrt(j.px**2+j.py**2)\n",
    "            p = np.sqrt(j.px**2+j.py**2+j.pz**2)\n",
    "#             pL = j.pz\n",
    "#             eta = 0.5*np.log((p+pL)/(p-pL))\n",
    "            \n",
    "#             if pT < pTjmin:\n",
    "#                 continue\n",
    "#             if np.abs(eta) > etamax:\n",
    "#                 continue\n",
    "            jetList.append(j)\n",
    "        jetList = sorted(jetList, key = lambda j: np.sqrt(j.px**2+j.py**2), reverse=True)          \n",
    "        \n",
    "            \n",
    "        # Filter electrons\n",
    "#         electronList = []\n",
    "#         for el in electrons:\n",
    "#             pT = np.sqrt(el.px**2+el.py**2)\n",
    "#             p = np.sqrt(el.px**2+el.py**2+el.pz**2)\n",
    "#             pL = el.pz\n",
    "#             eta = 0.5*np.log((p+pL)/(p-pL))\n",
    "            \n",
    "# #             if pT < pTmin_el:\n",
    "# #                 continue\n",
    "# #             if np.abs(eta) > etamax_el:\n",
    "# #                 continue\n",
    "#             electronList.append(el)\n",
    "#         electronList = sorted(electronList, key = lambda j: np.sqrt(j.px**2+j.py**2), reverse=True)                                    \n",
    "        \n",
    "        # Filter muons\n",
    "#         muonList = []\n",
    "#         for mu in muons:\n",
    "#             pT = np.sqrt(mu.px**2+mu.py**2)\n",
    "#             p = np.sqrt(mu.px**2+mu.py**2+mu.pz**2)\n",
    "#             pL = mu.pz\n",
    "#             eta = 0.5*np.log((p+pL)/(p-pL))\n",
    "            \n",
    "#             if pT < pTmin_mu:\n",
    "#                 continue\n",
    "#             if np.abs(eta) > etamax_mu:\n",
    "#                 continue\n",
    "#             muonList.append(mu)\n",
    "#         muonList = sorted(muonList, key = lambda j: np.sqrt(j.px**2+j.py**2), reverse=True)                                            \n",
    "              \n",
    "        # Compute MET\n",
    "#         MET = np.sqrt((med[0].px)**2 + (med[0].py)**2)\n",
    "        MET = np.sqrt((dm[0].px+dm[1].px)**2 + (dm[0].py+dm[1].py)**2)\n",
    "        \n",
    "        # Compute deltaPhi\n",
    "#         if len(jetList) > 0:\n",
    "#             phij1 = np.arctan2(jetList[0].py,jetList[0].px)\n",
    "# #             phiMET = np.arctan2((med[0].py),(med[0].px))\n",
    "#             phiMET = np.arctan2((dm[0].py+dm[1].py),(dm[0].px+dm[1].px))\n",
    "#             deltaPhi = np.abs(phij1-phiMET)\n",
    "#         else:\n",
    "#             deltaPhi = 0.0\n",
    "        \n",
    "#         #Apply cuts:\n",
    "#         if len(electronList) > 0:\n",
    "#             continue\n",
    "#         if len(muonList) > 0:\n",
    "#             continue\n",
    "#         if len(jetList) == 0:\n",
    "#             continue\n",
    "        \n",
    "        pT1 = np.sqrt(jetList[0].px**2+jetList[0].py**2)\n",
    "#         if MET < minMET:\n",
    "#             continue\n",
    "#         if pT1 < pTj1min:\n",
    "#             continue\n",
    "#         if deltaPhi < 0.5:\n",
    "#             continue\n",
    "        \n",
    "        # Store relevant data        \n",
    "        njets[label] = np.append(njets[label],len(jets))\n",
    "        pTj1[label] = np.append(pTj1[label],pT1)\n",
    "        weights[label] = np.append(weights[label],weight)\n",
    "        met[label] = np.append(met[label],MET)"
   ]
  },
  {
   "cell_type": "code",
   "execution_count": 9,
   "id": "db317cc7",
   "metadata": {
    "ExecuteTime": {
     "end_time": "2023-05-19T17:00:57.215621Z",
     "start_time": "2023-05-19T17:00:57.100816Z"
    }
   },
   "outputs": [
    {
     "name": "stdout",
     "output_type": "stream",
     "text": [
      "axial on-shell total cross-section = 1.692e+01 pb\n",
      "axial off-shell total cross-section = 1.255e-01 pb\n",
      "vector on-shell total cross-section = 3.821e+01 pb\n",
      "vector off-shell total cross-section = 5.306e-01 pb\n",
      "scalar on-shell total cross-section = 2.212e-01 pb\n",
      "scalar off-shell total cross-section = 2.796e-03 pb\n"
     ]
    }
   ],
   "source": [
    "for label,w in totalweight.items():\n",
    "    print(label,'total cross-section = %1.3e pb' %w)\n",
    "colors = {label : sns.color_palette('deep')[i+1] for i,label in enumerate(weights.keys())}    "
   ]
  },
  {
   "cell_type": "code",
   "execution_count": 10,
   "id": "bff53e45",
   "metadata": {
    "ExecuteTime": {
     "end_time": "2023-05-19T17:01:09.804034Z",
     "start_time": "2023-05-19T17:01:08.575950Z"
    }
   },
   "outputs": [
    {
     "data": {
      "image/png": "[encoded data removed]",
      "text/plain": [
       "<Figure size 1000x600 with 1 Axes>"
      ]
     },
     "metadata": {},
     "output_type": "display_data"
    }
   ],
   "source": [
    "fig = plt.figure(figsize=(10,6))\n",
    "for label,pt in pTj1.items():\n",
    "#     if 'axial' in label:\n",
    "    binc,binEdges,patches = plt.hist(pt,bins=np.linspace(0,5000,101),\n",
    "                               label=label,histtype='step',color=colors[label],\n",
    "                               weights=weights[label],linewidth=2, density=True)\n",
    "    errorc2,_ = np.histogram(pt,bins=binEdges,weights=weights[label]**2)\n",
    "    errorc = np.sqrt(errorc2)\n",
    "    binCenter = (binEdges[0:-1]+binEdges[1:])/2.\n",
    "#     plt.errorbar(binCenter,binc,yerr = errorc, marker = '.', \n",
    "#                  drawstyle = 'steps-mid',color=colors[label])\n",
    "\n",
    "    \n",
    "plt.yscale('log')\n",
    "# plt.ylim(1e-8,10.)\n",
    "plt.xlabel(r'$p_T(j_1)$ (GeV)')\n",
    "plt.ylabel(r'$\\frac{d\\sigma}{dp_{T}}$ (pb)')\n",
    "plt.xlim(200,1500)\n",
    "plt.legend(loc='upper right', fontsize='x-small')\n",
    "plt.show()"
   ]
  },
  {
   "cell_type": "code",
   "execution_count": 18,
   "id": "7e144681",
   "metadata": {
    "ExecuteTime": {
     "end_time": "2023-05-19T17:13:00.406625Z",
     "start_time": "2023-05-19T17:12:59.691481Z"
    }
   },
   "outputs": [
    {
     "data": {
      "image/png": "[encoded data removed]",
      "text/plain": [
       "<Figure size 1000x600 with 1 Axes>"
      ]
     },
     "metadata": {},
     "output_type": "display_data"
    }
   ],
   "source": [
    "fig = plt.figure(figsize=(10,6))\n",
    "for label,metPts in met.items():\n",
    "    if 'on-shell' in label:\n",
    "        binc,binEdges,patches = plt.hist(metPts,bins=np.linspace(0,5000,101),\n",
    "                                   label=label,histtype='step',color=colors[label],\n",
    "                                   weights=weights[label],linewidth=2, density=True)\n",
    "        errorc2,_ = np.histogram(metPts,bins=binEdges,weights=weights[label]**2)\n",
    "        errorc = np.sqrt(errorc2)\n",
    "        binCenter = (binEdges[0:-1]+binEdges[1:])/2.\n",
    "#         plt.errorbar(binCenter,binc,yerr = errorc, marker = '.', \n",
    "#                      drawstyle = 'steps-mid',color=colors[label])\n",
    "\n",
    "    \n",
    "plt.yscale('log')\n",
    "# plt.ylim(1e-8,1)\n",
    "plt.xlabel(r'$p_T^{miss}$ (GeV)')\n",
    "plt.ylabel(r'$\\frac{d\\sigma}{d p_T^{miss}}$ (pb)')\n",
    "plt.xlim(0,1500)\n",
    "plt.legend(loc='upper right', fontsize='x-small')\n",
    "plt.show()"
   ]
  },
  {
   "cell_type": "code",
   "execution_count": 14,
   "id": "a57a0563",
   "metadata": {
    "ExecuteTime": {
     "end_time": "2023-05-19T17:08:57.393586Z",
     "start_time": "2023-05-19T17:08:57.019153Z"
    }
   },
   "outputs": [
    {
     "data": {
      "image/png": "[encoded data removed]",
      "text/plain": [
       "<Figure size 1000x600 with 1 Axes>"
      ]
     },
     "metadata": {},
     "output_type": "display_data"
    }
   ],
   "source": [
    "fig = plt.figure(figsize=(10,6))\n",
    "for label,metPts in met.items():\n",
    "    if 'off-shell' in label:\n",
    "        binc,binEdges,patches = plt.hist(metPts,bins=np.linspace(0,5000,101),\n",
    "                                   label=label,histtype='step',color=colors[label],\n",
    "                                   weights=weights[label],linewidth=2,density=True)\n",
    "        errorc2,_ = np.histogram(metPts,bins=binEdges,weights=weights[label]**2)\n",
    "        errorc = np.sqrt(errorc2)\n",
    "        binCenter = (binEdges[0:-1]+binEdges[1:])/2.\n",
    "#         plt.errorbar(binCenter,binc,yerr = errorc, marker = '.', \n",
    "#                      drawstyle = 'steps-mid',color=colors[label])\n",
    "\n",
    "    \n",
    "plt.yscale('log')\n",
    "# plt.ylim(1e-3,1)\n",
    "plt.xlabel(r'$p_T^{miss}$ (GeV)')\n",
    "plt.ylabel(r'$\\frac{d\\sigma}{d p_T^{miss}}$ (pb)')\n",
    "plt.xlim(200,1500)\n",
    "plt.legend(loc='upper right', fontsize='x-small')\n",
    "plt.show()"
   ]
  },
  {
   "cell_type": "code",
   "execution_count": null,
   "id": "722d7b7d",
   "metadata": {},
   "outputs": [],
   "source": []
  }
 ],
 "metadata": {
  "kernelspec": {
   "display_name": "Python 3 (ipykernel)",
   "language": "python",
   "name": "python3"
  },
  "language_info": {
   "codemirror_mode": {
    "name": "ipython",
    "version": 3
   },
   "file_extension": ".py",
   "mimetype": "text/x-python",
   "name": "python",
   "nbconvert_exporter": "python",
   "pygments_lexer": "ipython3",
   "version": "3.10.6"
  }
 },
 "nbformat": 4,
 "nbformat_minor": 5
}
