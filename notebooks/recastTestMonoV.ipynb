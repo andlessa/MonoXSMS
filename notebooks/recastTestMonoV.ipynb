{
 "cells": [
  {
   "cell_type": "code",
   "execution_count": 1,
   "id": "3632900f",
   "metadata": {},
   "outputs": [
    {
     "name": "stdout",
     "output_type": "stream",
     "text": [
      "Welcome to JupyROOT 6.26/04\n"
     ]
    },
    {
     "data": {
      "text/plain": [
       "True"
      ]
     },
     "execution_count": 1,
     "metadata": {},
     "output_type": "execute_result"
    }
   ],
   "source": [
    "import os,glob,copy\n",
    "import numpy as np\n",
    "import pandas as pd\n",
    "import glob\n",
    "import pyslha\n",
    "import time\n",
    "from numpy.linalg import norm\n",
    "from matplotlib import pyplot as plt\n",
    "import seaborn as sns\n",
    "from scipy.interpolate import LinearNDInterpolator,interp2d, griddata\n",
    "from itertools import product\n",
    "import matplotlib as mpl\n",
    "from matplotlib.colors import LogNorm\n",
    "from IPython.display import display, Markdown\n",
    "import pickle\n",
    "plt.rcParams.update({\n",
    "    \"text.usetex\": True,\n",
    "    \"font.family\": \"sans-serif\",\n",
    "    \"font.sans-serif\": [\"Helvetica\"]})\n",
    "\n",
    "plt.rcParams.update({\"savefig.dpi\" : 300}) #Figure resolution\n",
    "\n",
    "\n",
    "#Define plotting style:\n",
    "sns.set() #Set style\n",
    "sns.set_style('ticks',{'font.family':'Times New Roman', 'font.serif':'Times New Roman'})\n",
    "sns.set_context('paper', font_scale=1.8)\n",
    "cm = plt.cm.get_cmap('RdYlBu')\n",
    "\n",
    "\n",
    "pd.set_option('display.max_rows', 200)\n",
    "\n",
    "delphesDir = os.path.abspath(\"../MG5/Delphes\")\n",
    "os.environ['ROOT_INCLUDE_PATH'] = os.path.join(delphesDir,\"external\")\n",
    "\n",
    "import ROOT\n",
    "import xml.etree.ElementTree as ET\n",
    "\n",
    "\n",
    "ROOT.gSystem.Load(os.path.join(delphesDir,\"libDelphes.so\"))\n",
    "\n",
    "ROOT.gInterpreter.Declare('#include \"classes/SortableObject.h\"')\n",
    "ROOT.gInterpreter.Declare('#include \"classes/DelphesClasses.h\"')\n",
    "ROOT.gInterpreter.Declare('#include \"external/ExRootAnalysis/ExRootTreeReader.h\"')"
   ]
  },
  {
   "cell_type": "code",
   "execution_count": 2,
   "id": "f7a33027",
   "metadata": {},
   "outputs": [],
   "source": [
    "\n",
    "# # Load events, apply cuts and store relevant info\n",
    "\n",
    "# ## Cuts\n",
    "## Trigger efficiency\n",
    "triggerEff = 0.9 # Applied to the event weight\n",
    "\n",
    "## jets\n",
    "pTj1min = 100.\n",
    "pTjmin = 20.\n",
    "etamax = 2.4\n",
    "## MET\n",
    "minMET = 250.\n",
    "## Electrons\n",
    "pTmin_el = 10.\n",
    "etamax_el = 2.5\n",
    "nMax_el = 0\n",
    "## Photons\n",
    "pTmin_a = 15.\n",
    "etamax_a = 2.5\n",
    "nMax_a = 0\n",
    "## Muons\n",
    "pTmin_mu = 10.\n",
    "etamax_mu = 2.4\n",
    "nMax_mu = 0\n",
    "## Tau jets\n",
    "nMax_tau = 0\n",
    "etatau_max = 2.3\n",
    "pTtau_min = 18.0\n",
    "## b jets\n",
    "nMax_b = 0\n",
    "etab_max = 2.4\n",
    "pTb_min = 20.0\n",
    "\n",
    "def passVetoJets2018(jets):\n",
    "    \"\"\"\n",
    "    Calorimeter mitigation failure I for the 2018\n",
    "    data set.\n",
    "\n",
    "    :param jets: List of Jet objects\n",
    "\n",
    "    :return: True if event should be accepted, False otherwise.\n",
    "    \"\"\"\n",
    "\n",
    "    for jet in jets:\n",
    "        if jet.PT < 30.0:\n",
    "            continue\n",
    "        if jet.Phi < -1.57 or jet.Phi > -0.87:\n",
    "            continue\n",
    "        if jet.Eta < -3.0 or jet.Eta > -1.3:\n",
    "            continue\n",
    "        return False\n",
    "    return True\n",
    "\n",
    "def passVetoPtMiss2018(met):\n",
    "    \"\"\"\n",
    "    Calorimeter mitigation failure II for the 2018\n",
    "    data set.\n",
    "\n",
    "    :param met: MET object\n",
    "\n",
    "    :return: True if event should be accepted, False otherwise.\n",
    "    \"\"\"        \n",
    "\n",
    "    if met.MET > 470.:\n",
    "        return True\n",
    "    if met.Phi < -1.62 or met.Phi > -0.62:\n",
    "        return True\n",
    "    return False\n",
    "\n",
    "\n",
    "with open('../AuxInfo/CMS-EXO-20-004-data/deepAK8effs.pcl', 'rb') as ff:\n",
    "    fInt = pickle.load(ff)\n",
    "    \n",
    "def deepAK8effs(pT,pid=23,dt=2017,wpoint='tight'):\n",
    "    \n",
    "    pid = abs(pid) # Use absolute PID value\n",
    "    dt = max(dt,2017) # Use 2017 for 2016 dataset\n",
    "    f = fInt[(abs(pid),dt,wpoint)]\n",
    "    eff = min(1.0,max(0.,f(pT)))\n",
    "    eff = float(eff)    \n",
    "    return eff\n",
    "\n",
    "luminosities = {2016 : 36.0, 2017 : 41.5, 2018: 59.7}\n",
    "lumTot = sum(luminosities.values())\n",
    "yields = {ds : [] for ds in luminosities}\n",
    "metAll = {ds : [] for ds in luminosities}\n",
    "totalweightPB = 0.0\n",
    "# Keep track of yields for each dataset\n",
    "cutFlowAll = {ds : \n",
    "                {'Fullsample' : 0.0,\n",
    "                'Triggeremulation' : 0.0,\n",
    "                '$p_{T}^{miss}>250$GeV' : 0.0, \n",
    "                'Electronveto' : 0.0,\n",
    "                'Muonveto' : 0.0, \n",
    "                'Tauveto' : 0.0, \n",
    "                'Bjetveto' : 0.0, \n",
    "                'Photonveto' : 0.0,\n",
    "                '$\\Delta \\phi (jet,p_{T}^{miss})>0.5$ rad' : 0.0,\n",
    "                'LeadingAK4jet$p_{T}>100$GeV' : 0.0, \n",
    "                'LeadingAK4jet$\\eta<2.4$' : 0.0,            \n",
    "                'HCALmitigation(jets)' : 0.0,\n",
    "                'HCALmitigation($\\phi^{miss}$)' : 0.0}\n",
    "            for ds in luminosities}\n"
   ]
  },
  {
   "cell_type": "code",
   "execution_count": 3,
   "id": "6a4f0322",
   "metadata": {},
   "outputs": [],
   "source": [
    "inputFile = '../DMSimp_axial_0jw_match/Events/run_01/axial_2000_1_delphes_events.root'"
   ]
  },
  {
   "cell_type": "code",
   "execution_count": null,
   "id": "bec484a3",
   "metadata": {},
   "outputs": [],
   "source": []
  },
  {
   "cell_type": "code",
   "execution_count": 12,
   "id": "e924283d",
   "metadata": {},
   "outputs": [
    {
     "data": {
      "image/png": "[encoded data removed]",
      "text/plain": [
       "<Figure size 432x288 with 1 Axes>"
      ]
     },
     "metadata": {
      "needs_background": "light"
     },
     "output_type": "display_data"
    }
   ],
   "source": [
    "f = ROOT.TFile(inputFile,'read')\n",
    "tree = f.Get(\"Delphes\")\n",
    "nevts = tree.GetEntries()\n",
    "\n",
    "nVs = []\n",
    "for ievt in range(nevts):    \n",
    "\n",
    "    tree.GetEntry(ievt)  \n",
    "    vbosons = tree.VBosons\n",
    "    nVs.append(vbosons.GetEntries())\n",
    "plt.hist(nVs,bins=10)\n",
    "plt.show()"
   ]
  },
  {
   "cell_type": "code",
   "execution_count": null,
   "id": "90dfa190",
   "metadata": {},
   "outputs": [],
   "source": []
  },
  {
   "cell_type": "code",
   "execution_count": 4,
   "id": "7d44e224",
   "metadata": {},
   "outputs": [],
   "source": [
    "f = ROOT.TFile(inputFile,'read')\n",
    "tree = f.Get(\"Delphes\")\n",
    "nevts = tree.GetEntries()\n",
    "\n",
    "allVs = []\n",
    "drJV = 0.2\n",
    "allJVs = []\n",
    "for ievt in range(nevts):    \n",
    "\n",
    "    tree.GetEntry(ievt)  \n",
    "\n",
    "    jets = tree.Jet\n",
    "    jetsAK8 = tree.FatJet\n",
    "    weightPB = tree.Weight.At(1).Weight\n",
    "\n",
    "    missingET = tree.MissingET.At(0)\n",
    "    electrons = tree.Electron\n",
    "    muons = tree.Muon\n",
    "    photons = tree.Photon\n",
    "    vbosons = tree.VBosons\n",
    "    particles = tree.Particle\n",
    "    \n",
    "    vList = []\n",
    "    for iv in range(vbosons.GetEntries()):\n",
    "        v = copy.deepcopy(vbosons.At(iv))\n",
    "#         if v.PT < 200.0:\n",
    "#             continue            \n",
    "        v.matched = False\n",
    "        vList.append(v)\n",
    "    vList = sorted(vList, key = lambda v: v.PT, reverse=True)\n",
    "    \n",
    "    if not vList:\n",
    "        continue\n",
    "    \n",
    "    # Fat jets\n",
    "    jetAK8List = []\n",
    "    for ijet in range(jetsAK8.GetEntries()):\n",
    "        jet = copy.deepcopy(jetsAK8.At(ijet))\n",
    "        if jet.PT > 250.0 and abs(jet.Eta) < 2.4:\n",
    "            jet.VTag = False\n",
    "            jetAK8List.append(jet)\n",
    "    jetAK8List = sorted(jetAK8List, key = lambda j: j.PT, reverse=True)   \n",
    "    \n",
    "    if not jetAK8List:\n",
    "        continue\n",
    "    \n",
    "    for j in jetAK8List:\n",
    "        drs = [np.sqrt((j.Eta-v.Eta)**2 + (j.Phi-v.Phi)**2) for v in vList if not v.matched]\n",
    "        if not drs:\n",
    "            break # All Vs have already been matched\n",
    "        drmin = min(drs)\n",
    "        if drmin > drJV:\n",
    "            continue\n",
    "        iv = drs.index(drmin)\n",
    "        v = vList[iv]\n",
    "        j.VTag = v.PID\n",
    "        j.drJV = drmin\n",
    "        v.matched = True\n",
    "                \n",
    "    vjetList = [j for j in jetAK8List if j.VTag]\n",
    "    jetList = [j for j in jetAK8List if not j.VTag]\n",
    "#     vList = [v for v in vList if v.matched]\n",
    "    \n",
    "    allVs.append(vList)\n",
    "    allJVs.append(vjetList)\n"
   ]
  },
  {
   "cell_type": "code",
   "execution_count": 5,
   "id": "fa25b338",
   "metadata": {},
   "outputs": [],
   "source": [
    "nVs = [len(vList) for vList in allVs]\n",
    "nVms = [len([v for v in vList if v.matched]) for vList in allVs]\n",
    "nJs = [len(vjetList) for vjetList in allJVs]"
   ]
  },
  {
   "cell_type": "code",
   "execution_count": 6,
   "id": "0ea6f34e",
   "metadata": {},
   "outputs": [],
   "source": [
    "drs = []\n",
    "vPIDs = set([])\n",
    "for vjetList in allJVs:\n",
    "    drs += [j.drJV for j in vjetList]\n",
    "    for j in vjetList:\n",
    "        vPIDs.add(j.VTag)"
   ]
  },
  {
   "cell_type": "code",
   "execution_count": 7,
   "id": "c7cdfd22",
   "metadata": {},
   "outputs": [
    {
     "name": "stdout",
     "output_type": "stream",
     "text": [
      "{24, -24}\n"
     ]
    }
   ],
   "source": [
    "print(vPIDs)"
   ]
  },
  {
   "cell_type": "code",
   "execution_count": 8,
   "id": "76c26df9",
   "metadata": {},
   "outputs": [],
   "source": [
    "pTVs = []\n",
    "for vList in allVs:\n",
    "    pTVs += [v.PT for v in vList]"
   ]
  },
  {
   "cell_type": "code",
   "execution_count": 9,
   "id": "0fa6bea3",
   "metadata": {},
   "outputs": [
    {
     "data": {
      "image/png": "[encoded data removed]",
      "text/plain": [
       "<Figure size 432x288 with 1 Axes>"
      ]
     },
     "metadata": {
      "needs_background": "light"
     },
     "output_type": "display_data"
    }
   ],
   "source": [
    "plt.hist(nVs,bins=[0,1,2,3,4],label='Vs',histtype='step',linewidth=2)\n",
    "plt.hist(nVms,bins=[0,1,2,3,4],label='Vs (matched)',histtype='step',linewidth=2,linestyle='--')\n",
    "b = plt.hist(nJs,bins=[0,1,2,3,4],label='Js',histtype='step',linewidth=2,linestyle='--',alpha=0.5)\n",
    "plt.yscale('log')\n",
    "plt.legend()\n",
    "plt.show()"
   ]
  },
  {
   "cell_type": "code",
   "execution_count": 10,
   "id": "665b6886",
   "metadata": {},
   "outputs": [
    {
     "data": {
      "image/png": "[encoded data removed]",
      "text/plain": [
       "<Figure size 432x288 with 1 Axes>"
      ]
     },
     "metadata": {
      "needs_background": "light"
     },
     "output_type": "display_data"
    }
   ],
   "source": [
    "plt.hist(pTVs,bins=20,histtype='step')\n",
    "plt.yscale('log')\n",
    "# plt.xlim(0,100)\n",
    "plt.show()"
   ]
  },
  {
   "cell_type": "code",
   "execution_count": 11,
   "id": "eb699930",
   "metadata": {},
   "outputs": [
    {
     "data": {
      "image/png": "[encoded data removed]",
      "text/plain": [
       "<Figure size 432x288 with 1 Axes>"
      ]
     },
     "metadata": {
      "needs_background": "light"
     },
     "output_type": "display_data"
    }
   ],
   "source": [
    "plt.hist(drs,bins=50)\n",
    "plt.show()"
   ]
  },
  {
   "cell_type": "code",
   "execution_count": null,
   "id": "ee9ea07f",
   "metadata": {},
   "outputs": [],
   "source": []
  }
 ],
 "metadata": {
  "kernelspec": {
   "display_name": "Python 3 (ipykernel)",
   "language": "python",
   "name": "python3"
  },
  "language_info": {
   "codemirror_mode": {
    "name": "ipython",
    "version": 3
   },
   "file_extension": ".py",
   "mimetype": "text/x-python",
   "name": "python",
   "nbconvert_exporter": "python",
   "pygments_lexer": "ipython3",
   "version": "3.10.6"
  }
 },
 "nbformat": 4,
 "nbformat_minor": 5
}
