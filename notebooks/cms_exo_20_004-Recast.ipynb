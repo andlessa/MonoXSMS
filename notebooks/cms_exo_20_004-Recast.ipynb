{
 "cells": [
  {
   "cell_type": "code",
   "execution_count": 1,
   "id": "73c69e33",
   "metadata": {},
   "outputs": [
    {
     "name": "stdout",
     "output_type": "stream",
     "text": [
      "Welcome to JupyROOT 6.26/04\n"
     ]
    }
   ],
   "source": [
    "import sys,os,glob,copy\n",
    "sys.path.append('../')\n",
    "import numpy as np\n",
    "from numpy.linalg import norm\n",
    "import pandas as pd\n",
    "from matplotlib import pyplot as plt\n",
    "import seaborn as sns\n",
    "from scipy.interpolate import LinearNDInterpolator,interp2d\n",
    "import matplotlib as mpl\n",
    "from matplotlib.colors import LogNorm\n",
    "from IPython.display import display, Markdown\n",
    "from collections import OrderedDict\n",
    "import pylhe\n",
    "import glob\n",
    "import pyslha\n",
    "\n",
    "delphesDir = os.path.abspath(\"../MG5/Delphes\")\n",
    "os.environ['ROOT_INCLUDE_PATH'] = os.path.join(delphesDir,\"external\")\n",
    "\n",
    "import ROOT\n",
    "import xml.etree.ElementTree as ET\n",
    "\n",
    "\n",
    "ROOT.gSystem.Load(os.path.join(delphesDir,\"libDelphes.so\"))\n",
    "\n",
    "ROOT.gInterpreter.Declare('#include \"classes/SortableObject.h\"')\n",
    "ROOT.gInterpreter.Declare('#include \"classes/DelphesClasses.h\"')\n",
    "ROOT.gInterpreter.Declare('#include \"external/ExRootAnalysis/ExRootTreeReader.h\"')\n",
    "\n",
    "plt.rcParams.update({\n",
    "    \"text.usetex\": True,\n",
    "    \"font.family\": \"sans-serif\",\n",
    "    \"font.sans-serif\": [\"Helvetica\"]})\n",
    "\n",
    "plt.rcParams.update({\"savefig.dpi\" : 300}) #Figure resolution\n",
    "\n",
    "\n",
    "#Define plotting style:\n",
    "sns.set() #Set style\n",
    "sns.set_style('ticks',{'font.family':'Times New Roman', 'font.serif':'Times New Roman'})\n",
    "sns.set_context('paper', font_scale=1.8)\n",
    "cm = plt.cm.get_cmap('RdYlBu')"
   ]
  },
  {
   "cell_type": "markdown",
   "id": "87622e4a",
   "metadata": {},
   "source": [
    "# Set output and input files"
   ]
  },
  {
   "cell_type": "code",
   "execution_count": 2,
   "id": "030fc287",
   "metadata": {},
   "outputs": [],
   "source": [
    "# inputFile = '../DMSimp_axial_all/Events/run_04/axial_delphes_events.root'\n",
    "# inputFile = '../DMSimp_axial_0j/Events/run_01/axial_delphes_events.root'\n",
    "inputFile = '../DMSimp_axial_1j/Events/run_01/axial_delphes_events.root'\n",
    "\n",
    "outputFile = inputFile.replace('delphes_events.root','cms_exo_20_004.pcl')"
   ]
  },
  {
   "cell_type": "markdown",
   "id": "f1c139c0",
   "metadata": {},
   "source": [
    "### Define dictionary to store data"
   ]
  },
  {
   "cell_type": "code",
   "execution_count": 3,
   "id": "96723ece",
   "metadata": {},
   "outputs": [],
   "source": [
    "dataDict = {'filename' : os.path.abspath(inputFile)}\n",
    "cmsColumns = ['Coupling', 'Mode', '$m_{med}$', '$m_{DM}$', '$g_{\\chi}$', '$g_{q}$',\n",
    "       'Data-takingperiod', 'Fullsample', 'Triggeremulation',\n",
    "       '$p_{T}^{miss}>250$GeV', '$p_{T}^{miss}$qualityfilters', 'Electronveto',\n",
    "       'Muonveto', 'Tauveto', 'Bjetveto', 'Photonveto',\n",
    "       '\"$\\Delta\\phi(jet_p_{T}^{miss})>0.5$rad\"',\n",
    "       '$\\Deltap_{T}^{miss}$(PF-Calorimeter)$<0.5$rad',\n",
    "       'LeadingAK4jet$p_{T}>100$GeV', 'LeadingAK4jet$\\eta<2.4$',\n",
    "       'LeadingAK4jetenergyfractions', 'Mono-Voverlapremoval',\n",
    "       'HCALmitigation(jets)', 'HCALmitigation($\\phi^{miss}$)',\n",
    "       '\"$\\Delta\\phi(\\mathrm{PF}_\\mathrm{Charged})<2.0$rad\"']\n",
    "for column in cmsColumns:\n",
    "    dataDict[column] = None"
   ]
  },
  {
   "cell_type": "markdown",
   "id": "1e952041",
   "metadata": {},
   "source": [
    "## Get Model Parameters"
   ]
  },
  {
   "cell_type": "code",
   "execution_count": 4,
   "id": "f4236190",
   "metadata": {},
   "outputs": [
    {
     "name": "stdout",
     "output_type": "stream",
     "text": [
      "mMed = 2000.00 GeV, mDM = 1.00 GeV, gVq = 0.00, gAq = 0.25, gVx = 0.00, gAx = 1.00\n"
     ]
    }
   ],
   "source": [
    "banner = sorted(glob.glob(os.path.dirname(inputFile)+'/*banner.txt'),key=os.path.getmtime,reverse=True)\n",
    "if len(banner) == 0:\n",
    "    print('Banner not found for %s' %label)\n",
    "elif len(banner) > 1:        \n",
    "    print('\\n%i banner files found for %s. Using %s' \n",
    "          %(len(banner),label,os.path.basename(banner[0])))\n",
    "banner = banner[0]\n",
    "xtree = ET.parse(banner)\n",
    "xroot = xtree.getroot()\n",
    "#     xsecPB = eval(xroot.find('init').text.split()[-2])\n",
    "slha = xroot.find('header').find('slha').text\n",
    "pars = pyslha.readSLHA(slha)\n",
    "mMed = pars.blocks['MASS'][55]\n",
    "mDM = pars.blocks['MASS'][52]\n",
    "gVq = pars.blocks['DMINPUTS'][4] # Mediator-quark vector coupling\n",
    "gAq = pars.blocks['DMINPUTS'][10] # Mediator-quark axial coupling\n",
    "gVx = pars.blocks['DMINPUTS'][2] # Mediator-DM vector coupling\n",
    "gAx = pars.blocks['DMINPUTS'][3] # Mediator-DM axial coupling\n",
    "\n",
    "print('mMed = %1.2f GeV, mDM = %1.2f GeV, gVq = %1.2f, gAq = %1.2f, gVx = %1.2f, gAx = %1.2f' \n",
    "      %(mMed,mDM,gVq,gAq,gVx,gAx))"
   ]
  },
  {
   "cell_type": "markdown",
   "id": "b9aa5a6c",
   "metadata": {},
   "source": [
    "#### Store data"
   ]
  },
  {
   "cell_type": "code",
   "execution_count": 5,
   "id": "0367bdb5",
   "metadata": {},
   "outputs": [],
   "source": [
    "if gVx != 0:\n",
    "    dataDict['Coupling'] = 'Vector'\n",
    "else:\n",
    "    dataDict['Coupling'] = 'Axial'\n",
    "    \n",
    "dataDict['Mode'] = '$\\\\chi\\\\chi+j$'\n",
    "\n",
    "dataDict['$m_{med}$'] = mMed\n",
    "dataDict['$m_{DM}$'] = mDM\n",
    "if dataDict['Coupling'] == 'Vector':\n",
    "    dataDict['$g_{\\chi}$'] = gVx\n",
    "    dataDict['$g_{q}$'] = gVq\n",
    "else:\n",
    "    dataDict['$g_{\\chi}$'] = gAx\n",
    "    dataDict['$g_{q}$'] = gAq\n",
    "\n",
    "dataDict['Data-takingperiod'] = 2017"
   ]
  },
  {
   "cell_type": "markdown",
   "id": "58dbbed7",
   "metadata": {},
   "source": [
    "# Load events, apply cuts and store relevant info"
   ]
  },
  {
   "cell_type": "markdown",
   "id": "def25a2b",
   "metadata": {},
   "source": [
    "## Cuts"
   ]
  },
  {
   "cell_type": "code",
   "execution_count": 6,
   "id": "96ca5f56",
   "metadata": {},
   "outputs": [],
   "source": [
    "## Trigger efficiency\n",
    "triggerEff = 0.9 # Applied to the event weights\n",
    "\n",
    "## jets\n",
    "pTj1min = 100.\n",
    "pTjmin = 25.\n",
    "etamax = 2.4\n",
    "## MET\n",
    "minMET = 250.\n",
    "## Electrons\n",
    "pTmin_el = 10.\n",
    "etamax_el = 2.5\n",
    "nMax_el = 0\n",
    "## Photons\n",
    "pTmin_a = 15.\n",
    "etamax_a = 2.5\n",
    "nMax_a = 0\n",
    "## Muons\n",
    "pTmin_mu = 10.\n",
    "etamax_mu = 2.4\n",
    "nMax_mu = 0\n",
    "## Tau jets\n",
    "nMax_tau = 0\n",
    "## b jets\n",
    "nMax_b = 0"
   ]
  },
  {
   "cell_type": "code",
   "execution_count": 7,
   "id": "30ec0a1d",
   "metadata": {},
   "outputs": [],
   "source": [
    "pTj1 = np.array([])\n",
    "weights = np.array([])\n",
    "met = np.array([])\n",
    "dmPT = np.array([])\n",
    "njets = np.array([])\n",
    "totalweight = 0.0\n",
    "cutFlow = { 'Fullsample' : 0.,\n",
    "            'Triggeremulation' : 0.,\n",
    "           '$p_{T}^{miss}>250$GeV' : 0., \n",
    "           'Electronveto' : 0.,\n",
    "           'Muonveto' : 0., \n",
    "           'Tauveto' : 0., \n",
    "           'Bjetveto' : 0., \n",
    "           'Photonveto' : 0.,\n",
    "           '\"$\\Delta\\phi(jet_p_{T}^{miss})>0.5$rad\"' : 0.,\n",
    "           'LeadingAK4jet$p_{T}>100$GeV' : 0., \n",
    "           'LeadingAK4jet$\\eta<2.4$' : 0.}\n",
    "\n",
    "\n",
    "f = ROOT.TFile(inputFile,'read')\n",
    "tree = f.Get(\"Delphes\")\n",
    "nevts = tree.GetEntries()\n",
    "dataDict['Total MC Events'] = nevts\n",
    "\n",
    "for ievt in range(nevts):    \n",
    "    \n",
    "    tree.GetEntry(ievt)        \n",
    "\n",
    "    jets = tree.Jet\n",
    "    weight = tree.Weight.At(1).Weight\n",
    "    totalweight += weight\n",
    "\n",
    "    missingET = tree.MissingET.At(0)\n",
    "#         missingET = tree.GenMissingET.At(0)  # USE REAL MISSING ET!\n",
    "    electrons = tree.Electron\n",
    "    muons = tree.Muon\n",
    "    photons = tree.Photon\n",
    "\n",
    "    # Filter electrons:\n",
    "    electronList = []\n",
    "    for iel in range(electrons.GetEntries()):\n",
    "        electron = electrons.At(iel)\n",
    "        if electron.PT < pTmin_el:\n",
    "            continue\n",
    "        if abs(electron.Eta) > etamax_el:\n",
    "            continue\n",
    "        electronList.append(electron)\n",
    "\n",
    "    # Filter muons:\n",
    "    muonList = []\n",
    "    for imu in range(muons.GetEntries()):\n",
    "        muon = muons.At(imu)\n",
    "        if muon.PT < pTmin_mu:\n",
    "            continue\n",
    "        if abs(muon.Eta) > etamax_mu:\n",
    "            continue\n",
    "        muonList.append(muon)\n",
    "\n",
    "    # Filter photons:\n",
    "    photonList = []\n",
    "    for ia in range(photons.GetEntries()):\n",
    "        photon = photons.At(ia)\n",
    "        if photon.PT < pTmin_a:\n",
    "            continue\n",
    "        if abs(photon.Eta) > etamax_a:\n",
    "            continue\n",
    "        photonList.append(photon)            \n",
    "\n",
    "    # Filter jets\n",
    "    jetList = []\n",
    "    bjetList = []\n",
    "    taujetList = []\n",
    "    for ijet in range(jets.GetEntries()):\n",
    "        jet = jets.At(ijet)\n",
    "        if jet.PT < pTjmin:\n",
    "            continue\n",
    "        if abs(jet.Eta) > 2.5:\n",
    "            continue\n",
    "        if jet.BTag:\n",
    "            bjetList.append(jet)\n",
    "        elif jet.TauTag:\n",
    "            taujetList.append(jet)\n",
    "        else:\n",
    "            jetList.append(jet)  \n",
    "    jetList = sorted(jetList, key = lambda j: j.PT, reverse=True)    \n",
    "\n",
    "    if len(jetList) > 0:\n",
    "        deltaPhi = np.abs(jetList[0].Phi-missingET.Phi) \n",
    "    else:\n",
    "        deltaPhi = 0.0\n",
    "        \n",
    "    cutFlow['Fullsample'] += 1./nevts\n",
    "\n",
    "    # Apply cuts:\n",
    "    ## Apply trigger efficiency\n",
    "    if np.random.uniform() > triggerEff:\n",
    "        continue\n",
    "    cutFlow['Triggeremulation'] += 1./nevts\n",
    "    ## Cut on MET\n",
    "    if missingET.MET < minMET: continue              \n",
    "    cutFlow['$p_{T}^{miss}>250$GeV'] += weight        \n",
    "    ## Veto electrons\n",
    "    if len(electronList) > nMax_el: continue  \n",
    "    cutFlow['Electronveto'] += 1./nevts\n",
    "    ## Veto muons\n",
    "    if len(muonList) > nMax_mu: continue  \n",
    "    cutFlow['Muonveto'] += 1./nevts\n",
    "    ## Veto tau jets\n",
    "    if len(taujetList) > nMax_tau: continue  \n",
    "    cutFlow['Tauveto'] += 1./nevts\n",
    "    ## Veto b jets\n",
    "    if len(bjetList) > nMax_b: continue  \n",
    "    cutFlow['Bjetveto'] += 1./nevts\n",
    "    ## Veto photons\n",
    "    if len(photonList) > nMax_a: continue  \n",
    "    cutFlow['Photonveto'] += 1./nevts           \n",
    "    ## Delta Phi cut\n",
    "    if deltaPhi < 0.5: continue\n",
    "    cutFlow['\"$\\Delta\\phi(jet_p_{T}^{miss})>0.5$rad\"'] += 1./nevts               \n",
    "    ## Jet cuts\n",
    "    if len(jetList) < 1 or jetList[0].PT < pTj1min: continue\n",
    "    cutFlow['LeadingAK4jet$p_{T}>100$GeV'] += 1./nevts\n",
    "    if abs(jetList[0].Eta) > etamax: continue\n",
    "    cutFlow['LeadingAK4jet$\\eta<2.4$'] += 1./nevts  \n",
    "\n",
    "    # Store relevant data        \n",
    "    weights = np.append(weights,weight)\n",
    "    met = np.append(met,missingET.MET)\n",
    "\n",
    "f.Close()\n"
   ]
  },
  {
   "cell_type": "markdown",
   "id": "2a757a5e",
   "metadata": {},
   "source": [
    "### Store cut-flow"
   ]
  },
  {
   "cell_type": "code",
   "execution_count": 8,
   "id": "d4b40c4d",
   "metadata": {},
   "outputs": [],
   "source": [
    "dataDict.update(cutFlow)"
   ]
  },
  {
   "cell_type": "markdown",
   "id": "41ed33b5",
   "metadata": {},
   "source": [
    "### Get global info and weight in MET bins"
   ]
  },
  {
   "cell_type": "code",
   "execution_count": 9,
   "id": "af245f53",
   "metadata": {},
   "outputs": [],
   "source": [
    "dataDict['Total xsec (pb)'] = totalweight\n",
    "lumi2017 = 41.5\n",
    "dataDict['Luminosity (1/fb)'] = lumi2017\n",
    "\n",
    "metBins = [250,  280,  310,  340,  370,  400,  430,  470,  510, 550,  590,  640,  690,  \n",
    "           740,  790,  840,  900,  960, 1020, 1090, 1160, 1250, 99999]\n",
    "binc,binEdges = np.histogram(met,bins=metBins, weights=weights)\n",
    "for ibin,b in enumerate(binc):\n",
    "    label = 'bin_%1.1f_%1.1f'%(binEdges[ibin],binEdges[ibin+1])\n",
    "    dataDict[label] = b*lumi2017\n"
   ]
  },
  {
   "cell_type": "code",
   "execution_count": 10,
   "id": "4b848c2d",
   "metadata": {},
   "outputs": [],
   "source": [
    "# Convert dataDict to a list with a single entry\n",
    "for key,val in dataDict.items():\n",
    "    dataDict[key] = [val]"
   ]
  },
  {
   "cell_type": "markdown",
   "id": "1ad7c2f8",
   "metadata": {},
   "source": [
    "#### Create pandas DataFrame"
   ]
  },
  {
   "cell_type": "code",
   "execution_count": 11,
   "id": "9ffb979f",
   "metadata": {},
   "outputs": [],
   "source": [
    "df = pd.DataFrame.from_dict(dataDict)"
   ]
  },
  {
   "cell_type": "code",
   "execution_count": 12,
   "id": "c98a833a",
   "metadata": {},
   "outputs": [
    {
     "data": {
      "text/html": [
       "<div>\n",
       "<style scoped>\n",
       "    .dataframe tbody tr th:only-of-type {\n",
       "        vertical-align: middle;\n",
       "    }\n",
       "\n",
       "    .dataframe tbody tr th {\n",
       "        vertical-align: top;\n",
       "    }\n",
       "\n",
       "    .dataframe thead th {\n",
       "        text-align: right;\n",
       "    }\n",
       "</style>\n",
       "<table border=\"1\" class=\"dataframe\">\n",
       "  <thead>\n",
       "    <tr style=\"text-align: right;\">\n",
       "      <th></th>\n",
       "      <th>filename</th>\n",
       "      <th>Coupling</th>\n",
       "      <th>Mode</th>\n",
       "      <th>$m_{med}$</th>\n",
       "      <th>$m_{DM}$</th>\n",
       "      <th>$g_{\\chi}$</th>\n",
       "      <th>$g_{q}$</th>\n",
       "      <th>Data-takingperiod</th>\n",
       "      <th>Fullsample</th>\n",
       "      <th>Triggeremulation</th>\n",
       "      <th>...</th>\n",
       "      <th>bin_690.0_740.0</th>\n",
       "      <th>bin_740.0_790.0</th>\n",
       "      <th>bin_790.0_840.0</th>\n",
       "      <th>bin_840.0_900.0</th>\n",
       "      <th>bin_900.0_960.0</th>\n",
       "      <th>bin_960.0_1020.0</th>\n",
       "      <th>bin_1020.0_1090.0</th>\n",
       "      <th>bin_1090.0_1160.0</th>\n",
       "      <th>bin_1160.0_1250.0</th>\n",
       "      <th>bin_1250.0_99999.0</th>\n",
       "    </tr>\n",
       "  </thead>\n",
       "  <tbody>\n",
       "    <tr>\n",
       "      <th>0</th>\n",
       "      <td>/home/lessa/MonoXSMS/DMSimp_axial_1j/Events/ru...</td>\n",
       "      <td>Axial</td>\n",
       "      <td>$\\chi\\chi+j$</td>\n",
       "      <td>2000.0</td>\n",
       "      <td>1.0</td>\n",
       "      <td>1.0</td>\n",
       "      <td>0.25</td>\n",
       "      <td>2017</td>\n",
       "      <td>1.0</td>\n",
       "      <td>0.90016</td>\n",
       "      <td>...</td>\n",
       "      <td>0.024708</td>\n",
       "      <td>0.022777</td>\n",
       "      <td>0.017759</td>\n",
       "      <td>0.012354</td>\n",
       "      <td>0.01081</td>\n",
       "      <td>0.008493</td>\n",
       "      <td>0.006563</td>\n",
       "      <td>0.003861</td>\n",
       "      <td>0.005019</td>\n",
       "      <td>0.01081</td>\n",
       "    </tr>\n",
       "  </tbody>\n",
       "</table>\n",
       "<p>1 rows × 51 columns</p>\n",
       "</div>"
      ],
      "text/plain": [
       "                                            filename Coupling          Mode  \\\n",
       "0  /home/lessa/MonoXSMS/DMSimp_axial_1j/Events/ru...    Axial  $\\chi\\chi+j$   \n",
       "\n",
       "   $m_{med}$  $m_{DM}$  $g_{\\chi}$  $g_{q}$  Data-takingperiod  Fullsample  \\\n",
       "0     2000.0       1.0         1.0     0.25               2017         1.0   \n",
       "\n",
       "   Triggeremulation  ...  bin_690.0_740.0 bin_740.0_790.0  bin_790.0_840.0  \\\n",
       "0           0.90016  ...         0.024708        0.022777         0.017759   \n",
       "\n",
       "   bin_840.0_900.0  bin_900.0_960.0  bin_960.0_1020.0  bin_1020.0_1090.0  \\\n",
       "0         0.012354          0.01081          0.008493           0.006563   \n",
       "\n",
       "   bin_1090.0_1160.0 bin_1160.0_1250.0  bin_1250.0_99999.0  \n",
       "0           0.003861          0.005019             0.01081  \n",
       "\n",
       "[1 rows x 51 columns]"
      ]
     },
     "execution_count": 12,
     "metadata": {},
     "output_type": "execute_result"
    }
   ],
   "source": [
    "df"
   ]
  },
  {
   "cell_type": "markdown",
   "id": "e40c37c2",
   "metadata": {},
   "source": [
    "### Save DataFrame to pickle file"
   ]
  },
  {
   "cell_type": "code",
   "execution_count": 13,
   "id": "b1ff15bc",
   "metadata": {},
   "outputs": [
    {
     "name": "stdout",
     "output_type": "stream",
     "text": [
      "Saving to ../DMSimp_axial_1j/Events/run_01/axial_cms_exo_20_004.pcl\n"
     ]
    }
   ],
   "source": [
    "print('Saving to',outputFile)\n",
    "df.to_pickle(outputFile)"
   ]
  },
  {
   "cell_type": "code",
   "execution_count": null,
   "id": "6b9fb3bf",
   "metadata": {},
   "outputs": [],
   "source": []
  }
 ],
 "metadata": {
  "kernelspec": {
   "display_name": "Python 3 (ipykernel)",
   "language": "python",
   "name": "python3"
  },
  "language_info": {
   "codemirror_mode": {
    "name": "ipython",
    "version": 3
   },
   "file_extension": ".py",
   "mimetype": "text/x-python",
   "name": "python",
   "nbconvert_exporter": "python",
   "pygments_lexer": "ipython3",
   "version": "3.10.6"
  }
 },
 "nbformat": 4,
 "nbformat_minor": 5
}
