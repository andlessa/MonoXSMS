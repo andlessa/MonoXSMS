{
 "cells": [
  {
   "cell_type": "code",
   "execution_count": 1,
   "id": "bb32bdd2",
   "metadata": {
    "ExecuteTime": {
     "end_time": "2023-02-14T22:39:54.663608Z",
     "start_time": "2023-02-14T22:39:53.989135Z"
    }
   },
   "outputs": [],
   "source": [
    "import sys,os,glob,copy\n",
    "sys.path.append('../')\n",
    "import numpy as np\n",
    "from numpy.linalg import norm\n",
    "import pandas as pd\n",
    "from matplotlib import pyplot as plt\n",
    "import seaborn as sns\n",
    "from scipy.interpolate import LinearNDInterpolator,interp2d, griddata\n",
    "from itertools import product\n",
    "import matplotlib as mpl\n",
    "from matplotlib.colors import LogNorm\n",
    "from IPython.display import display, Markdown\n",
    "import glob\n",
    "plt.rcParams.update({\n",
    "    \"text.usetex\": True,\n",
    "    \"font.family\": \"sans-serif\",\n",
    "    \"font.sans-serif\": [\"Helvetica\"]})\n",
    "\n",
    "plt.rcParams.update({\"savefig.dpi\" : 300}) #Figure resolution\n",
    "\n",
    "\n",
    "#Define plotting style:\n",
    "sns.set() #Set style\n",
    "sns.set_style('ticks',{'font.family':'Times New Roman', 'font.serif':'Times New Roman'})\n",
    "sns.set_context('paper', font_scale=1.8)\n",
    "cm = plt.cm.get_cmap('RdYlBu')\n",
    "\n",
    "\n",
    "pd.set_option('display.max_rows', 200)"
   ]
  },
  {
   "cell_type": "markdown",
   "id": "60aec053",
   "metadata": {},
   "source": [
    "### Load Recast Data"
   ]
  },
  {
   "cell_type": "code",
   "execution_count": 2,
   "id": "980a1aee",
   "metadata": {
    "ExecuteTime": {
     "end_time": "2023-02-14T22:39:55.887134Z",
     "start_time": "2023-02-14T22:39:55.883150Z"
    }
   },
   "outputs": [],
   "source": [
    "recastDataAxial = pd.read_pickle('../scanResults_axial.pcl')\n",
    "recastDataVector = pd.read_pickle('../scanResults_vector.pcl')"
   ]
  },
  {
   "cell_type": "markdown",
   "id": "cc6ba1ef",
   "metadata": {},
   "source": [
    "The efficiency for the $i$-th bin, $\\epsilon_{i}$, is given by:\n",
    "\n",
    "$$ \\epsilon_{i} = \\frac{n^{i}_{s}}{\\sigma_{T}\\mathcal{L}},   $$\n",
    "where $n^{i}_{s}$ is the number of events in the correspondent bin, $\\sigma_{T}$ is the total cross-section, and $\\mathcal{L}$ is the integrated luminosity.  "
   ]
  },
  {
   "cell_type": "markdown",
   "id": "e3a50a28",
   "metadata": {},
   "source": [
    "### Obtain efficiencies"
   ]
  },
  {
   "cell_type": "code",
   "execution_count": 4,
   "id": "6fb5dbea",
   "metadata": {
    "ExecuteTime": {
     "end_time": "2023-02-14T22:39:58.901143Z",
     "start_time": "2023-02-14T22:39:58.796826Z"
    }
   },
   "outputs": [],
   "source": [
    "def getBins(dfModel,rightBin = 2000.):\n",
    "    \n",
    "    bins = {c : eval(c.split('_')[1]) for c in dfModel.columns if (\"bin_\" in c and not 'Error' in c)}\n",
    "    binsError = {c : eval(c.split('_')[1]) for c in dfModel.columns if (\"bin_\" in c and 'ErrorPlus' in c)}    \n",
    "    binCenter = (np.array(list(bins.values()))+np.diff(list(bins.values())+[rightBin])/2).tolist()    \n",
    "    binLeft = [bins[c] for c in bins]+[rightBin] \n",
    "    \n",
    "    return bins,binsError,binCenter,binLeft\n",
    "\n",
    "bins, binsError, binCenter, binLeft = getBins(recastDataAxial)\n",
    "\n",
    "def getEfficiencies(dfSingle, bins):\n",
    "    \n",
    "    xsec = dfSingle['Total xsec (pb)'].iloc[0]\n",
    "    lumi = dfSingle['Luminosity (1/fb)'].iloc[0]\n",
    "    eff = {c : dfSingle[c].iloc[0]/(xsec*lumi) for c in bins}\n",
    "    \n",
    "    return eff"
   ]
  },
  {
   "cell_type": "code",
   "execution_count": 5,
   "id": "dfd1e6b6",
   "metadata": {},
   "outputs": [],
   "source": [
    "effA = getEfficiencies(recastDataAxial, bins)\n",
    "effV = getEfficiencies(recastDataVector, bins)"
   ]
  },
  {
   "cell_type": "markdown",
   "id": "506b253e",
   "metadata": {},
   "source": [
    "### Plot Efficiencies"
   ]
  },
  {
   "cell_type": "code",
   "execution_count": 8,
   "id": "9a91a098",
   "metadata": {
    "ExecuteTime": {
     "end_time": "2023-02-14T22:40:03.171065Z",
     "start_time": "2023-02-14T22:40:02.919493Z"
    }
   },
   "outputs": [
    {
     "data": {
      "image/png": "[encoded data removed]",
      "text/plain": [
       "<Figure size 640x480 with 1 Axes>"
      ]
     },
     "metadata": {},
     "output_type": "display_data"
    }
   ],
   "source": [
    "plt.scatter(x=binCenter, y=effA.values(), s=30, label='Axial')\n",
    "plt.scatter(x=binCenter, y=effV.values(), s=30, label='Vector')\n",
    "\n",
    "plt.xlabel(r'$p_{T}^{miss}$ (GeV)')\n",
    "\n",
    "plt.ylabel('Efficiency')\n",
    "plt.yscale('log')\n",
    "\n",
    "plt.legend()\n",
    "plt.show()"
   ]
  },
  {
   "cell_type": "code",
   "execution_count": null,
   "id": "ac3d4bbc",
   "metadata": {},
   "outputs": [],
   "source": []
  }
 ],
 "metadata": {
  "kernelspec": {
   "display_name": "Python 3 (ipykernel)",
   "language": "python",
   "name": "python3"
  },
  "language_info": {
   "codemirror_mode": {
    "name": "ipython",
    "version": 3
   },
   "file_extension": ".py",
   "mimetype": "text/x-python",
   "name": "python",
   "nbconvert_exporter": "python",
   "pygments_lexer": "ipython3",
   "version": "3.10.6"
  }
 },
 "nbformat": 4,
 "nbformat_minor": 5
}
