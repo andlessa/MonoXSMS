{
 "cells": [
  {
   "cell_type": "code",
   "execution_count": 1,
   "id": "bb32bdd2",
   "metadata": {
    "ExecuteTime": {
     "end_time": "2023-02-17T18:50:18.186381Z",
     "start_time": "2023-02-17T18:50:17.492121Z"
    }
   },
   "outputs": [],
   "source": [
    "import sys,os,glob,copy\n",
    "sys.path.append('../')\n",
    "import numpy as np\n",
    "from numpy.linalg import norm\n",
    "import pandas as pd\n",
    "from matplotlib import pyplot as plt\n",
    "import seaborn as sns\n",
    "from scipy.interpolate import LinearNDInterpolator,interp2d, griddata\n",
    "from itertools import product\n",
    "import matplotlib as mpl\n",
    "from matplotlib.colors import LogNorm\n",
    "from IPython.display import display, Markdown\n",
    "import glob\n",
    "plt.rcParams.update({\n",
    "    \"text.usetex\": True,\n",
    "    \"font.family\": \"sans-serif\",\n",
    "    \"font.sans-serif\": [\"Helvetica\"]})\n",
    "\n",
    "plt.rcParams.update({\"savefig.dpi\" : 300}) #Figure resolution\n",
    "\n",
    "\n",
    "#Define plotting style:\n",
    "sns.set() #Set style\n",
    "sns.set_style('ticks',{'font.family':'Times New Roman', 'font.serif':'Times New Roman'})\n",
    "sns.set_context('paper', font_scale=1.8)\n",
    "cm = plt.cm.get_cmap('RdYlBu')\n",
    "\n",
    "\n",
    "pd.set_option('display.max_rows', 200)"
   ]
  },
  {
   "cell_type": "markdown",
   "id": "60aec053",
   "metadata": {},
   "source": [
    "### Load Recast Data"
   ]
  },
  {
   "cell_type": "code",
   "execution_count": 2,
   "id": "1fae113c",
   "metadata": {
    "ExecuteTime": {
     "end_time": "2023-02-17T18:50:18.193170Z",
     "start_time": "2023-02-17T18:50:18.187856Z"
    }
   },
   "outputs": [],
   "source": [
    "inputFiles = ['../scanResults_axial.pcl', '../scanResults_vector.pcl']\n",
    "dfs = [pd.read_pickle(i) for i in inputFiles]\n",
    "recastData = pd.concat(dfs, ignore_index=True)"
   ]
  },
  {
   "cell_type": "markdown",
   "id": "8c9d042d",
   "metadata": {},
   "source": [
    "### Get all model points"
   ]
  },
  {
   "cell_type": "code",
   "execution_count": 3,
   "id": "377d3b1f",
   "metadata": {
    "ExecuteTime": {
     "end_time": "2023-02-17T18:50:18.628388Z",
     "start_time": "2023-02-17T18:50:18.194530Z"
    }
   },
   "outputs": [
    {
     "name": "stdout",
     "output_type": "stream",
     "text": [
      "353 models loaded.\n"
     ]
    }
   ],
   "source": [
    "models = []\n",
    "mCols = ['Coupling', 'Mode', '$m_{med}$', '$m_{DM}$', '$g_{DM}$', '$g_{q}$']\n",
    "for row in recastData[mCols].values:\n",
    "    m = dict(zip(mCols, row.tolist()))\n",
    "    if m not in models:\n",
    "        models.append(m)\n",
    "\n",
    "print('%i models loaded.' %len(models))"
   ]
  },
  {
   "cell_type": "markdown",
   "id": "15895a84",
   "metadata": {},
   "source": [
    "### Get models parameters"
   ]
  },
  {
   "cell_type": "code",
   "execution_count": 4,
   "id": "728ea499",
   "metadata": {
    "ExecuteTime": {
     "end_time": "2023-02-17T18:50:18.916586Z",
     "start_time": "2023-02-17T18:50:18.630797Z"
    }
   },
   "outputs": [
    {
     "name": "stdout",
     "output_type": "stream",
     "text": [
      "{'Coupling': ['Vector', 'Axial'], 'Mode': 'DM+QCDjets', '$m_{med}$': [450.0, 1250.0, 100.0, 2500.0, 200.0, 1000.0, 2250.0, 300.0, 750.0, 400.0, 2000.0, 500.0, 1750.0, 3000.0, 250.0, 1500.0, 2750.0], '$m_{DM}$': [1.0, 900.0, 1400.0, 650.0, 400.0, 150.0, 30.0, 800.0, 40.0, 300.0, 45.0, 1200.0, 50.0, 55.0, 700.0, 60.0, 450.0, 70.0, 200.0, 75.0, 1100.0, 80.0, 600.0, 90.0, 1500.0, 350.0, 100.0, 1000.0, 750.0, 500.0, 120.0, 250.0], '$g_{DM}$': 1.0, '$g_{q}$': 0.25}\n",
      "Coupling = ['Vector', 'Axial']\n",
      "Mode = DM+QCDjets\n",
      "$g_{DM}$ = 1.0\n",
      "$g_{q}$ = 0.25\n"
     ]
    }
   ],
   "source": [
    "parameters = {label : list(set([m[label] for m in models])) for label in mCols}\n",
    "for k,v in parameters.items():\n",
    "    if len(v) == 1:\n",
    "        parameters[k] = v[0]\n",
    "print(parameters)\n",
    "\n",
    "textstr = '\\n'.join([r'%s = %s' %(k,v) for k,v in parameters.items() if k not in ['$m_{med}$','$m_{DM}$']])\n",
    "print(textstr)"
   ]
  },
  {
   "cell_type": "markdown",
   "id": "7261cbb7",
   "metadata": {},
   "source": [
    "### Filter parameters"
   ]
  },
  {
   "cell_type": "code",
   "execution_count": 13,
   "id": "733347e8",
   "metadata": {
    "ExecuteTime": {
     "end_time": "2023-02-17T18:50:20.177583Z",
     "start_time": "2023-02-17T18:50:20.156959Z"
    }
   },
   "outputs": [],
   "source": [
    "paramFilter = {\n",
    "    'Mode' : 'DM+QCDjets',\n",
    "    '$m_{med}$' : 100.,\n",
    "    '$m_{DM}$' : 1.,\n",
    "    '$g_{DM}$' : 1.,\n",
    "    '$g_{q}$' : .25,\n",
    "    'Data-takingperiod' : 2018\n",
    "}\n",
    "\n",
    "textstr = '\\n'.join([r'%s = %s' %(k,v) for k,v in paramFilter.items()])\n",
    "dfModel = recastData.loc[(recastData[list(paramFilter)] == pd.Series(paramFilter)).all(axis=1)]"
   ]
  },
  {
   "cell_type": "markdown",
   "id": "cc6ba1ef",
   "metadata": {},
   "source": [
    "The efficiency for the $i$-th bin, $\\epsilon_{i}$, is given by:\n",
    "\n",
    "$$ \\epsilon_{i} = \\frac{n^{i}_{s}}{\\sigma_{T}\\mathcal{L}},   $$\n",
    "where $n^{i}_{s}$ is the number of events in the correspondent bin, $\\sigma_{T}$ is the total cross-section, and $\\mathcal{L}$ is the integrated luminosity.  "
   ]
  },
  {
   "cell_type": "markdown",
   "id": "3771ebb8",
   "metadata": {},
   "source": [
    "### Auxiliar functions for plotting"
   ]
  },
  {
   "cell_type": "code",
   "execution_count": 11,
   "id": "146a828f",
   "metadata": {
    "ExecuteTime": {
     "end_time": "2023-02-17T18:50:22.841482Z",
     "start_time": "2023-02-17T18:50:22.834624Z"
    }
   },
   "outputs": [],
   "source": [
    "def getBins(dfModel,rightBin = 2000.):\n",
    "    \n",
    "    bins = {c : eval(c.split('_')[1]) for c in dfModel.columns if (\"bin_\" in c and not 'Error' in c)}\n",
    "    binsError = {c : eval(c.split('_')[1]) for c in dfModel.columns if (\"bin_\" in c and 'ErrorPlus' in c)}    \n",
    "    binCenter = (np.array(list(bins.values()))+np.diff(list(bins.values())+[rightBin])/2).tolist()    \n",
    "    binLeft = [bins[c] for c in bins]+[rightBin] \n",
    "    \n",
    "    return bins,binsError,binCenter,binLeft\n",
    "\n",
    "\n",
    "def getEfficiencies(dfSingle, bins):\n",
    "    \n",
    "    xsec = dfSingle['Total xsec (pb)'].iloc[0]\n",
    "    lumi = dfSingle['Luminosity (1/fb)'].iloc[0]\n",
    "    eff = {c : dfSingle[c].iloc[0]/(xsec*lumi) for c in bins}\n",
    "    \n",
    "    return eff"
   ]
  },
  {
   "cell_type": "markdown",
   "id": "506b253e",
   "metadata": {},
   "source": [
    "### Plot Efficiencies"
   ]
  },
  {
   "cell_type": "code",
   "execution_count": 56,
   "id": "71bc574f",
   "metadata": {},
   "outputs": [
    {
     "data": {
      "image/png": "[encoded data removed]",
      "text/plain": [
       "<Figure size 800x600 with 2 Axes>"
      ]
     },
     "metadata": {},
     "output_type": "display_data"
    }
   ],
   "source": [
    "bins, binsError, binCenter, binLeft = getBins(dfModel)\n",
    "\n",
    "fig, ax = plt.subplots(2,sharex=True, gridspec_kw = {'height_ratios':[2, 1]},figsize=(8,6))\n",
    "\n",
    "data = pd.DataFrame(columns=['Axial', 'Vector'])\n",
    "\n",
    "for label in dfModel['Coupling']:\n",
    "    dfSingle = dfModel[dfModel['Coupling'] == label]\n",
    "    data[label] = getEfficiencies(dfSingle, bins)\n",
    "    eff = np.array([data[label][c] for c in bins])\n",
    "    \n",
    "    ax[0].scatter(x=binCenter, y=eff, s=30, color=colors[label], label=label)\n",
    "\n",
    "diff = np.abs(data.Axial - data.Vector)/data.Axial\n",
    "\n",
    "ax[1].plot(binCenter, diff, color=colors[label])\n",
    "\n",
    "    \n",
    "ax[0].set_yscale('log')\n",
    "ax[0].text(.4, 2.4, textstr, fontsize=11, bbox=dict(facecolor='none', edgecolor='black'), \n",
    "           transform=plt.gca().transAxes)\n",
    "\n",
    "\n",
    "\n",
    "ax[0].set_ylabel('Efficiency')\n",
    "ax[0].legend()\n",
    "\n",
    "ax[1].set_ylim(0., 1.1)\n",
    "ax[1].grid(True)\n",
    "ax[1].set_yticks([0., 0.2, 0.4, 0.5, 1.])\n",
    "ax[1].set_xlabel(r'$p_{T}^{miss}$ (GeV)')\n",
    "ax[1].set_ylabel('Relative diff.')\n",
    "\n",
    "plt.show()"
   ]
  },
  {
   "cell_type": "code",
   "execution_count": 52,
   "id": "698aca2d",
   "metadata": {},
   "outputs": [
    {
     "data": {
      "text/plain": [
       "bin_250.0_280.0      0.043495\n",
       "bin_280.0_310.0      0.176773\n",
       "bin_310.0_340.0      0.082063\n",
       "bin_340.0_370.0      0.037195\n",
       "bin_370.0_400.0      0.189864\n",
       "bin_400.0_430.0      0.147349\n",
       "bin_430.0_470.0      0.353751\n",
       "bin_470.0_510.0      0.241670\n",
       "bin_510.0_550.0      0.093875\n",
       "bin_550.0_590.0      0.338320\n",
       "bin_590.0_640.0      0.210948\n",
       "bin_640.0_690.0      0.283898\n",
       "bin_690.0_740.0      0.175943\n",
       "bin_740.0_790.0      0.571826\n",
       "bin_790.0_840.0      0.535914\n",
       "bin_840.0_900.0      1.051137\n",
       "bin_900.0_960.0      0.590728\n",
       "bin_960.0_1020.0     0.767299\n",
       "bin_1020.0_1090.0    0.089814\n",
       "bin_1090.0_1160.0         NaN\n",
       "bin_1160.0_1250.0         NaN\n",
       "bin_1250.0_1400.0    2.123644\n",
       "dtype: float64"
      ]
     },
     "execution_count": 52,
     "metadata": {},
     "output_type": "execute_result"
    }
   ],
   "source": [
    "diff"
   ]
  },
  {
   "cell_type": "code",
   "execution_count": null,
   "id": "8385040b",
   "metadata": {},
   "outputs": [],
   "source": []
  }
 ],
 "metadata": {
  "kernelspec": {
   "display_name": "Python 3 (ipykernel)",
   "language": "python",
   "name": "python3"
  },
  "language_info": {
   "codemirror_mode": {
    "name": "ipython",
    "version": 3
   },
   "file_extension": ".py",
   "mimetype": "text/x-python",
   "name": "python",
   "nbconvert_exporter": "python",
   "pygments_lexer": "ipython3",
   "version": "3.10.6"
  },
  "vscode": {
   "interpreter": {
    "hash": "916dbcbb3f70747c44a77c7bcd40155683ae19c65e1c03b4aa3499c5328201f1"
   }
  }
 },
 "nbformat": 4,
 "nbformat_minor": 5
}
