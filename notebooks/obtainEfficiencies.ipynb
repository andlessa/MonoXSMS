{
 "cells": [
  {
   "cell_type": "code",
   "execution_count": 1,
   "id": "bb32bdd2",
   "metadata": {
    "ExecuteTime": {
     "end_time": "2023-02-14T22:39:54.663608Z",
     "start_time": "2023-02-14T22:39:53.989135Z"
    }
   },
   "outputs": [],
   "source": [
    "import sys,os,glob,copy\n",
    "sys.path.append('../')\n",
    "import numpy as np\n",
    "from numpy.linalg import norm\n",
    "import pandas as pd\n",
    "from matplotlib import pyplot as plt\n",
    "import seaborn as sns\n",
    "from scipy.interpolate import LinearNDInterpolator,interp2d, griddata\n",
    "from itertools import product\n",
    "import matplotlib as mpl\n",
    "from matplotlib.colors import LogNorm\n",
    "from IPython.display import display, Markdown\n",
    "import glob\n",
    "plt.rcParams.update({\n",
    "    \"text.usetex\": True,\n",
    "    \"font.family\": \"sans-serif\",\n",
    "    \"font.sans-serif\": [\"Helvetica\"]})\n",
    "\n",
    "plt.rcParams.update({\"savefig.dpi\" : 300}) #Figure resolution\n",
    "\n",
    "\n",
    "#Define plotting style:\n",
    "sns.set() #Set style\n",
    "sns.set_style('ticks',{'font.family':'Times New Roman', 'font.serif':'Times New Roman'})\n",
    "sns.set_context('paper', font_scale=1.8)\n",
    "cm = plt.cm.get_cmap('RdYlBu')\n",
    "\n",
    "\n",
    "pd.set_option('display.max_rows', 200)"
   ]
  },
  {
   "cell_type": "markdown",
   "id": "60aec053",
   "metadata": {},
   "source": [
    "### Load Recast Data"
   ]
  },
  {
   "cell_type": "code",
   "execution_count": 2,
   "id": "1fae113c",
   "metadata": {},
   "outputs": [],
   "source": [
    "inputFiles = ['../scanResults_axial.pcl', '../scanResults_vector.pcl']\n",
    "dfs = [pd.read_pickle(i) for i in inputFiles]\n",
    "recastData = pd.concat(dfs, ignore_index=True)"
   ]
  },
  {
   "cell_type": "markdown",
   "id": "8c9d042d",
   "metadata": {},
   "source": [
    "### Get all model points"
   ]
  },
  {
   "cell_type": "code",
   "execution_count": 3,
   "id": "377d3b1f",
   "metadata": {},
   "outputs": [
    {
     "name": "stdout",
     "output_type": "stream",
     "text": [
      "353 models loaded.\n"
     ]
    }
   ],
   "source": [
    "models = []\n",
    "mCols = ['Coupling', 'Mode', '$m_{med}$', '$m_{DM}$', '$g_{DM}$', '$g_{q}$']\n",
    "for row in recastData[mCols].values:\n",
    "    m = dict(zip(mCols, row.tolist()))\n",
    "    if m not in models:\n",
    "        models.append(m)\n",
    "\n",
    "print('%i models loaded.' %len(models))"
   ]
  },
  {
   "cell_type": "markdown",
   "id": "15895a84",
   "metadata": {},
   "source": [
    "### Get models parameters"
   ]
  },
  {
   "cell_type": "code",
   "execution_count": 4,
   "id": "728ea499",
   "metadata": {},
   "outputs": [
    {
     "name": "stdout",
     "output_type": "stream",
     "text": [
      "{'Coupling': ['Axial', 'Vector'], 'Mode': 'DM+QCDjets', '$m_{med}$': [450.0, 1250.0, 100.0, 2500.0, 200.0, 1000.0, 2250.0, 300.0, 750.0, 400.0, 2000.0, 500.0, 1750.0, 3000.0, 250.0, 1500.0, 2750.0], '$m_{DM}$': [1.0, 900.0, 1400.0, 650.0, 400.0, 150.0, 30.0, 800.0, 40.0, 300.0, 45.0, 1200.0, 50.0, 55.0, 700.0, 60.0, 450.0, 70.0, 200.0, 75.0, 1100.0, 80.0, 600.0, 90.0, 1500.0, 350.0, 100.0, 1000.0, 750.0, 500.0, 120.0, 250.0], '$g_{DM}$': 1.0, '$g_{q}$': 0.25}\n",
      "Coupling = ['Axial', 'Vector']\n",
      "Mode = DM+QCDjets\n",
      "$g_{DM}$ = 1.0\n",
      "$g_{q}$ = 0.25\n"
     ]
    }
   ],
   "source": [
    "parameters = {label : list(set([m[label] for m in models])) for label in mCols}\n",
    "for k,v in parameters.items():\n",
    "    if len(v) == 1:\n",
    "        parameters[k] = v[0]\n",
    "print(parameters)\n",
    "\n",
    "textstr = '\\n'.join([r'%s = %s' %(k,v) for k,v in parameters.items() if k not in ['$m_{med}$','$m_{DM}$']])\n",
    "print(textstr)"
   ]
  },
  {
   "cell_type": "markdown",
   "id": "7261cbb7",
   "metadata": {},
   "source": [
    "### Filter parameters"
   ]
  },
  {
   "cell_type": "code",
   "execution_count": 5,
   "id": "733347e8",
   "metadata": {},
   "outputs": [],
   "source": [
    "paramFilter = {\n",
    "    'Mode' : 'DM+QCDjets',\n",
    "    '$m_{med}$' : 100.,\n",
    "    '$m_{DM}$' : 1.,\n",
    "    '$g_{DM}$' : 1.,\n",
    "    '$g_{q}$' : .25,\n",
    "    'Data-takingperiod' : 2018\n",
    "}\n",
    "\n",
    "textstr = '\\n'.join([r'%s = %s' %(k,v) for k,v in paramFilter.items()])\n",
    "dfModel = recastData.loc[(recastData[list(paramFilter)] == pd.Series(paramFilter)).all(axis=1)]"
   ]
  },
  {
   "cell_type": "markdown",
   "id": "cc6ba1ef",
   "metadata": {},
   "source": [
    "The efficiency for the $i$-th bin, $\\epsilon_{i}$, is given by:\n",
    "\n",
    "$$ \\epsilon_{i} = \\frac{n^{i}_{s}}{\\sigma_{T}\\mathcal{L}},   $$\n",
    "where $n^{i}_{s}$ is the number of events in the correspondent bin, $\\sigma_{T}$ is the total cross-section, and $\\mathcal{L}$ is the integrated luminosity.  "
   ]
  },
  {
   "cell_type": "markdown",
   "id": "3771ebb8",
   "metadata": {},
   "source": [
    "### Auxiliar functions for plotting"
   ]
  },
  {
   "cell_type": "code",
   "execution_count": 6,
   "id": "146a828f",
   "metadata": {},
   "outputs": [],
   "source": [
    "def getBins(dfModel,rightBin = 2000.):\n",
    "    \n",
    "    bins = {c : eval(c.split('_')[1]) for c in dfModel.columns if (\"bin_\" in c and not 'Error' in c)}\n",
    "    binsError = {c : eval(c.split('_')[1]) for c in dfModel.columns if (\"bin_\" in c and 'ErrorPlus' in c)}    \n",
    "    binCenter = (np.array(list(bins.values()))+np.diff(list(bins.values())+[rightBin])/2).tolist()    \n",
    "    binLeft = [bins[c] for c in bins]+[rightBin] \n",
    "    \n",
    "    return bins,binsError,binCenter,binLeft\n",
    "\n",
    "\n",
    "def getEfficiencies(dfSingle, bins):\n",
    "    \n",
    "    xsec = dfSingle['Total xsec (pb)'].iloc[0]\n",
    "    lumi = dfSingle['Luminosity (1/fb)'].iloc[0]\n",
    "    eff = {c : dfSingle[c].iloc[0]/(xsec*lumi) for c in bins}\n",
    "    \n",
    "    return eff"
   ]
  },
  {
   "cell_type": "markdown",
   "id": "506b253e",
   "metadata": {},
   "source": [
    "### Plot Efficiencies"
   ]
  },
  {
   "cell_type": "code",
   "execution_count": 7,
   "id": "413d2db4",
   "metadata": {},
   "outputs": [
    {
     "data": {
      "image/png": "[encoded data removed]",
      "text/plain": [
       "<Figure size 640x480 with 1 Axes>"
      ]
     },
     "metadata": {},
     "output_type": "display_data"
    }
   ],
   "source": [
    "bins, binsError, binCenter, binLeft = getBins(dfModel)\n",
    "\n",
    "data = {}\n",
    "for label in dfModel['Coupling']:\n",
    "    dfSingle = dfModel[dfModel['Coupling'] == label]\n",
    "    data[label] = getEfficiencies(dfSingle, bins)\n",
    "    \n",
    "\n",
    "colors = {label : sns.color_palette('deep')[i] for i, label, in enumerate(data.keys())}\n",
    "\n",
    "for label in data:\n",
    "    eff = np.array([data[label][c] for c in bins])\n",
    "    plt.scatter(x=binCenter, y=eff, s=30, color=colors[label], label=label)\n",
    "\n",
    "plt.xlabel(r'$p_{T}^{miss}$ (GeV)')\n",
    "\n",
    "plt.ylabel('Efficiency')\n",
    "plt.yscale('log')\n",
    "\n",
    "plt.text(.53, .4, textstr, fontsize=14, bbox=dict(facecolor='none', edgecolor='black'), transform=plt.gca().transAxes)\n",
    "\n",
    "plt.legend()\n",
    "plt.show()\n",
    " "
   ]
  },
  {
   "cell_type": "code",
   "execution_count": 1,
   "id": "7f43b0b1",
   "metadata": {},
   "outputs": [],
   "source": [
    "import sys,os,glob,copy\n",
    "sys.path.append('../')\n",
    "import numpy as np\n",
    "from numpy.linalg import norm\n",
    "import pandas as pd\n",
    "from matplotlib import pyplot as plt\n",
    "import seaborn as sns\n",
    "from scipy.interpolate import LinearNDInterpolator,interp2d, griddata\n",
    "from itertools import product\n",
    "import matplotlib as mpl\n",
    "from matplotlib.colors import LogNorm\n",
    "from IPython.display import display, Markdown\n",
    "import glob\n",
    "plt.rcParams.update({\n",
    "    \"text.usetex\": True,\n",
    "    \"font.family\": \"sans-serif\",\n",
    "    \"font.sans-serif\": [\"Helvetica\"]})\n",
    "\n",
    "plt.rcParams.update({\"savefig.dpi\" : 300}) #Figure resolution\n",
    "\n",
    "\n",
    "#Define plotting style:\n",
    "sns.set() #Set style\n",
    "sns.set_style('ticks',{'font.family':'Times New Roman', 'font.serif':'Times New Roman'})\n",
    "sns.set_context('paper', font_scale=1.8)\n",
    "cm = plt.cm.get_cmap('RdYlBu')\n",
    "\n",
    "\n",
    "pd.set_option('display.max_rows', 200)"
   ]
  },
  {
   "cell_type": "code",
   "execution_count": 2,
   "id": "4165e22a",
   "metadata": {},
   "outputs": [],
   "source": [
    "inputFiles = ['../scanResults_axial.pcl', '../scanResults_vector.pcl']\n",
    "dfs = [pd.read_pickle(i) for i in inputFiles]\n",
    "recastData = pd.concat(dfs, ignore_index=True)"
   ]
  },
  {
   "cell_type": "code",
   "execution_count": 3,
   "id": "4e5f4292",
   "metadata": {},
   "outputs": [
    {
     "name": "stdout",
     "output_type": "stream",
     "text": [
      "353 models loaded.\n"
     ]
    }
   ],
   "source": [
    "models = []\n",
    "mCols = ['Coupling', 'Mode', '$m_{med}$', '$m_{DM}$']\n",
    "for row in recastData[mCols].values:\n",
    "    m = dict(zip(mCols, row.tolist()))\n",
    "    if m not in models:\n",
    "        models.append(m)\n",
    "\n",
    "print('%i models loaded.' %len(models))"
   ]
  },
  {
   "cell_type": "code",
   "execution_count": 7,
   "id": "87e24522",
   "metadata": {},
   "outputs": [],
   "source": [
    "for im, m in enumerate(models):\n",
    "\n",
    "    dfModel = recastData.loc[(recastData[list(m)] == pd.Series(m)).all(axis=1)]\n",
    "    ns = []\n",
    "    "
   ]
  },
  {
   "cell_type": "code",
   "execution_count": null,
   "id": "33abb426",
   "metadata": {},
   "outputs": [],
   "source": []
  }
 ],
 "metadata": {
  "kernelspec": {
   "display_name": "Python 3",
   "language": "python",
   "name": "python3"
  },
  "language_info": {
   "codemirror_mode": {
    "name": "ipython",
    "version": 3
   },
   "file_extension": ".py",
   "mimetype": "text/x-python",
   "name": "python",
   "nbconvert_exporter": "python",
   "pygments_lexer": "ipython3",
   "version": "3.10.6"
  },
  "vscode": {
   "interpreter": {
    "hash": "916dbcbb3f70747c44a77c7bcd40155683ae19c65e1c03b4aa3499c5328201f1"
   }
  }
 },
 "nbformat": 4,
 "nbformat_minor": 5
}
