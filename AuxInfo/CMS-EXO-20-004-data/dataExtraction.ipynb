{
 "cells": [
  {
   "cell_type": "code",
   "execution_count": 1,
   "id": "a581cdcd",
   "metadata": {},
   "outputs": [],
   "source": [
    "import numpy as np\n",
    "import pandas as pd\n",
    "import os,sys"
   ]
  },
  {
   "cell_type": "code",
   "execution_count": 2,
   "id": "e453fdde",
   "metadata": {},
   "outputs": [],
   "source": [
    "inputFile = './HEPData-ins1894408-v2-csv/Signaltemplates,DMsimp,spin-1,Monojet.csv'\n",
    "# inputFile = './HEPData-ins1894408-v2-csv/CutflowforMonojet,DM,spin-1mediator.csv'"
   ]
  },
  {
   "cell_type": "code",
   "execution_count": 3,
   "id": "4e5e0573",
   "metadata": {},
   "outputs": [],
   "source": [
    "# Try to evaluate data if possible\n",
    "def myeval(s):\n",
    "    s = s.replace('#:','')\n",
    "    s = s.strip()\n",
    "    s = s.replace(' ','')\n",
    "    try:\n",
    "        return eval(s)\n",
    "    except (ValueError,NameError,SyntaxError):\n",
    "        return s\n",
    "\n",
    "# Set default column names    \n",
    "def fixColumnLabel(c):\n",
    "\n",
    "    newC = c[:]\n",
    "    newC = newC.replace('Coupling type','Coupling')\n",
    "    newC = newC.replace('Production mode','Mode')\n",
    "    newC = newC.replace('#:','').replace(' ','')\n",
    "    newC = newC.replace(',','')\n",
    "    while newC[-1] == '_':\n",
    "        newC = newC[:-1]\n",
    "    \n",
    "    return newC\n",
    "\n",
    "def getDictFrom(block):\n",
    "    \n",
    "    blockDict = {}\n",
    "    isBins = False\n",
    "    for line in block.split('\\n'):\n",
    "        if 'Recoil (GeV),Recoil (GeV) LOW,Recoil (GeV) HIGH' in line:\n",
    "            isBins = True\n",
    "            continue\n",
    "        elif 'Cut stage,Fraction of passing events' in line:\n",
    "            continue\n",
    "        if len(line.split(',')) < 2:\n",
    "            continue\n",
    "        \n",
    "        values = line.split(',')\n",
    "        if isBins:\n",
    "            binErrorPlus = myeval(values[-2])\n",
    "            binErrorMinus = myeval(values[-1])            \n",
    "            values = values[1:4]\n",
    "            values[0] = 'bin_'+values[0]\n",
    "        columnName = '_'.join([v for v in values[:-1] if len(v.strip()) > 0])\n",
    "        columnName = fixColumnLabel(columnName)\n",
    "        val = myeval(values[-1])\n",
    "        blockDict[columnName] = [val]\n",
    "        if isBins:\n",
    "            columnsNameErrorPlus = columnName+'_ErrorPlus'\n",
    "            columnsNameErrorMinus = columnName+'_ErrorMinus'\n",
    "            blockDict[columnsNameErrorPlus] = [binErrorPlus]\n",
    "            blockDict[columnsNameErrorMinus] = [binErrorMinus]\n",
    "        \n",
    "    \n",
    "    return blockDict"
   ]
  },
  {
   "cell_type": "code",
   "execution_count": 4,
   "id": "fab99f73",
   "metadata": {},
   "outputs": [],
   "source": [
    "# Get blocks for each parameter point (it is assumed they are separated by the '#: Coupling' tag)\n",
    "with open(inputFile,'r') as f:\n",
    "    data = f.read()\n",
    "    blocks = data.split('#: Coupling')\n",
    "    for ib,b in enumerate(blocks):\n",
    "        blocks[ib] = 'Coupling'+b\n",
    "# Skip header\n",
    "blocks = blocks[1:]"
   ]
  },
  {
   "cell_type": "code",
   "execution_count": 5,
   "id": "45b8acc3",
   "metadata": {},
   "outputs": [],
   "source": [
    "# Define data frame from first block:\n",
    "df = pd.DataFrame(getDictFrom(blocks[0]))\n",
    "\n",
    "# Add remaining blocks to dataframe\n",
    "for b in blocks[1:]:\n",
    "    newDF = pd.DataFrame(getDictFrom(b))\n",
    "    df = pd.concat([df,newDF],ignore_index=True)\n",
    "    \n",
    "# Sort according to model point\n",
    "df.sort_values(['Coupling','Mode','$m_{med}$','$m_{DM}$','Data-takingperiod'],inplace=True,\n",
    "              ascending=[False,False,True,True,True])    "
   ]
  },
  {
   "cell_type": "code",
   "execution_count": 6,
   "id": "565fe72d",
   "metadata": {},
   "outputs": [
    {
     "name": "stdout",
     "output_type": "stream",
     "text": [
      "Saving to Signaltemplates_DMsimp_spin-1_Monojet_DF.pcl\n"
     ]
    }
   ],
   "source": [
    "# Save to pickle file\n",
    "pickleFile = os.path.basename(inputFile).replace(',','_')\n",
    "pickleFile = os.path.splitext(pickleFile)[0]\n",
    "pickleFile = pickleFile+'_DF.pcl'\n",
    "print('Saving to',pickleFile)\n",
    "df.to_pickle(pickleFile)"
   ]
  }
 ],
 "metadata": {
  "kernelspec": {
   "display_name": "Python 3 (ipykernel)",
   "language": "python",
   "name": "python3"
  },
  "language_info": {
   "codemirror_mode": {
    "name": "ipython",
    "version": 3
   },
   "file_extension": ".py",
   "mimetype": "text/x-python",
   "name": "python",
   "nbconvert_exporter": "python",
   "pygments_lexer": "ipython3",
   "version": "3.9.7"
  }
 },
 "nbformat": 4,
 "nbformat_minor": 5
}
